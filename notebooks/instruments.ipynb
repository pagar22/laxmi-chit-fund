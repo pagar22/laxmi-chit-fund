{
 "cells": [
  {
   "cell_type": "code",
   "execution_count": 146,
   "metadata": {},
   "outputs": [],
   "source": [
    "import numpy as np\n",
    "import pandas as pd"
   ]
  },
  {
   "cell_type": "code",
   "execution_count": 147,
   "metadata": {},
   "outputs": [],
   "source": [
    "import requests\n",
    "base_url = \"http://localhost:7999\"\n",
    "upstox_url = \"https://api.upstox.com/v2\""
   ]
  },
  {
   "cell_type": "markdown",
   "metadata": {},
   "source": [
    "### NSE Tickers Wrangling"
   ]
  },
  {
   "cell_type": "code",
   "execution_count": 148,
   "metadata": {},
   "outputs": [
    {
     "data": {
      "text/html": [
       "<div>\n",
       "<style scoped>\n",
       "    .dataframe tbody tr th:only-of-type {\n",
       "        vertical-align: middle;\n",
       "    }\n",
       "\n",
       "    .dataframe tbody tr th {\n",
       "        vertical-align: top;\n",
       "    }\n",
       "\n",
       "    .dataframe thead th {\n",
       "        text-align: right;\n",
       "    }\n",
       "</style>\n",
       "<table border=\"1\" class=\"dataframe\">\n",
       "  <thead>\n",
       "    <tr style=\"text-align: right;\">\n",
       "      <th></th>\n",
       "      <th>instrument_key</th>\n",
       "      <th>exchange_token</th>\n",
       "      <th>tradingsymbol</th>\n",
       "      <th>name</th>\n",
       "      <th>last_price</th>\n",
       "      <th>expiry</th>\n",
       "      <th>strike</th>\n",
       "      <th>tick_size</th>\n",
       "      <th>lot_size</th>\n",
       "      <th>instrument_type</th>\n",
       "      <th>option_type</th>\n",
       "      <th>exchange</th>\n",
       "    </tr>\n",
       "  </thead>\n",
       "  <tbody>\n",
       "    <tr>\n",
       "      <th>0</th>\n",
       "      <td>NSE_INDEX|Nifty 50</td>\n",
       "      <td>17.0</td>\n",
       "      <td>NaN</td>\n",
       "      <td>Nifty 50</td>\n",
       "      <td>21995.85</td>\n",
       "      <td>NaN</td>\n",
       "      <td>NaN</td>\n",
       "      <td>NaN</td>\n",
       "      <td>NaN</td>\n",
       "      <td>INDEX</td>\n",
       "      <td>NaN</td>\n",
       "      <td>NSE_INDEX</td>\n",
       "    </tr>\n",
       "    <tr>\n",
       "      <th>1</th>\n",
       "      <td>NSE_INDEX|NIFTY100 EQL Wgt</td>\n",
       "      <td>NaN</td>\n",
       "      <td>NaN</td>\n",
       "      <td>NIFTY100 EQL Wgt</td>\n",
       "      <td>29240.40</td>\n",
       "      <td>NaN</td>\n",
       "      <td>NaN</td>\n",
       "      <td>NaN</td>\n",
       "      <td>NaN</td>\n",
       "      <td>INDEX</td>\n",
       "      <td>NaN</td>\n",
       "      <td>NSE_INDEX</td>\n",
       "    </tr>\n",
       "    <tr>\n",
       "      <th>2</th>\n",
       "      <td>NSE_INDEX|NIFTY50 EQL Wgt</td>\n",
       "      <td>NaN</td>\n",
       "      <td>NaN</td>\n",
       "      <td>NIFTY50 EQL Wgt</td>\n",
       "      <td>27648.65</td>\n",
       "      <td>NaN</td>\n",
       "      <td>NaN</td>\n",
       "      <td>NaN</td>\n",
       "      <td>NaN</td>\n",
       "      <td>INDEX</td>\n",
       "      <td>NaN</td>\n",
       "      <td>NSE_INDEX</td>\n",
       "    </tr>\n",
       "    <tr>\n",
       "      <th>3</th>\n",
       "      <td>NSE_INDEX|NiftyM150Momntm50</td>\n",
       "      <td>NaN</td>\n",
       "      <td>NaN</td>\n",
       "      <td>NiftyM150Momntm50</td>\n",
       "      <td>54049.45</td>\n",
       "      <td>NaN</td>\n",
       "      <td>NaN</td>\n",
       "      <td>NaN</td>\n",
       "      <td>NaN</td>\n",
       "      <td>INDEX</td>\n",
       "      <td>NaN</td>\n",
       "      <td>NSE_INDEX</td>\n",
       "    </tr>\n",
       "    <tr>\n",
       "      <th>4</th>\n",
       "      <td>NSE_INDEX|Nifty Auto</td>\n",
       "      <td>48.0</td>\n",
       "      <td>NaN</td>\n",
       "      <td>Nifty Auto</td>\n",
       "      <td>21520.75</td>\n",
       "      <td>NaN</td>\n",
       "      <td>NaN</td>\n",
       "      <td>NaN</td>\n",
       "      <td>NaN</td>\n",
       "      <td>INDEX</td>\n",
       "      <td>NaN</td>\n",
       "      <td>NSE_INDEX</td>\n",
       "    </tr>\n",
       "  </tbody>\n",
       "</table>\n",
       "</div>"
      ],
      "text/plain": [
       "                instrument_key  exchange_token tradingsymbol  \\\n",
       "0           NSE_INDEX|Nifty 50            17.0           NaN   \n",
       "1   NSE_INDEX|NIFTY100 EQL Wgt             NaN           NaN   \n",
       "2    NSE_INDEX|NIFTY50 EQL Wgt             NaN           NaN   \n",
       "3  NSE_INDEX|NiftyM150Momntm50             NaN           NaN   \n",
       "4         NSE_INDEX|Nifty Auto            48.0           NaN   \n",
       "\n",
       "                name  last_price expiry  strike  tick_size  lot_size  \\\n",
       "0           Nifty 50    21995.85    NaN     NaN        NaN       NaN   \n",
       "1   NIFTY100 EQL Wgt    29240.40    NaN     NaN        NaN       NaN   \n",
       "2    NIFTY50 EQL Wgt    27648.65    NaN     NaN        NaN       NaN   \n",
       "3  NiftyM150Momntm50    54049.45    NaN     NaN        NaN       NaN   \n",
       "4         Nifty Auto    21520.75    NaN     NaN        NaN       NaN   \n",
       "\n",
       "  instrument_type option_type   exchange  \n",
       "0           INDEX         NaN  NSE_INDEX  \n",
       "1           INDEX         NaN  NSE_INDEX  \n",
       "2           INDEX         NaN  NSE_INDEX  \n",
       "3           INDEX         NaN  NSE_INDEX  \n",
       "4           INDEX         NaN  NSE_INDEX  "
      ]
     },
     "execution_count": 148,
     "metadata": {},
     "output_type": "execute_result"
    }
   ],
   "source": [
    "instruments = pd.read_csv(\"data/upstox/NSE.csv\")\n",
    "instruments.head()"
   ]
  },
  {
   "cell_type": "code",
   "execution_count": 149,
   "metadata": {},
   "outputs": [
    {
     "data": {
      "text/html": [
       "<div>\n",
       "<style scoped>\n",
       "    .dataframe tbody tr th:only-of-type {\n",
       "        vertical-align: middle;\n",
       "    }\n",
       "\n",
       "    .dataframe tbody tr th {\n",
       "        vertical-align: top;\n",
       "    }\n",
       "\n",
       "    .dataframe thead th {\n",
       "        text-align: right;\n",
       "    }\n",
       "</style>\n",
       "<table border=\"1\" class=\"dataframe\">\n",
       "  <thead>\n",
       "    <tr style=\"text-align: right;\">\n",
       "      <th></th>\n",
       "      <th>instrument_key</th>\n",
       "      <th>exchange_token</th>\n",
       "      <th>tradingsymbol</th>\n",
       "      <th>name</th>\n",
       "      <th>last_price</th>\n",
       "      <th>expiry</th>\n",
       "      <th>strike</th>\n",
       "      <th>tick_size</th>\n",
       "      <th>lot_size</th>\n",
       "      <th>instrument_type</th>\n",
       "      <th>option_type</th>\n",
       "      <th>exchange</th>\n",
       "    </tr>\n",
       "  </thead>\n",
       "  <tbody>\n",
       "    <tr>\n",
       "      <th>77</th>\n",
       "      <td>NSE_EQ|DUMMYSAN005</td>\n",
       "      <td>14747.0</td>\n",
       "      <td>011NSETEST</td>\n",
       "      <td>011NSETEST</td>\n",
       "      <td>NaN</td>\n",
       "      <td>NaN</td>\n",
       "      <td>NaN</td>\n",
       "      <td>0.05</td>\n",
       "      <td>1.0</td>\n",
       "      <td>EQUITY</td>\n",
       "      <td>NaN</td>\n",
       "      <td>NSE_EQ</td>\n",
       "    </tr>\n",
       "    <tr>\n",
       "      <th>78</th>\n",
       "      <td>NSE_EQ|DUMMYSAN006</td>\n",
       "      <td>14751.0</td>\n",
       "      <td>021NSETEST</td>\n",
       "      <td>021NSETEST</td>\n",
       "      <td>NaN</td>\n",
       "      <td>NaN</td>\n",
       "      <td>NaN</td>\n",
       "      <td>0.05</td>\n",
       "      <td>1.0</td>\n",
       "      <td>EQUITY</td>\n",
       "      <td>NaN</td>\n",
       "      <td>NSE_EQ</td>\n",
       "    </tr>\n",
       "    <tr>\n",
       "      <th>79</th>\n",
       "      <td>NSE_EQ|DUMMYSAN007</td>\n",
       "      <td>14753.0</td>\n",
       "      <td>031NSETEST</td>\n",
       "      <td>031NSETEST</td>\n",
       "      <td>NaN</td>\n",
       "      <td>NaN</td>\n",
       "      <td>NaN</td>\n",
       "      <td>0.05</td>\n",
       "      <td>1.0</td>\n",
       "      <td>EQUITY</td>\n",
       "      <td>NaN</td>\n",
       "      <td>NSE_EQ</td>\n",
       "    </tr>\n",
       "    <tr>\n",
       "      <th>80</th>\n",
       "      <td>NSE_EQ|DUMMYSAN008</td>\n",
       "      <td>14755.0</td>\n",
       "      <td>041NSETEST</td>\n",
       "      <td>041NSETEST</td>\n",
       "      <td>NaN</td>\n",
       "      <td>NaN</td>\n",
       "      <td>NaN</td>\n",
       "      <td>0.05</td>\n",
       "      <td>1.0</td>\n",
       "      <td>EQUITY</td>\n",
       "      <td>NaN</td>\n",
       "      <td>NSE_EQ</td>\n",
       "    </tr>\n",
       "    <tr>\n",
       "      <th>81</th>\n",
       "      <td>NSE_EQ|DUMMYSAN009</td>\n",
       "      <td>14758.0</td>\n",
       "      <td>051NSETEST</td>\n",
       "      <td>051NSETEST</td>\n",
       "      <td>NaN</td>\n",
       "      <td>NaN</td>\n",
       "      <td>NaN</td>\n",
       "      <td>0.05</td>\n",
       "      <td>1.0</td>\n",
       "      <td>EQUITY</td>\n",
       "      <td>NaN</td>\n",
       "      <td>NSE_EQ</td>\n",
       "    </tr>\n",
       "  </tbody>\n",
       "</table>\n",
       "</div>"
      ],
      "text/plain": [
       "        instrument_key  exchange_token tradingsymbol        name  last_price  \\\n",
       "77  NSE_EQ|DUMMYSAN005         14747.0    011NSETEST  011NSETEST         NaN   \n",
       "78  NSE_EQ|DUMMYSAN006         14751.0    021NSETEST  021NSETEST         NaN   \n",
       "79  NSE_EQ|DUMMYSAN007         14753.0    031NSETEST  031NSETEST         NaN   \n",
       "80  NSE_EQ|DUMMYSAN008         14755.0    041NSETEST  041NSETEST         NaN   \n",
       "81  NSE_EQ|DUMMYSAN009         14758.0    051NSETEST  051NSETEST         NaN   \n",
       "\n",
       "   expiry  strike  tick_size  lot_size instrument_type option_type exchange  \n",
       "77    NaN     NaN       0.05       1.0          EQUITY         NaN   NSE_EQ  \n",
       "78    NaN     NaN       0.05       1.0          EQUITY         NaN   NSE_EQ  \n",
       "79    NaN     NaN       0.05       1.0          EQUITY         NaN   NSE_EQ  \n",
       "80    NaN     NaN       0.05       1.0          EQUITY         NaN   NSE_EQ  \n",
       "81    NaN     NaN       0.05       1.0          EQUITY         NaN   NSE_EQ  "
      ]
     },
     "execution_count": 149,
     "metadata": {},
     "output_type": "execute_result"
    }
   ],
   "source": [
    "equities = instruments.query('instrument_type == \"EQUITY\" and exchange == \"NSE_EQ\"')\n",
    "equities.head()"
   ]
  },
  {
   "cell_type": "code",
   "execution_count": 150,
   "metadata": {},
   "outputs": [
    {
     "data": {
      "text/html": [
       "<div>\n",
       "<style scoped>\n",
       "    .dataframe tbody tr th:only-of-type {\n",
       "        vertical-align: middle;\n",
       "    }\n",
       "\n",
       "    .dataframe tbody tr th {\n",
       "        vertical-align: top;\n",
       "    }\n",
       "\n",
       "    .dataframe thead th {\n",
       "        text-align: right;\n",
       "    }\n",
       "</style>\n",
       "<table border=\"1\" class=\"dataframe\">\n",
       "  <thead>\n",
       "    <tr style=\"text-align: right;\">\n",
       "      <th></th>\n",
       "      <th>instrument_key</th>\n",
       "      <th>exchange_token</th>\n",
       "      <th>tradingsymbol</th>\n",
       "      <th>name</th>\n",
       "      <th>last_price</th>\n",
       "      <th>expiry</th>\n",
       "      <th>strike</th>\n",
       "      <th>tick_size</th>\n",
       "      <th>lot_size</th>\n",
       "      <th>instrument_type</th>\n",
       "      <th>option_type</th>\n",
       "      <th>exchange</th>\n",
       "    </tr>\n",
       "  </thead>\n",
       "  <tbody>\n",
       "    <tr>\n",
       "      <th>0</th>\n",
       "      <td>NSE_INDEX|Nifty 50</td>\n",
       "      <td>17.0</td>\n",
       "      <td>NaN</td>\n",
       "      <td>Nifty 50</td>\n",
       "      <td>21995.85</td>\n",
       "      <td>NaN</td>\n",
       "      <td>NaN</td>\n",
       "      <td>NaN</td>\n",
       "      <td>NaN</td>\n",
       "      <td>INDEX</td>\n",
       "      <td>NaN</td>\n",
       "      <td>NSE_INDEX</td>\n",
       "    </tr>\n",
       "    <tr>\n",
       "      <th>1</th>\n",
       "      <td>NSE_INDEX|NIFTY100 EQL Wgt</td>\n",
       "      <td>NaN</td>\n",
       "      <td>NaN</td>\n",
       "      <td>NIFTY100 EQL Wgt</td>\n",
       "      <td>29240.40</td>\n",
       "      <td>NaN</td>\n",
       "      <td>NaN</td>\n",
       "      <td>NaN</td>\n",
       "      <td>NaN</td>\n",
       "      <td>INDEX</td>\n",
       "      <td>NaN</td>\n",
       "      <td>NSE_INDEX</td>\n",
       "    </tr>\n",
       "    <tr>\n",
       "      <th>2</th>\n",
       "      <td>NSE_INDEX|NIFTY50 EQL Wgt</td>\n",
       "      <td>NaN</td>\n",
       "      <td>NaN</td>\n",
       "      <td>NIFTY50 EQL Wgt</td>\n",
       "      <td>27648.65</td>\n",
       "      <td>NaN</td>\n",
       "      <td>NaN</td>\n",
       "      <td>NaN</td>\n",
       "      <td>NaN</td>\n",
       "      <td>INDEX</td>\n",
       "      <td>NaN</td>\n",
       "      <td>NSE_INDEX</td>\n",
       "    </tr>\n",
       "    <tr>\n",
       "      <th>3</th>\n",
       "      <td>NSE_INDEX|NiftyM150Momntm50</td>\n",
       "      <td>NaN</td>\n",
       "      <td>NaN</td>\n",
       "      <td>NiftyM150Momntm50</td>\n",
       "      <td>54049.45</td>\n",
       "      <td>NaN</td>\n",
       "      <td>NaN</td>\n",
       "      <td>NaN</td>\n",
       "      <td>NaN</td>\n",
       "      <td>INDEX</td>\n",
       "      <td>NaN</td>\n",
       "      <td>NSE_INDEX</td>\n",
       "    </tr>\n",
       "    <tr>\n",
       "      <th>4</th>\n",
       "      <td>NSE_INDEX|Nifty Auto</td>\n",
       "      <td>48.0</td>\n",
       "      <td>NaN</td>\n",
       "      <td>Nifty Auto</td>\n",
       "      <td>21520.75</td>\n",
       "      <td>NaN</td>\n",
       "      <td>NaN</td>\n",
       "      <td>NaN</td>\n",
       "      <td>NaN</td>\n",
       "      <td>INDEX</td>\n",
       "      <td>NaN</td>\n",
       "      <td>NSE_INDEX</td>\n",
       "    </tr>\n",
       "  </tbody>\n",
       "</table>\n",
       "</div>"
      ],
      "text/plain": [
       "                instrument_key  exchange_token tradingsymbol  \\\n",
       "0           NSE_INDEX|Nifty 50            17.0           NaN   \n",
       "1   NSE_INDEX|NIFTY100 EQL Wgt             NaN           NaN   \n",
       "2    NSE_INDEX|NIFTY50 EQL Wgt             NaN           NaN   \n",
       "3  NSE_INDEX|NiftyM150Momntm50             NaN           NaN   \n",
       "4         NSE_INDEX|Nifty Auto            48.0           NaN   \n",
       "\n",
       "                name  last_price expiry  strike  tick_size  lot_size  \\\n",
       "0           Nifty 50    21995.85    NaN     NaN        NaN       NaN   \n",
       "1   NIFTY100 EQL Wgt    29240.40    NaN     NaN        NaN       NaN   \n",
       "2    NIFTY50 EQL Wgt    27648.65    NaN     NaN        NaN       NaN   \n",
       "3  NiftyM150Momntm50    54049.45    NaN     NaN        NaN       NaN   \n",
       "4         Nifty Auto    21520.75    NaN     NaN        NaN       NaN   \n",
       "\n",
       "  instrument_type option_type   exchange  \n",
       "0           INDEX         NaN  NSE_INDEX  \n",
       "1           INDEX         NaN  NSE_INDEX  \n",
       "2           INDEX         NaN  NSE_INDEX  \n",
       "3           INDEX         NaN  NSE_INDEX  \n",
       "4           INDEX         NaN  NSE_INDEX  "
      ]
     },
     "execution_count": 150,
     "metadata": {},
     "output_type": "execute_result"
    }
   ],
   "source": [
    "indexes = instruments.query('instrument_type == \"INDEX\" and exchange == \"NSE_INDEX\"')\n",
    "indexes.head()"
   ]
  },
  {
   "cell_type": "markdown",
   "metadata": {},
   "source": [
    "GOAL ~ 2400 NSE listed companies\n",
    "Remove:\n",
    "- Government issued instruments\n",
    "- Anything with %\n",
    "- NSETEST"
   ]
  },
  {
   "cell_type": "code",
   "execution_count": 151,
   "metadata": {},
   "outputs": [
    {
     "data": {
      "text/plain": [
       "(2894, 12)"
      ]
     },
     "execution_count": 151,
     "metadata": {},
     "output_type": "execute_result"
    }
   ],
   "source": [
    "randoms = [\"%\", \"NSETEST\"]\n",
    "goi_issues = [\"GOI STRIPS\", \"GOI TBILL\", \"GOI LOAN\"]\n",
    "\n",
    "def remove_names(name):\n",
    "    return all(i not in name for i in randoms + goi_issues)\n",
    "\n",
    "equities = equities[equities[\"name\"].apply(lambda x: remove_names(x))]\n",
    "equities[\"exchange\"] = equities[\"exchange\"].str.replace(\"NSE_EQ\", \"NSE\")\n",
    "\n",
    "equities.shape\n"
   ]
  },
  {
   "cell_type": "markdown",
   "metadata": {},
   "source": [
    "Remove Indexes with no exchange token"
   ]
  },
  {
   "cell_type": "code",
   "execution_count": 152,
   "metadata": {},
   "outputs": [
    {
     "name": "stderr",
     "output_type": "stream",
     "text": [
      "/var/folders/lq/280gf8ld14v161g6ngpdjjnc0000gn/T/ipykernel_75490/3341430381.py:1: SettingWithCopyWarning: \n",
      "A value is trying to be set on a copy of a slice from a DataFrame\n",
      "\n",
      "See the caveats in the documentation: https://pandas.pydata.org/pandas-docs/stable/user_guide/indexing.html#returning-a-view-versus-a-copy\n",
      "  indexes.replace(np.nan, None, inplace=True)\n",
      "/var/folders/lq/280gf8ld14v161g6ngpdjjnc0000gn/T/ipykernel_75490/3341430381.py:2: SettingWithCopyWarning: \n",
      "A value is trying to be set on a copy of a slice from a DataFrame\n",
      "\n",
      "See the caveats in the documentation: https://pandas.pydata.org/pandas-docs/stable/user_guide/indexing.html#returning-a-view-versus-a-copy\n",
      "  indexes.dropna(subset=[\"exchange_token\"], inplace=True)\n",
      "/var/folders/lq/280gf8ld14v161g6ngpdjjnc0000gn/T/ipykernel_75490/3341430381.py:3: SettingWithCopyWarning: \n",
      "A value is trying to be set on a copy of a slice from a DataFrame.\n",
      "Try using .loc[row_indexer,col_indexer] = value instead\n",
      "\n",
      "See the caveats in the documentation: https://pandas.pydata.org/pandas-docs/stable/user_guide/indexing.html#returning-a-view-versus-a-copy\n",
      "  indexes[\"exchange\"] = indexes[\"exchange\"].str.replace(\"NSE_INDEX\", \"NSE\")\n"
     ]
    },
    {
     "data": {
      "text/plain": [
       "(43, 12)"
      ]
     },
     "execution_count": 152,
     "metadata": {},
     "output_type": "execute_result"
    }
   ],
   "source": [
    "indexes.replace(np.nan, None, inplace=True)\n",
    "indexes.dropna(subset=[\"exchange_token\"], inplace=True)\n",
    "indexes[\"exchange\"] = indexes[\"exchange\"].str.replace(\"NSE_INDEX\", \"NSE\")\n",
    "\n",
    "indexes.shape"
   ]
  },
  {
   "cell_type": "markdown",
   "metadata": {},
   "source": [
    "### POST Equities to BE"
   ]
  },
  {
   "cell_type": "code",
   "execution_count": 153,
   "metadata": {},
   "outputs": [],
   "source": [
    "rename_cols = {\n",
    "    \"tradingsymbol\": \"ticker\",\n",
    "    \"instrument_key\": \"upstox_instrument_key\"\n",
    "}\n",
    "cols = [\"exchange\", \"exchange_token\", \"name\", \"ticker\", \"instrument_type\", \"upstox_instrument_key\", \"lot_size\"]\n"
   ]
  },
  {
   "cell_type": "code",
   "execution_count": 60,
   "metadata": {},
   "outputs": [],
   "source": [
    "def post_tickers(tickers):\n",
    "    s, f = 0, 0\n",
    "    failed = []\n",
    "    for p in tickers:\n",
    "        resp = requests.post(base_url + \"/tickers/\", json=p)\n",
    "        if resp.status_code == 201:\n",
    "            s += 1\n",
    "        else:\n",
    "            f += 1\n",
    "            failed.append(p)\n",
    "            print(resp.json())\n",
    "    return s, f, failed"
   ]
  },
  {
   "cell_type": "code",
   "execution_count": 62,
   "metadata": {},
   "outputs": [
    {
     "name": "stdout",
     "output_type": "stream",
     "text": [
      "Success: 2894, Failure: 0\n",
      "Failed []\n"
     ]
    }
   ],
   "source": [
    "equities.rename(columns=rename_cols, inplace=True)\n",
    "payload = equities[cols].to_dict(orient=\"records\")\n",
    "\n",
    "s, f, failed = post_tickers(payload)\n",
    "\n",
    "print(f\"Success: {s}, Failure: {f}\")\n",
    "print(f\"Failed {failed}\")\n"
   ]
  },
  {
   "cell_type": "code",
   "execution_count": null,
   "metadata": {},
   "outputs": [],
   "source": [
    "# indexes.rename(columns=rename_cols, inplace=True)\n",
    "# payload = indexes[cols].to_dict(orient=\"records\")\n",
    "\n",
    "# s, f, failed = post_tickers(payload[0:5])\n",
    "\n",
    "# print(f\"Success: {s}, Failure: {f}\")\n",
    "# print(f\"Failed {failed}\")"
   ]
  },
  {
   "cell_type": "markdown",
   "metadata": {},
   "source": [
    "04.05 - 43 Indexes + 6563 equities posted\n",
    "\n",
    "05.05 - Deleted and posted only relevant equities 2894 (indexes have overlapping exchange tokens, do NOT post yet)"
   ]
  },
  {
   "cell_type": "markdown",
   "metadata": {},
   "source": [
    "### Fetch candle stick data and POST to Equities"
   ]
  },
  {
   "cell_type": "code",
   "execution_count": 154,
   "metadata": {},
   "outputs": [],
   "source": [
    "import calendar\n",
    "from datetime import datetime\n",
    "\n",
    "equities.rename(columns=rename_cols, inplace=True)\n",
    "payload = equities[cols].to_dict(orient=\"records\")\n",
    "\n",
    "years = [\"2023\", \"2022\", \"2021\", \"2020\", \"2019\", \"2018\", \"2017\", \"2016\"]\n",
    "months = [\"01\", \"02\", \"03\", \"04\", \"05\", \"06\", \"07\", \"08\", \"09\", \"10\", \"11\", \"12\"]\n",
    "\n",
    "def get_last_day_of_month(year: int, month: int) -> int:\n",
    "    return calendar.monthrange(year, month)[1]\n",
    "\n",
    "def format_date_path(date: datetime) -> str:\n",
    "    return date.strftime(\"%Y-%m-%d\")\n",
    "\n",
    "\n",
    "s, f, p = 0, 0, 0\n",
    "failed = []\n",
    "passive = []\n",
    "for equity in payload:\n",
    "    exchange_token = int(equity[\"exchange_token\"])\n",
    "    instrument_key = equity[\"upstox_instrument_key\"]\n",
    "\n",
    "    for year in years:\n",
    "        for month in months:\n",
    "            f = True\n",
    "            last_day = get_last_day_of_month(int(year), int(month))\n",
    "            from_date = f\"{year}-{month}-01\"\n",
    "            to_date = f\"{year}-{month}-{last_day}\"\n",
    "\n",
    "            try:\n",
    "                resp = requests.get(upstox_url + f\"/historical-candle/{instrument_key}/day/{to_date}/{from_date}\")\n",
    "                if resp.status_code == 200:\n",
    "                    candles = resp.json()[\"data\"][\"candles\"]\n",
    "                    if len(candles) > 0:\n",
    "                        request = { \"month\": month, \"year\": year }\n",
    "\n",
    "                        # Daily candles\n",
    "                        daily = {}\n",
    "                        running_high, running_low = 0, 0\n",
    "                        for candle in candles:\n",
    "                            timestamp = format_date_path(datetime.fromisoformat(candle[0]))\n",
    "                            high = candle[2]\n",
    "                            low = candle[3]\n",
    "                            \n",
    "                            daily[timestamp] = {\n",
    "                                \"open\": candle[1],\n",
    "                                \"high\": candle[2],\n",
    "                                \"low\": candle[3],\n",
    "                                \"close\": candle[4],\n",
    "                                \"volume\": candle[5],\n",
    "                                \"open_interest\": candle[6]\n",
    "                            }\n",
    "                        request[\"daily\"] = daily\n",
    "\n",
    "                        # Monthly candle\n",
    "                        monthly_high = max(entry[\"high\"] for entry in daily.values())\n",
    "                        monthly_low = min(entry[\"low\"] for entry in daily.values())\n",
    "                        monthly_volume = sum(entry[\"volume\"] for entry in daily.values())\n",
    "                        monthly_open = candles[-1][1]\n",
    "                        monthly_close = candles[0][4]\n",
    "                        request[\"monthly\"] = {\n",
    "                            \"open\": monthly_open,\n",
    "                            \"high\": monthly_high,\n",
    "                            \"low\": monthly_low,\n",
    "                            \"close\": monthly_close,\n",
    "                            \"volume\": monthly_volume\n",
    "                        }\n",
    "\n",
    "                        internal_resp = requests.post(base_url + f\"/tickers/{exchange_token}/candles\", json=request)\n",
    "                        if internal_resp.status_code == 201:\n",
    "                            s += 1\n",
    "                        else:\n",
    "                            failed.append(equity)\n",
    "                            print(\"BE failed\", internal_resp.status_code, internal_resp.json())\n",
    "                    else:\n",
    "                        f = False\n",
    "                        passive.append(equity)\n",
    "                        break\n",
    "                else:\n",
    "                    failed.append(equity)\n",
    "                    print(\"Upstox failed\", resp.status_code, resp.json())\n",
    "\n",
    "            except Exception as e:\n",
    "                failed.append(equity)\n",
    "                print(\"Exception\", e)\n",
    "        if not f:\n",
    "            break\n",
    "\n",
    "months_per_equity = len(months) * len(years)\n",
    "print(f\"Success: {s / months_per_equity}, Failure: {len(failed)}, Passive: {len(passive)}\")\n"
   ]
  },
  {
   "cell_type": "code",
   "execution_count": 156,
   "metadata": {},
   "outputs": [
    {
     "data": {
      "text/plain": [
       "(1869, 0, 1822, 37)"
      ]
     },
     "execution_count": 156,
     "metadata": {},
     "output_type": "execute_result"
    }
   ],
   "source": [
    "# 1st iteration | 25m55s | s = 1869 | f = 0 | p = 1822 | x = 37\n",
    "\n",
    "last_stock_id = 5549\n",
    "x1 = next((i for (i, d) in enumerate(payload) if int(d[\"exchange_token\"]) == last_stock_id), None) # no of stocks posted\n",
    "s , len(failed), len(passive), x1\n"
   ]
  },
  {
   "cell_type": "markdown",
   "metadata": {},
   "source": [
    "We have understood, it is unfeasible to scrape all the data. \n",
    "\n",
    "Every stock took 45 seconds in the 1st iteration.\n",
    "45 * 3000 = 135,000 = ~33 hours\n",
    "\n",
    "Even after refactoring to optimse this by a factor of 2 to 22 seconds, it will take ~15 hours\n",
    "\n",
    "Even if it is optimised to an unrealistic 10s, it will take ~8 hours\n",
    "\n",
    "Instead, we deploy this code as a CF. Find only the equities we need from the Smallcases and invoke the CF to fetch data for that specific stock. This should reduce the equity universe by at least 80%.\n",
    "\n",
    "22 * 0.2 * 3000 = 13,200 = ~3 hours which is much more manageable"
   ]
  },
  {
   "cell_type": "markdown",
   "metadata": {},
   "source": [
    "## External API"
   ]
  },
  {
   "cell_type": "code",
   "execution_count": 124,
   "metadata": {},
   "outputs": [
    {
     "name": "stdout",
     "output_type": "stream",
     "text": [
      "{\"status\":\"success\",\"data\":{\"candles\":[[\"2023-02-01T00:00:00+05:30\",81.4,82.45,66.65,67.3,1564023,0],[\"2023-01-01T00:00:00+05:30\",91.05,95.3,77,80.5,2362341,0]]}}\n"
     ]
    }
   ],
   "source": [
    "import requests\n",
    "\n",
    "url = \"https://api.upstox.com/v2/historical-candle/NSE_EQ|INE144J01027/month/2023-02-01/2023-01-01\"\n",
    "\n",
    "payload={}\n",
    "headers = {\n",
    "  'Accept': 'application/json'\n",
    "}\n",
    "\n",
    "response = requests.request(\"GET\", url, headers=headers, data=payload)\n",
    "\n",
    "print(response.text)"
   ]
  },
  {
   "cell_type": "code",
   "execution_count": 142,
   "metadata": {},
   "outputs": [
    {
     "name": "stdout",
     "output_type": "stream",
     "text": [
      "{\"status\":\"success\",\"data\":{\"candles\":[[\"2022-12-30T00:00:00+05:30\",22,22.55,22,22.55,61746,0],[\"2022-12-29T00:00:00+05:30\",22.7,22.7,22.1,22.15,6770,0],[\"2022-12-28T00:00:00+05:30\",22.75,23.2,22.3,22.35,13629,0],[\"2022-12-27T00:00:00+05:30\",22.75,22.75,22.05,22.75,6910,0],[\"2022-12-26T00:00:00+05:30\",22.5,22.75,22.3,22.35,3949,0],[\"2022-12-23T00:00:00+05:30\",22.75,22.75,22.75,22.75,1243,0],[\"2022-12-22T00:00:00+05:30\",23.2,23.6,23.2,23.2,3832,0],[\"2022-12-21T00:00:00+05:30\",24.2,24.2,23.35,23.65,13508,0],[\"2022-12-20T00:00:00+05:30\",23.85,23.85,22.95,23.8,15752,0],[\"2022-12-19T00:00:00+05:30\",23.4,23.4,23.4,23.4,4397,0],[\"2022-12-16T00:00:00+05:30\",22.95,22.95,22.95,22.95,4014,0],[\"2022-12-15T00:00:00+05:30\",22.5,22.8,22.3,22.5,3979,0],[\"2022-12-14T00:00:00+05:30\",22.45,22.8,22.2,22.5,5431,0],[\"2022-12-13T00:00:00+05:30\",22.45,22.9,22.2,22.45,5174,0],[\"2022-12-12T00:00:00+05:30\",22.6,23.35,22.45,22.55,9161,0],[\"2022-12-09T00:00:00+05:30\",22.6,23.05,22.35,22.9,6192,0],[\"2022-12-08T00:00:00+05:30\",23,23.3,22.4,22.6,4437,0],[\"2022-12-07T00:00:00+05:30\",22.15,23,22.15,22.85,7804,0],[\"2022-12-06T00:00:00+05:30\",22.7,22.7,22.25,22.55,5744,0],[\"2022-12-05T00:00:00+05:30\",22.7,22.7,22.1,22.3,15183,0],[\"2022-12-02T00:00:00+05:30\",22.55,22.8,22.15,22.3,7331,0],[\"2022-12-01T00:00:00+05:30\",22.1,22.75,22.1,22.45,5754,0],[\"2022-11-30T00:00:00+05:30\",22.4,22.95,22.25,22.35,7492,0],[\"2022-11-29T00:00:00+05:30\",22.4,22.95,22.4,22.7,6305,0],[\"2022-11-28T00:00:00+05:30\",22.75,23.2,22.3,22.85,16992,0],[\"2022-11-25T00:00:00+05:30\",22.1,22.75,22.1,22.75,4613,0],[\"2022-11-24T00:00:00+05:30\",22.25,22.8,22.2,22.35,5452,0],[\"2022-11-23T00:00:00+05:30\",22.4,22.6,22,22.4,5030,0],[\"2022-11-22T00:00:00+05:30\",21.8,22.4,21.8,22.4,3152,0],[\"2022-11-21T00:00:00+05:30\",22.3,22.5,21.8,22,7111,0],[\"2022-11-18T00:00:00+05:30\",22,22.4,21.7,22.2,4849,0],[\"2022-11-17T00:00:00+05:30\",21.65,22.25,21.65,22.05,7944,0],[\"2022-11-16T00:00:00+05:30\",22.3,22.45,21.9,21.9,11478,0],[\"2022-11-15T00:00:00+05:30\",22.75,22.95,22.3,22.3,13017,0],[\"2022-11-14T00:00:00+05:30\",22.75,23.3,22.75,22.75,3820,0],[\"2022-11-11T00:00:00+05:30\",23.7,24.05,23.15,23.2,19090,0],[\"2022-11-10T00:00:00+05:30\",23.5,23.6,23.2,23.6,12517,0],[\"2022-11-09T00:00:00+05:30\",22.85,23.25,22.7,23.15,4899,0],[\"2022-11-07T00:00:00+05:30\",22.75,23.15,22.4,22.85,5693,0],[\"2022-11-04T00:00:00+05:30\",23,23.3,22.75,22.75,6205,0],[\"2022-11-03T00:00:00+05:30\",22.65,23.05,22.4,23.05,10841,0],[\"2022-11-02T00:00:00+05:30\",23,23.4,22.6,22.6,6274,0],[\"2022-11-01T00:00:00+05:30\",23.25,23.25,22.55,23,8471,0],[\"2022-10-31T00:00:00+05:30\",22.4,22.8,22,22.8,2801,0],[\"2022-10-28T00:00:00+05:30\",22,22.4,21.7,22.4,5054,0],[\"2022-10-27T00:00:00+05:30\",22.05,22.05,21.75,22,2454,0],[\"2022-10-25T00:00:00+05:30\",22.95,22.95,22.05,22.1,12815,0],[\"2022-10-24T00:00:00+05:30\",22.2,22.55,22.2,22.5,1229,0],[\"2022-10-21T00:00:00+05:30\",22.55,22.9,22.2,22.3,4494,0],[\"2022-10-20T00:00:00+05:30\",22.8,23.35,22.5,22.55,9758,0],[\"2022-10-19T00:00:00+05:30\",22.45,23,22.45,22.9,4539,0],[\"2022-10-18T00:00:00+05:30\",23.45,23.45,22.7,22.85,3644,0],[\"2022-10-17T00:00:00+05:30\",23.65,23.65,22.9,23,3912,0],[\"2022-10-14T00:00:00+05:30\",22.85,23.75,22.85,23.3,5631,0],[\"2022-10-13T00:00:00+05:30\",23.15,23.6,22.8,23.3,5194,0],[\"2022-10-12T00:00:00+05:30\",23.05,23.5,23.05,23.15,4557,0],[\"2022-10-11T00:00:00+05:30\",24.15,24.15,23.4,23.4,4931,0],[\"2022-10-10T00:00:00+05:30\",23.05,23.85,23.05,23.75,30329,0],[\"2022-10-07T00:00:00+05:30\",23,23.5,23,23.5,4735,0],[\"2022-10-06T00:00:00+05:30\",23.15,23.15,22.3,23.05,9811,0],[\"2022-10-04T00:00:00+05:30\",22.55,23.25,22.4,22.7,20026,0],[\"2022-10-03T00:00:00+05:30\",22.85,22.85,22.85,22.85,3133,0],[\"2022-09-30T00:00:00+05:30\",23.4,23.4,23.3,23.3,1406,0],[\"2022-09-29T00:00:00+05:30\",23.75,23.95,23.75,23.75,1500,0],[\"2022-09-28T00:00:00+05:30\",24.05,24.6,24,24.2,9897,0],[\"2022-09-27T00:00:00+05:30\",25.1,25.1,24.25,24.45,18213,0],[\"2022-09-26T00:00:00+05:30\",24.7,25.3,24.7,24.7,6470,0],[\"2022-09-23T00:00:00+05:30\",25.15,25.65,25.15,25.2,7319,0],[\"2022-09-22T00:00:00+05:30\",24.25,25.15,24.25,25.15,11163,0],[\"2022-09-21T00:00:00+05:30\",24.25,24.7,24,24.7,14243,0],[\"2022-09-20T00:00:00+05:30\",24.9,24.9,24.15,24.25,11816,0],[\"2022-09-19T00:00:00+05:30\",25.6,25.6,24.6,24.6,2521,0],[\"2022-09-16T00:00:00+05:30\",25.95,25.95,25.1,25.1,5008,0],[\"2022-09-15T00:00:00+05:30\",26.45,26.45,25.6,25.6,4914,0],[\"2022-09-14T00:00:00+05:30\",26.9,26.9,25.9,26.1,7393,0],[\"2022-09-13T00:00:00+05:30\",27.2,27.2,26.2,26.4,11004,0],[\"2022-09-12T00:00:00+05:30\",26,26.95,26,26.7,16655,0],[\"2022-09-09T00:00:00+05:30\",26.85,27.4,26.45,26.5,7201,0],[\"2022-09-08T00:00:00+05:30\",26.85,27.65,26.75,26.95,9897,0],[\"2022-09-07T00:00:00+05:30\",26.7,27.7,26.7,27.2,25170,0],[\"2022-09-06T00:00:00+05:30\",27.75,27.75,27.2,27.2,1190,0],[\"2022-09-05T00:00:00+05:30\",28.3,28.3,27.75,27.75,2206,0],[\"2022-09-02T00:00:00+05:30\",28.85,28.85,28.3,28.3,3159,0],[\"2022-09-01T00:00:00+05:30\",28.85,29.4,28.85,28.85,8928,0],[\"2022-08-30T00:00:00+05:30\",30.25,30.25,29.3,29.4,4001,0],[\"2022-08-29T00:00:00+05:30\",30.85,30.85,29.65,29.85,11057,0],[\"2022-08-26T00:00:00+05:30\",30.25,30.25,30.1,30.25,5802,0],[\"2022-08-25T00:00:00+05:30\",29.65,29.7,29.5,29.7,21302,0],[\"2022-08-24T00:00:00+05:30\",29.15,29.15,29.15,29.15,3764,0],[\"2022-08-23T00:00:00+05:30\",28.6,28.6,28.6,28.6,2722,0],[\"2022-08-22T00:00:00+05:30\",28.05,28.05,28.05,28.05,4593,0],[\"2022-08-19T00:00:00+05:30\",27.5,27.5,27.5,27.5,1040,0],[\"2022-08-18T00:00:00+05:30\",27,27,27,27,3148,0],[\"2022-08-17T00:00:00+05:30\",26.5,26.5,26.15,26.5,2330,0],[\"2022-08-16T00:00:00+05:30\",25.95,26,25,26,9695,0],[\"2022-08-12T00:00:00+05:30\",26,26,25.2,25.5,28312,0],[\"2022-08-11T00:00:00+05:30\",25.7,25.7,25.7,25.7,4022,0],[\"2022-08-10T00:00:00+05:30\",24.95,25.2,24.95,25.2,1373,0],[\"2022-08-08T00:00:00+05:30\",24.3,24.75,24.3,24.75,1344,0],[\"2022-08-05T00:00:00+05:30\",24.3,24.6,23.75,24.3,8013,0],[\"2022-08-04T00:00:00+05:30\",24,24.3,23.7,24.15,4856,0],[\"2022-08-03T00:00:00+05:30\",24,24.35,23.55,23.85,3603,0],[\"2022-08-02T00:00:00+05:30\",23.95,24.05,23.45,23.9,6471,0],[\"2022-08-01T00:00:00+05:30\",24.5,24.5,23.7,23.9,5926,0],[\"2022-07-29T00:00:00+05:30\",24.45,24.9,24.15,24.15,6614,0],[\"2022-07-28T00:00:00+05:30\",25.5,25.5,24.55,24.6,4256,0],[\"2022-07-27T00:00:00+05:30\",26,26,25.05,25.05,7553,0],[\"2022-07-26T00:00:00+05:30\",25.95,25.95,25.15,25.55,6117,0],[\"2022-07-25T00:00:00+05:30\",25,25.7,25,25.65,7063,0],[\"2022-07-22T00:00:00+05:30\",26,26,25.05,25.2,4812,0],[\"2022-07-21T00:00:00+05:30\",25.7,25.75,24.8,25.5,12151,0],[\"2022-07-20T00:00:00+05:30\",25.35,25.35,24.7,25.25,10913,0],[\"2022-07-19T00:00:00+05:30\",24.75,25.2,24.5,24.95,3025,0],[\"2022-07-18T00:00:00+05:30\",25.3,25.3,24.45,24.75,4585,0],[\"2022-07-15T00:00:00+05:30\",25.3,25.75,24.8,24.9,3188,0],[\"2022-07-14T00:00:00+05:30\",26,26,25.1,25.3,6098,0],[\"2022-07-13T00:00:00+05:30\",25.5,25.55,24.7,25.5,3611,0],[\"2022-07-12T00:00:00+05:30\",25.05,25.05,24.3,25.05,2490,0],[\"2022-07-11T00:00:00+05:30\",24.15,24.6,24.05,24.6,2057,0],[\"2022-07-08T00:00:00+05:30\",24.45,24.7,23.9,24.15,4881,0],[\"2022-07-07T00:00:00+05:30\",24.05,24.75,24.05,24.35,3845,0],[\"2022-07-06T00:00:00+05:30\",24.8,24.8,23.9,24.5,5128,0],[\"2022-07-05T00:00:00+05:30\",25.1,25.1,24.35,24.35,4393,0],[\"2022-07-04T00:00:00+05:30\",24.75,25.2,24.4,24.75,6662,0],[\"2022-07-01T00:00:00+05:30\",25.25,25.7,24.7,24.75,3399,0],[\"2022-06-30T00:00:00+05:30\",25.05,25.8,25.05,25.2,3903,0],[\"2022-06-29T00:00:00+05:30\",25.55,25.55,24.6,25.55,5265,0],[\"2022-06-28T00:00:00+05:30\",25.05,25.05,25.05,25.05,104,0],[\"2022-06-27T00:00:00+05:30\",24.6,24.6,24.6,24.6,160,0],[\"2022-06-24T00:00:00+05:30\",24.15,24.15,24.15,24.15,429,0],[\"2022-06-23T00:00:00+05:30\",23.7,23.7,23.7,23.7,280,0],[\"2022-06-22T00:00:00+05:30\",23.25,23.25,23.25,23.25,4,0],[\"2022-06-21T00:00:00+05:30\",22.8,22.8,22.8,22.8,6356,0],[\"2022-06-20T00:00:00+05:30\",22.4,22.4,22.4,22.4,612,0],[\"2022-06-17T00:00:00+05:30\",22,22,21.95,22,6779,0],[\"2022-06-16T00:00:00+05:30\",21.9,21.9,21.1,21.6,5708,0],[\"2022-06-15T00:00:00+05:30\",21.65,21.65,20.85,21.5,8328,0],[\"2022-06-14T00:00:00+05:30\",21.55,21.55,20.75,21.25,7623,0],[\"2022-06-13T00:00:00+05:30\",21.8,21.8,21,21.15,4152,0],[\"2022-06-10T00:00:00+05:30\",21.5,21.5,21.4,21.4,2760,0],[\"2022-06-09T00:00:00+05:30\",21.25,22,21.25,21.8,12147,0],[\"2022-06-08T00:00:00+05:30\",22.4,22.4,21.6,21.65,5325,0],[\"2022-06-07T00:00:00+05:30\",22.3,22.5,21.9,22,8637,0],[\"2022-06-06T00:00:00+05:30\",22.95,22.95,22.05,22.3,4000,0],[\"2022-06-03T00:00:00+05:30\",22.95,23.3,22.5,22.5,10699,0],[\"2022-06-02T00:00:00+05:30\",22.9,23.7,22.9,22.95,5582,0],[\"2022-06-01T00:00:00+05:30\",23.35,23.35,23.35,23.35,12694,0],[\"2022-05-31T00:00:00+05:30\",23.8,23.8,23.8,23.8,6553,0],[\"2022-05-30T00:00:00+05:30\",24.25,24.25,24.25,24.25,2969,0],[\"2022-05-27T00:00:00+05:30\",24.7,24.7,24.7,24.7,1661,0],[\"2022-05-26T00:00:00+05:30\",25,25.9,24.9,25.2,11081,0],[\"2022-05-25T00:00:00+05:30\",26.2,26.2,25.3,25.4,6554,0],[\"2022-05-24T00:00:00+05:30\",26.8,26.8,25.8,25.8,7018,0],[\"2022-05-23T00:00:00+05:30\",25.8,26.3,25.8,26.3,4682,0],[\"2022-05-20T00:00:00+05:30\",25.95,25.95,25.05,25.8,7472,0],[\"2022-05-19T00:00:00+05:30\",25.6,26.15,25.15,25.45,3461,0],[\"2022-05-18T00:00:00+05:30\",26.3,26.35,25.6,25.65,8085,0],[\"2022-05-17T00:00:00+05:30\",26,26.45,25.6,25.95,10818,0],[\"2022-05-16T00:00:00+05:30\",26.45,26.95,25.95,25.95,7588,0],[\"2022-05-13T00:00:00+05:30\",26.95,26.95,26.45,26.45,1704,0],[\"2022-05-12T00:00:00+05:30\",27.5,27.5,26.95,26.95,765,0],[\"2022-05-11T00:00:00+05:30\",27.5,27.5,27.5,27.5,1521,0],[\"2022-05-10T00:00:00+05:30\",28.6,28.8,28.05,28.05,8071,0],[\"2022-05-09T00:00:00+05:30\",29.7,29.7,28.6,28.6,6034,0],[\"2022-05-06T00:00:00+05:30\",29.2,30.25,29.15,29.15,9089,0],[\"2022-05-05T00:00:00+05:30\",30,30.05,29.1,29.7,12542,0],[\"2022-05-04T00:00:00+05:30\",29.45,29.5,28.45,29.5,13086,0],[\"2022-05-02T00:00:00+05:30\",28,29,28,28.95,4883,0],[\"2022-04-29T00:00:00+05:30\",28.3,28.7,27.85,28.45,8784,0],[\"2022-04-28T00:00:00+05:30\",28.1,29.2,28.1,28.15,11184,0],[\"2022-04-27T00:00:00+05:30\",29.65,29.65,28.65,28.65,5491,0],[\"2022-04-26T00:00:00+05:30\",30.2,30.2,29.2,29.2,5902,0],[\"2022-04-25T00:00:00+05:30\",29.9,30.4,29.5,29.75,9232,0],[\"2022-04-22T00:00:00+05:30\",30.75,30.75,29.7,29.9,8190,0],[\"2022-04-21T00:00:00+05:30\",29.9,30.45,29.55,30.25,15058,0],[\"2022-04-20T00:00:00+05:30\",30,30.55,29.85,29.9,9359,0],[\"2022-04-19T00:00:00+05:30\",30.85,30.85,29.9,30.35,9770,0],[\"2022-04-18T00:00:00+05:30\",31.05,31.05,30.05,30.5,17326,0],[\"2022-04-13T00:00:00+05:30\",30.9,30.95,30.1,30.65,9155,0],[\"2022-04-12T00:00:00+05:30\",30.15,30.75,29.6,30.55,17048,0],[\"2022-04-11T00:00:00+05:30\",30.2,30.2,29.6,30.15,16674,0],[\"2022-04-08T00:00:00+05:30\",29.4,30.5,29.4,29.65,13314,0],[\"2022-04-07T00:00:00+05:30\",30.8,30.8,29.7,29.95,20714,0],[\"2022-04-06T00:00:00+05:30\",30.25,30.25,29.3,30.2,6890,0],[\"2022-04-05T00:00:00+05:30\",28.6,29.7,28.6,29.7,22255,0],[\"2022-04-04T00:00:00+05:30\",28.6,29.7,28.6,29.15,33686,0],[\"2022-04-01T00:00:00+05:30\",29.15,29.15,29.15,29.15,8378,0],[\"2022-03-31T00:00:00+05:30\",29.7,29.7,29.7,29.7,5769,0],[\"2022-03-30T00:00:00+05:30\",31.05,31.5,30.3,30.3,27683,0],[\"2022-03-29T00:00:00+05:30\",30.9,30.9,30.9,30.9,2227,0],[\"2022-03-28T00:00:00+05:30\",30.3,30.3,30.3,30.3,1278,0],[\"2022-03-25T00:00:00+05:30\",29.75,29.75,29.75,29.75,4090,0],[\"2022-03-24T00:00:00+05:30\",29.2,29.2,29.2,29.2,2762,0],[\"2022-03-23T00:00:00+05:30\",28.65,28.65,28.65,28.65,490,0],[\"2022-03-22T00:00:00+05:30\",28.05,28.1,27,28.1,94337,0],[\"2022-03-21T00:00:00+05:30\",27.55,27.55,27.55,27.55,99,0],[\"2022-03-17T00:00:00+05:30\",27.05,27.05,27.05,27.05,4104,0],[\"2022-03-16T00:00:00+05:30\",26.55,26.55,26.55,26.55,5128,0],[\"2022-03-15T00:00:00+05:30\",26.05,26.05,25.6,26.05,32315,0],[\"2022-03-14T00:00:00+05:30\",25.4,26.4,25.4,25.55,46895,0],[\"2022-03-11T00:00:00+05:30\",25.9,25.9,25.9,25.9,13544,0],[\"2022-03-10T00:00:00+05:30\",26.4,27.4,26.4,26.4,28198,0],[\"2022-03-09T00:00:00+05:30\",26.9,27.9,26.9,26.9,27666,0],[\"2022-03-08T00:00:00+05:30\",27.4,27.4,27.4,27.4,3717,0],[\"2022-03-07T00:00:00+05:30\",27.95,27.95,27.95,27.95,793,0],[\"2022-03-04T00:00:00+05:30\",28.5,28.5,28.5,28.5,1306,0],[\"2022-03-03T00:00:00+05:30\",29.05,30.15,29.05,29.05,75325,0],[\"2022-03-02T00:00:00+05:30\",29.6,29.6,29.6,29.6,1209,0],[\"2022-02-28T00:00:00+05:30\",30.2,30.2,30.2,30.2,803,0],[\"2022-02-25T00:00:00+05:30\",30.8,30.8,30.8,30.8,1527,0],[\"2022-02-24T00:00:00+05:30\",31.4,31.4,31.4,31.4,779,0],[\"2022-02-23T00:00:00+05:30\",32,32,32,32,1177,0],[\"2022-02-22T00:00:00+05:30\",33.3,33.3,32.65,32.65,830,0],[\"2022-02-21T00:00:00+05:30\",33.3,33.3,33.3,33.3,415,0],[\"2022-02-18T00:00:00+05:30\",33.95,33.95,33.95,33.95,3970,0],[\"2022-02-17T00:00:00+05:30\",34.6,34.6,34.6,34.6,1864,0],[\"2022-02-16T00:00:00+05:30\",35.3,36,35.3,35.3,51531,0],[\"2022-02-15T00:00:00+05:30\",36,36,36,36,1279,0],[\"2022-02-14T00:00:00+05:30\",36.7,36.7,36.7,36.7,706,0],[\"2022-02-11T00:00:00+05:30\",37.4,37.4,37.4,37.4,839,0],[\"2022-02-10T00:00:00+05:30\",38.15,38.15,38.15,38.15,2179,0],[\"2022-02-09T00:00:00+05:30\",38.9,38.9,38.9,38.9,5035,0],[\"2022-02-08T00:00:00+05:30\",39.65,39.65,39.65,39.65,1593,0],[\"2022-02-07T00:00:00+05:30\",40.45,40.45,40.45,40.45,2630,0],[\"2022-02-04T00:00:00+05:30\",41.25,41.25,41.25,41.25,7983,0],[\"2022-02-03T00:00:00+05:30\",42.05,42.05,42.05,42.05,3341,0],[\"2022-02-02T00:00:00+05:30\",42.9,42.9,42.9,42.9,4564,0],[\"2022-02-01T00:00:00+05:30\",43.75,43.75,43.75,43.75,4162,0],[\"2022-01-31T00:00:00+05:30\",44.6,44.6,44.6,44.6,2124,0],[\"2022-01-28T00:00:00+05:30\",45.5,45.5,45.5,45.5,3175,0],[\"2022-01-27T00:00:00+05:30\",45.95,47.45,45.95,46.4,21236,0],[\"2022-01-25T00:00:00+05:30\",48.25,48.25,46.85,46.85,9943,0],[\"2022-01-24T00:00:00+05:30\",47.95,47.95,46.6,47.8,64993,0],[\"2022-01-21T00:00:00+05:30\",47.05,47.05,47,47.05,19975,0],[\"2022-01-20T00:00:00+05:30\",44.45,46.15,44.45,46.15,16806,0],[\"2022-01-19T00:00:00+05:30\",44.4,45.25,43.55,45.25,37069,0],[\"2022-01-18T00:00:00+05:30\",45.65,45.9,44.35,44.4,18467,0],[\"2022-01-17T00:00:00+05:30\",46.9,46.9,45.25,45.25,23811,0],[\"2022-01-14T00:00:00+05:30\",46.15,47.7,46,46.15,19795,0],[\"2022-01-13T00:00:00+05:30\",48.3,48.3,46.9,46.9,23394,0],[\"2022-01-12T00:00:00+05:30\",48.1,48.95,47.85,47.85,22786,0],[\"2022-01-11T00:00:00+05:30\",49.1,49.1,48.05,48.8,25906,0],[\"2022-01-10T00:00:00+05:30\",47.5,48.15,46.6,48.15,22288,0],[\"2022-01-07T00:00:00+05:30\",46,47.4,46,47.25,40565,0],[\"2022-01-06T00:00:00+05:30\",47.25,47.35,45.7,46.5,43051,0],[\"2022-01-05T00:00:00+05:30\",48.15,48.2,46.5,46.6,34024,0],[\"2022-01-04T00:00:00+05:30\",47.6,47.6,46.05,47.4,37537,0],[\"2022-01-03T00:00:00+05:30\",46.8,46.8,46.1,46.7,22480,0]]}}\n"
     ]
    }
   ],
   "source": [
    "import requests\n",
    "\n",
    "url = \"https://api.upstox.com/v2/historical-candle/NSE_EQ|INE253B01015/day/2022-12-31/2022-01-01\"\n",
    "\n",
    "payload={}\n",
    "headers = {\n",
    "  'Accept': 'application/json'\n",
    "}\n",
    "\n",
    "response = requests.request(\"GET\", url, headers=headers, data=payload)\n",
    "\n",
    "print(response.text)"
   ]
  },
  {
   "cell_type": "code",
   "execution_count": null,
   "metadata": {},
   "outputs": [],
   "source": []
  }
 ],
 "metadata": {
  "kernelspec": {
   "display_name": "Python 3",
   "language": "python",
   "name": "python3"
  },
  "language_info": {
   "codemirror_mode": {
    "name": "ipython",
    "version": 3
   },
   "file_extension": ".py",
   "mimetype": "text/x-python",
   "name": "python",
   "nbconvert_exporter": "python",
   "pygments_lexer": "ipython3",
   "version": "3.11.9"
  }
 },
 "nbformat": 4,
 "nbformat_minor": 2
}
