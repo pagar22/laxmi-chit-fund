{
 "cells": [
  {
   "cell_type": "code",
   "execution_count": 1,
   "metadata": {},
   "outputs": [
    {
     "name": "stderr",
     "output_type": "stream",
     "text": [
      "/var/folders/lq/280gf8ld14v161g6ngpdjjnc0000gn/T/ipykernel_75490/1662815981.py:2: DeprecationWarning: \n",
      "Pyarrow will become a required dependency of pandas in the next major release of pandas (pandas 3.0),\n",
      "(to allow more performant data types, such as the Arrow string type, and better interoperability with other libraries)\n",
      "but was not found to be installed on your system.\n",
      "If this would cause problems for you,\n",
      "please provide us feedback at https://github.com/pandas-dev/pandas/issues/54466\n",
      "        \n",
      "  import pandas as pd\n"
     ]
    }
   ],
   "source": [
    "import numpy as np\n",
    "import pandas as pd"
   ]
  },
  {
   "cell_type": "code",
   "execution_count": 69,
   "metadata": {},
   "outputs": [],
   "source": [
    "import requests\n",
    "base_url = \"http://localhost:7999\"\n",
    "upstox_url = \"https://api.upstox.com/v2\""
   ]
  },
  {
   "cell_type": "markdown",
   "metadata": {},
   "source": [
    "### NSE Tickers Wrangling"
   ]
  },
  {
   "cell_type": "code",
   "execution_count": 29,
   "metadata": {},
   "outputs": [
    {
     "data": {
      "text/html": [
       "<div>\n",
       "<style scoped>\n",
       "    .dataframe tbody tr th:only-of-type {\n",
       "        vertical-align: middle;\n",
       "    }\n",
       "\n",
       "    .dataframe tbody tr th {\n",
       "        vertical-align: top;\n",
       "    }\n",
       "\n",
       "    .dataframe thead th {\n",
       "        text-align: right;\n",
       "    }\n",
       "</style>\n",
       "<table border=\"1\" class=\"dataframe\">\n",
       "  <thead>\n",
       "    <tr style=\"text-align: right;\">\n",
       "      <th></th>\n",
       "      <th>instrument_key</th>\n",
       "      <th>exchange_token</th>\n",
       "      <th>tradingsymbol</th>\n",
       "      <th>name</th>\n",
       "      <th>last_price</th>\n",
       "      <th>expiry</th>\n",
       "      <th>strike</th>\n",
       "      <th>tick_size</th>\n",
       "      <th>lot_size</th>\n",
       "      <th>instrument_type</th>\n",
       "      <th>option_type</th>\n",
       "      <th>exchange</th>\n",
       "    </tr>\n",
       "  </thead>\n",
       "  <tbody>\n",
       "    <tr>\n",
       "      <th>0</th>\n",
       "      <td>NSE_INDEX|Nifty 50</td>\n",
       "      <td>17.0</td>\n",
       "      <td>NaN</td>\n",
       "      <td>Nifty 50</td>\n",
       "      <td>21995.85</td>\n",
       "      <td>NaN</td>\n",
       "      <td>NaN</td>\n",
       "      <td>NaN</td>\n",
       "      <td>NaN</td>\n",
       "      <td>INDEX</td>\n",
       "      <td>NaN</td>\n",
       "      <td>NSE_INDEX</td>\n",
       "    </tr>\n",
       "    <tr>\n",
       "      <th>1</th>\n",
       "      <td>NSE_INDEX|NIFTY100 EQL Wgt</td>\n",
       "      <td>NaN</td>\n",
       "      <td>NaN</td>\n",
       "      <td>NIFTY100 EQL Wgt</td>\n",
       "      <td>29240.40</td>\n",
       "      <td>NaN</td>\n",
       "      <td>NaN</td>\n",
       "      <td>NaN</td>\n",
       "      <td>NaN</td>\n",
       "      <td>INDEX</td>\n",
       "      <td>NaN</td>\n",
       "      <td>NSE_INDEX</td>\n",
       "    </tr>\n",
       "    <tr>\n",
       "      <th>2</th>\n",
       "      <td>NSE_INDEX|NIFTY50 EQL Wgt</td>\n",
       "      <td>NaN</td>\n",
       "      <td>NaN</td>\n",
       "      <td>NIFTY50 EQL Wgt</td>\n",
       "      <td>27648.65</td>\n",
       "      <td>NaN</td>\n",
       "      <td>NaN</td>\n",
       "      <td>NaN</td>\n",
       "      <td>NaN</td>\n",
       "      <td>INDEX</td>\n",
       "      <td>NaN</td>\n",
       "      <td>NSE_INDEX</td>\n",
       "    </tr>\n",
       "    <tr>\n",
       "      <th>3</th>\n",
       "      <td>NSE_INDEX|NiftyM150Momntm50</td>\n",
       "      <td>NaN</td>\n",
       "      <td>NaN</td>\n",
       "      <td>NiftyM150Momntm50</td>\n",
       "      <td>54049.45</td>\n",
       "      <td>NaN</td>\n",
       "      <td>NaN</td>\n",
       "      <td>NaN</td>\n",
       "      <td>NaN</td>\n",
       "      <td>INDEX</td>\n",
       "      <td>NaN</td>\n",
       "      <td>NSE_INDEX</td>\n",
       "    </tr>\n",
       "    <tr>\n",
       "      <th>4</th>\n",
       "      <td>NSE_INDEX|Nifty Auto</td>\n",
       "      <td>48.0</td>\n",
       "      <td>NaN</td>\n",
       "      <td>Nifty Auto</td>\n",
       "      <td>21520.75</td>\n",
       "      <td>NaN</td>\n",
       "      <td>NaN</td>\n",
       "      <td>NaN</td>\n",
       "      <td>NaN</td>\n",
       "      <td>INDEX</td>\n",
       "      <td>NaN</td>\n",
       "      <td>NSE_INDEX</td>\n",
       "    </tr>\n",
       "  </tbody>\n",
       "</table>\n",
       "</div>"
      ],
      "text/plain": [
       "                instrument_key  exchange_token tradingsymbol  \\\n",
       "0           NSE_INDEX|Nifty 50            17.0           NaN   \n",
       "1   NSE_INDEX|NIFTY100 EQL Wgt             NaN           NaN   \n",
       "2    NSE_INDEX|NIFTY50 EQL Wgt             NaN           NaN   \n",
       "3  NSE_INDEX|NiftyM150Momntm50             NaN           NaN   \n",
       "4         NSE_INDEX|Nifty Auto            48.0           NaN   \n",
       "\n",
       "                name  last_price expiry  strike  tick_size  lot_size  \\\n",
       "0           Nifty 50    21995.85    NaN     NaN        NaN       NaN   \n",
       "1   NIFTY100 EQL Wgt    29240.40    NaN     NaN        NaN       NaN   \n",
       "2    NIFTY50 EQL Wgt    27648.65    NaN     NaN        NaN       NaN   \n",
       "3  NiftyM150Momntm50    54049.45    NaN     NaN        NaN       NaN   \n",
       "4         Nifty Auto    21520.75    NaN     NaN        NaN       NaN   \n",
       "\n",
       "  instrument_type option_type   exchange  \n",
       "0           INDEX         NaN  NSE_INDEX  \n",
       "1           INDEX         NaN  NSE_INDEX  \n",
       "2           INDEX         NaN  NSE_INDEX  \n",
       "3           INDEX         NaN  NSE_INDEX  \n",
       "4           INDEX         NaN  NSE_INDEX  "
      ]
     },
     "execution_count": 29,
     "metadata": {},
     "output_type": "execute_result"
    }
   ],
   "source": [
    "instruments = pd.read_csv(\"data/upstox/NSE.csv\")\n",
    "instruments.head()"
   ]
  },
  {
   "cell_type": "code",
   "execution_count": 45,
   "metadata": {},
   "outputs": [
    {
     "data": {
      "text/html": [
       "<div>\n",
       "<style scoped>\n",
       "    .dataframe tbody tr th:only-of-type {\n",
       "        vertical-align: middle;\n",
       "    }\n",
       "\n",
       "    .dataframe tbody tr th {\n",
       "        vertical-align: top;\n",
       "    }\n",
       "\n",
       "    .dataframe thead th {\n",
       "        text-align: right;\n",
       "    }\n",
       "</style>\n",
       "<table border=\"1\" class=\"dataframe\">\n",
       "  <thead>\n",
       "    <tr style=\"text-align: right;\">\n",
       "      <th></th>\n",
       "      <th>instrument_key</th>\n",
       "      <th>exchange_token</th>\n",
       "      <th>tradingsymbol</th>\n",
       "      <th>name</th>\n",
       "      <th>last_price</th>\n",
       "      <th>expiry</th>\n",
       "      <th>strike</th>\n",
       "      <th>tick_size</th>\n",
       "      <th>lot_size</th>\n",
       "      <th>instrument_type</th>\n",
       "      <th>option_type</th>\n",
       "      <th>exchange</th>\n",
       "    </tr>\n",
       "  </thead>\n",
       "  <tbody>\n",
       "    <tr>\n",
       "      <th>77</th>\n",
       "      <td>NSE_EQ|DUMMYSAN005</td>\n",
       "      <td>14747.0</td>\n",
       "      <td>011NSETEST</td>\n",
       "      <td>011NSETEST</td>\n",
       "      <td>NaN</td>\n",
       "      <td>NaN</td>\n",
       "      <td>NaN</td>\n",
       "      <td>0.05</td>\n",
       "      <td>1.0</td>\n",
       "      <td>EQUITY</td>\n",
       "      <td>NaN</td>\n",
       "      <td>NSE_EQ</td>\n",
       "    </tr>\n",
       "    <tr>\n",
       "      <th>78</th>\n",
       "      <td>NSE_EQ|DUMMYSAN006</td>\n",
       "      <td>14751.0</td>\n",
       "      <td>021NSETEST</td>\n",
       "      <td>021NSETEST</td>\n",
       "      <td>NaN</td>\n",
       "      <td>NaN</td>\n",
       "      <td>NaN</td>\n",
       "      <td>0.05</td>\n",
       "      <td>1.0</td>\n",
       "      <td>EQUITY</td>\n",
       "      <td>NaN</td>\n",
       "      <td>NSE_EQ</td>\n",
       "    </tr>\n",
       "    <tr>\n",
       "      <th>79</th>\n",
       "      <td>NSE_EQ|DUMMYSAN007</td>\n",
       "      <td>14753.0</td>\n",
       "      <td>031NSETEST</td>\n",
       "      <td>031NSETEST</td>\n",
       "      <td>NaN</td>\n",
       "      <td>NaN</td>\n",
       "      <td>NaN</td>\n",
       "      <td>0.05</td>\n",
       "      <td>1.0</td>\n",
       "      <td>EQUITY</td>\n",
       "      <td>NaN</td>\n",
       "      <td>NSE_EQ</td>\n",
       "    </tr>\n",
       "    <tr>\n",
       "      <th>80</th>\n",
       "      <td>NSE_EQ|DUMMYSAN008</td>\n",
       "      <td>14755.0</td>\n",
       "      <td>041NSETEST</td>\n",
       "      <td>041NSETEST</td>\n",
       "      <td>NaN</td>\n",
       "      <td>NaN</td>\n",
       "      <td>NaN</td>\n",
       "      <td>0.05</td>\n",
       "      <td>1.0</td>\n",
       "      <td>EQUITY</td>\n",
       "      <td>NaN</td>\n",
       "      <td>NSE_EQ</td>\n",
       "    </tr>\n",
       "    <tr>\n",
       "      <th>81</th>\n",
       "      <td>NSE_EQ|DUMMYSAN009</td>\n",
       "      <td>14758.0</td>\n",
       "      <td>051NSETEST</td>\n",
       "      <td>051NSETEST</td>\n",
       "      <td>NaN</td>\n",
       "      <td>NaN</td>\n",
       "      <td>NaN</td>\n",
       "      <td>0.05</td>\n",
       "      <td>1.0</td>\n",
       "      <td>EQUITY</td>\n",
       "      <td>NaN</td>\n",
       "      <td>NSE_EQ</td>\n",
       "    </tr>\n",
       "  </tbody>\n",
       "</table>\n",
       "</div>"
      ],
      "text/plain": [
       "        instrument_key  exchange_token tradingsymbol        name  last_price  \\\n",
       "77  NSE_EQ|DUMMYSAN005         14747.0    011NSETEST  011NSETEST         NaN   \n",
       "78  NSE_EQ|DUMMYSAN006         14751.0    021NSETEST  021NSETEST         NaN   \n",
       "79  NSE_EQ|DUMMYSAN007         14753.0    031NSETEST  031NSETEST         NaN   \n",
       "80  NSE_EQ|DUMMYSAN008         14755.0    041NSETEST  041NSETEST         NaN   \n",
       "81  NSE_EQ|DUMMYSAN009         14758.0    051NSETEST  051NSETEST         NaN   \n",
       "\n",
       "   expiry  strike  tick_size  lot_size instrument_type option_type exchange  \n",
       "77    NaN     NaN       0.05       1.0          EQUITY         NaN   NSE_EQ  \n",
       "78    NaN     NaN       0.05       1.0          EQUITY         NaN   NSE_EQ  \n",
       "79    NaN     NaN       0.05       1.0          EQUITY         NaN   NSE_EQ  \n",
       "80    NaN     NaN       0.05       1.0          EQUITY         NaN   NSE_EQ  \n",
       "81    NaN     NaN       0.05       1.0          EQUITY         NaN   NSE_EQ  "
      ]
     },
     "execution_count": 45,
     "metadata": {},
     "output_type": "execute_result"
    }
   ],
   "source": [
    "equities = instruments.query('instrument_type == \"EQUITY\" and exchange == \"NSE_EQ\"')\n",
    "equities.head()"
   ]
  },
  {
   "cell_type": "code",
   "execution_count": 46,
   "metadata": {},
   "outputs": [
    {
     "data": {
      "text/html": [
       "<div>\n",
       "<style scoped>\n",
       "    .dataframe tbody tr th:only-of-type {\n",
       "        vertical-align: middle;\n",
       "    }\n",
       "\n",
       "    .dataframe tbody tr th {\n",
       "        vertical-align: top;\n",
       "    }\n",
       "\n",
       "    .dataframe thead th {\n",
       "        text-align: right;\n",
       "    }\n",
       "</style>\n",
       "<table border=\"1\" class=\"dataframe\">\n",
       "  <thead>\n",
       "    <tr style=\"text-align: right;\">\n",
       "      <th></th>\n",
       "      <th>instrument_key</th>\n",
       "      <th>exchange_token</th>\n",
       "      <th>tradingsymbol</th>\n",
       "      <th>name</th>\n",
       "      <th>last_price</th>\n",
       "      <th>expiry</th>\n",
       "      <th>strike</th>\n",
       "      <th>tick_size</th>\n",
       "      <th>lot_size</th>\n",
       "      <th>instrument_type</th>\n",
       "      <th>option_type</th>\n",
       "      <th>exchange</th>\n",
       "    </tr>\n",
       "  </thead>\n",
       "  <tbody>\n",
       "    <tr>\n",
       "      <th>0</th>\n",
       "      <td>NSE_INDEX|Nifty 50</td>\n",
       "      <td>17.0</td>\n",
       "      <td>NaN</td>\n",
       "      <td>Nifty 50</td>\n",
       "      <td>21995.85</td>\n",
       "      <td>NaN</td>\n",
       "      <td>NaN</td>\n",
       "      <td>NaN</td>\n",
       "      <td>NaN</td>\n",
       "      <td>INDEX</td>\n",
       "      <td>NaN</td>\n",
       "      <td>NSE_INDEX</td>\n",
       "    </tr>\n",
       "    <tr>\n",
       "      <th>1</th>\n",
       "      <td>NSE_INDEX|NIFTY100 EQL Wgt</td>\n",
       "      <td>NaN</td>\n",
       "      <td>NaN</td>\n",
       "      <td>NIFTY100 EQL Wgt</td>\n",
       "      <td>29240.40</td>\n",
       "      <td>NaN</td>\n",
       "      <td>NaN</td>\n",
       "      <td>NaN</td>\n",
       "      <td>NaN</td>\n",
       "      <td>INDEX</td>\n",
       "      <td>NaN</td>\n",
       "      <td>NSE_INDEX</td>\n",
       "    </tr>\n",
       "    <tr>\n",
       "      <th>2</th>\n",
       "      <td>NSE_INDEX|NIFTY50 EQL Wgt</td>\n",
       "      <td>NaN</td>\n",
       "      <td>NaN</td>\n",
       "      <td>NIFTY50 EQL Wgt</td>\n",
       "      <td>27648.65</td>\n",
       "      <td>NaN</td>\n",
       "      <td>NaN</td>\n",
       "      <td>NaN</td>\n",
       "      <td>NaN</td>\n",
       "      <td>INDEX</td>\n",
       "      <td>NaN</td>\n",
       "      <td>NSE_INDEX</td>\n",
       "    </tr>\n",
       "    <tr>\n",
       "      <th>3</th>\n",
       "      <td>NSE_INDEX|NiftyM150Momntm50</td>\n",
       "      <td>NaN</td>\n",
       "      <td>NaN</td>\n",
       "      <td>NiftyM150Momntm50</td>\n",
       "      <td>54049.45</td>\n",
       "      <td>NaN</td>\n",
       "      <td>NaN</td>\n",
       "      <td>NaN</td>\n",
       "      <td>NaN</td>\n",
       "      <td>INDEX</td>\n",
       "      <td>NaN</td>\n",
       "      <td>NSE_INDEX</td>\n",
       "    </tr>\n",
       "    <tr>\n",
       "      <th>4</th>\n",
       "      <td>NSE_INDEX|Nifty Auto</td>\n",
       "      <td>48.0</td>\n",
       "      <td>NaN</td>\n",
       "      <td>Nifty Auto</td>\n",
       "      <td>21520.75</td>\n",
       "      <td>NaN</td>\n",
       "      <td>NaN</td>\n",
       "      <td>NaN</td>\n",
       "      <td>NaN</td>\n",
       "      <td>INDEX</td>\n",
       "      <td>NaN</td>\n",
       "      <td>NSE_INDEX</td>\n",
       "    </tr>\n",
       "  </tbody>\n",
       "</table>\n",
       "</div>"
      ],
      "text/plain": [
       "                instrument_key  exchange_token tradingsymbol  \\\n",
       "0           NSE_INDEX|Nifty 50            17.0           NaN   \n",
       "1   NSE_INDEX|NIFTY100 EQL Wgt             NaN           NaN   \n",
       "2    NSE_INDEX|NIFTY50 EQL Wgt             NaN           NaN   \n",
       "3  NSE_INDEX|NiftyM150Momntm50             NaN           NaN   \n",
       "4         NSE_INDEX|Nifty Auto            48.0           NaN   \n",
       "\n",
       "                name  last_price expiry  strike  tick_size  lot_size  \\\n",
       "0           Nifty 50    21995.85    NaN     NaN        NaN       NaN   \n",
       "1   NIFTY100 EQL Wgt    29240.40    NaN     NaN        NaN       NaN   \n",
       "2    NIFTY50 EQL Wgt    27648.65    NaN     NaN        NaN       NaN   \n",
       "3  NiftyM150Momntm50    54049.45    NaN     NaN        NaN       NaN   \n",
       "4         Nifty Auto    21520.75    NaN     NaN        NaN       NaN   \n",
       "\n",
       "  instrument_type option_type   exchange  \n",
       "0           INDEX         NaN  NSE_INDEX  \n",
       "1           INDEX         NaN  NSE_INDEX  \n",
       "2           INDEX         NaN  NSE_INDEX  \n",
       "3           INDEX         NaN  NSE_INDEX  \n",
       "4           INDEX         NaN  NSE_INDEX  "
      ]
     },
     "execution_count": 46,
     "metadata": {},
     "output_type": "execute_result"
    }
   ],
   "source": [
    "indexes = instruments.query('instrument_type == \"INDEX\" and exchange == \"NSE_INDEX\"')\n",
    "indexes.head()"
   ]
  },
  {
   "cell_type": "markdown",
   "metadata": {},
   "source": [
    "GOAL ~ 2400 NSE listed companies\n",
    "Remove:\n",
    "- Government issued instruments\n",
    "- Anything with %\n",
    "- NSETEST"
   ]
  },
  {
   "cell_type": "code",
   "execution_count": 50,
   "metadata": {},
   "outputs": [
    {
     "data": {
      "text/plain": [
       "(2894, 12)"
      ]
     },
     "execution_count": 50,
     "metadata": {},
     "output_type": "execute_result"
    }
   ],
   "source": [
    "randoms = [\"%\", \"NSETEST\"]\n",
    "goi_issues = [\"GOI STRIPS\", \"GOI TBILL\", \"GOI LOAN\"]\n",
    "\n",
    "def remove_names(name):\n",
    "    return all(i not in name for i in randoms + goi_issues)\n",
    "\n",
    "equities = equities[equities[\"name\"].apply(lambda x: remove_names(x))]\n",
    "equities[\"exchange\"] = equities[\"exchange\"].str.replace(\"NSE_EQ\", \"NSE\")\n",
    "\n",
    "equities.shape\n"
   ]
  },
  {
   "cell_type": "markdown",
   "metadata": {},
   "source": [
    "Remove Indexes with no exchange token"
   ]
  },
  {
   "cell_type": "code",
   "execution_count": 66,
   "metadata": {},
   "outputs": [
    {
     "name": "stderr",
     "output_type": "stream",
     "text": [
      "/var/folders/lq/280gf8ld14v161g6ngpdjjnc0000gn/T/ipykernel_75490/3341430381.py:1: SettingWithCopyWarning: \n",
      "A value is trying to be set on a copy of a slice from a DataFrame\n",
      "\n",
      "See the caveats in the documentation: https://pandas.pydata.org/pandas-docs/stable/user_guide/indexing.html#returning-a-view-versus-a-copy\n",
      "  indexes.replace(np.nan, None, inplace=True)\n",
      "/var/folders/lq/280gf8ld14v161g6ngpdjjnc0000gn/T/ipykernel_75490/3341430381.py:2: SettingWithCopyWarning: \n",
      "A value is trying to be set on a copy of a slice from a DataFrame\n",
      "\n",
      "See the caveats in the documentation: https://pandas.pydata.org/pandas-docs/stable/user_guide/indexing.html#returning-a-view-versus-a-copy\n",
      "  indexes.dropna(subset=[\"exchange_token\"], inplace=True)\n",
      "/var/folders/lq/280gf8ld14v161g6ngpdjjnc0000gn/T/ipykernel_75490/3341430381.py:3: SettingWithCopyWarning: \n",
      "A value is trying to be set on a copy of a slice from a DataFrame.\n",
      "Try using .loc[row_indexer,col_indexer] = value instead\n",
      "\n",
      "See the caveats in the documentation: https://pandas.pydata.org/pandas-docs/stable/user_guide/indexing.html#returning-a-view-versus-a-copy\n",
      "  indexes[\"exchange\"] = indexes[\"exchange\"].str.replace(\"NSE_INDEX\", \"NSE\")\n"
     ]
    },
    {
     "data": {
      "text/plain": [
       "(43, 12)"
      ]
     },
     "execution_count": 66,
     "metadata": {},
     "output_type": "execute_result"
    }
   ],
   "source": [
    "indexes.replace(np.nan, None, inplace=True)\n",
    "indexes.dropna(subset=[\"exchange_token\"], inplace=True)\n",
    "indexes[\"exchange\"] = indexes[\"exchange\"].str.replace(\"NSE_INDEX\", \"NSE\")\n",
    "\n",
    "indexes.shape"
   ]
  },
  {
   "cell_type": "markdown",
   "metadata": {},
   "source": [
    "### POST Equities to BE"
   ]
  },
  {
   "cell_type": "code",
   "execution_count": 59,
   "metadata": {},
   "outputs": [],
   "source": [
    "rename_cols = {\n",
    "    \"tradingsymbol\": \"ticker\",\n",
    "    \"instrument_key\": \"upstox_instrument_key\"\n",
    "}\n",
    "cols = [\"exchange\", \"exchange_token\", \"name\", \"ticker\", \"instrument_type\", \"upstox_instrument_key\", \"lot_size\"]\n"
   ]
  },
  {
   "cell_type": "code",
   "execution_count": 60,
   "metadata": {},
   "outputs": [],
   "source": [
    "def post_tickers(tickers):\n",
    "    s, f = 0, 0\n",
    "    failed = []\n",
    "    for p in tickers:\n",
    "        resp = requests.post(base_url + \"/tickers/\", json=p)\n",
    "        if resp.status_code == 201:\n",
    "            s += 1\n",
    "        else:\n",
    "            f += 1\n",
    "            failed.append(p)\n",
    "            print(resp.json())\n",
    "    return s, f, failed"
   ]
  },
  {
   "cell_type": "code",
   "execution_count": 62,
   "metadata": {},
   "outputs": [
    {
     "name": "stdout",
     "output_type": "stream",
     "text": [
      "Success: 2894, Failure: 0\n",
      "Failed []\n"
     ]
    }
   ],
   "source": [
    "equities.rename(columns=rename_cols, inplace=True)\n",
    "payload = equities[cols].to_dict(orient=\"records\")\n",
    "\n",
    "s, f, failed = post_tickers(payload)\n",
    "\n",
    "print(f\"Success: {s}, Failure: {f}\")\n",
    "print(f\"Failed {failed}\")\n"
   ]
  },
  {
   "cell_type": "code",
   "execution_count": null,
   "metadata": {},
   "outputs": [],
   "source": [
    "# indexes.rename(columns=rename_cols, inplace=True)\n",
    "# payload = indexes[cols].to_dict(orient=\"records\")\n",
    "\n",
    "# s, f, failed = post_tickers(payload[0:5])\n",
    "\n",
    "# print(f\"Success: {s}, Failure: {f}\")\n",
    "# print(f\"Failed {failed}\")"
   ]
  },
  {
   "cell_type": "markdown",
   "metadata": {},
   "source": [
    "04.05 - 43 Indexes + 6563 equities posted\n",
    "\n",
    "05.05 - Deleted and posted only relevant equities 2894 (indexes have overlapping exchange tokens, do NOT post yet)"
   ]
  },
  {
   "cell_type": "markdown",
   "metadata": {},
   "source": [
    "### Fetch candle stick data and POST to Equities"
   ]
  },
  {
   "cell_type": "code",
   "execution_count": 71,
   "metadata": {},
   "outputs": [
    {
     "name": "stdout",
     "output_type": "stream",
     "text": [
      "{'status': 'success', 'data': {'candles': [['2024-01-05T00:00:00+05:30', 175, 178.65, 173.5, 175.25, 92831, 0], ['2024-01-04T00:00:00+05:30', 180, 183.2, 174.85, 175.7, 149833, 0], ['2024-01-03T00:00:00+05:30', 171.15, 180.8, 169.5, 179.25, 261772, 0], ['2024-01-02T00:00:00+05:30', 176.5, 177.7, 168.5, 171, 321759, 0], ['2024-01-01T00:00:00+05:30', 177.2, 182.95, 176, 176.5, 117885, 0]]}}\n"
     ]
    }
   ],
   "source": [
    "equities.rename(columns=rename_cols, inplace=True)\n",
    "payload = equities[cols].to_dict(orient=\"records\")\n",
    "\n",
    "\n",
    "for equity in payload[0:1]:\n",
    "    instrument_key = equity[\"upstox_instrument_key\"]\n",
    "    resp = requests.get(upstox_url + f\"/historical-candle/{instrument_key}/day/2024-01-05/2024-01-01\")\n",
    "    print(resp.json())"
   ]
  },
  {
   "cell_type": "markdown",
   "metadata": {},
   "source": [
    "## External API"
   ]
  },
  {
   "cell_type": "code",
   "execution_count": null,
   "metadata": {},
   "outputs": [],
   "source": [
    "import requests\n",
    "\n",
    "url = \"https://api.upstox.com/v2/historical-candle/NSE_EQ|IN002023Y458/day/2024-01-05/2024-01-01\"\n",
    "\n",
    "payload={}\n",
    "headers = {\n",
    "  'Accept': 'application/json'\n",
    "}\n",
    "\n",
    "response = requests.request(\"GET\", url, headers=headers, data=payload)\n",
    "\n",
    "print(response.text)"
   ]
  },
  {
   "cell_type": "code",
   "execution_count": null,
   "metadata": {},
   "outputs": [],
   "source": []
  }
 ],
 "metadata": {
  "kernelspec": {
   "display_name": "Python 3",
   "language": "python",
   "name": "python3"
  },
  "language_info": {
   "codemirror_mode": {
    "name": "ipython",
    "version": 3
   },
   "file_extension": ".py",
   "mimetype": "text/x-python",
   "name": "python",
   "nbconvert_exporter": "python",
   "pygments_lexer": "ipython3",
   "version": "3.11.1"
  }
 },
 "nbformat": 4,
 "nbformat_minor": 2
}
