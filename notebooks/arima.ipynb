{
 "cells": [
  {
   "cell_type": "markdown",
   "metadata": {},
   "source": [
    "Options:\n",
    "\n",
    "\n",
    "3. Use rolling ARIMA that worked in thesis 🫡\n",
    "2. Better tune ARIMA input data and hyperparams ✅\n",
    "\n",
    "Use historical quarterly returns as input, then only need to predict 1 (next) value.\n",
    "\n",
    "4. Come up with alternatives because our objective is expected returns, not price (eg. first 10 days/use confidence interval average, etc.)\n",
    "1. Use another model"
   ]
  },
  {
   "cell_type": "code",
   "execution_count": 2,
   "metadata": {},
   "outputs": [],
   "source": [
    "import requests\n",
    "import pandas as pd\n",
    "import matplotlib.pyplot as plt\n",
    "\n",
    "BASE_URL = \"http://localhost:2000\""
   ]
  },
  {
   "cell_type": "code",
   "execution_count": 3,
   "metadata": {},
   "outputs": [],
   "source": [
    "from pmdarima.arima import auto_arima\n",
    "from statsmodels.tsa.arima.model import ARIMA\n",
    "from sklearn.metrics import mean_absolute_error, mean_squared_error"
   ]
  },
  {
   "cell_type": "code",
   "execution_count": 23,
   "metadata": {},
   "outputs": [
    {
     "data": {
      "text/plain": [
       "(248, 122)"
      ]
     },
     "execution_count": 23,
     "metadata": {},
     "output_type": "execute_result"
    }
   ],
   "source": [
    "exchange_token = \"10939\" # Nippon India ETF Nifty Next 50 Junior BeES\n",
    "quarter_end = \"2023-06-30\"\n",
    "quarter_start = \"2023-01-01\"\n",
    "quarter_prev = (pd.to_datetime(quarter_start) - pd.DateOffset(years=1)).strftime(\"%Y-%m-%d\")\n",
    "quarter_prev\n",
    "\n",
    "params = {\"start_date\": quarter_prev , \"end_date\": quarter_start}\n",
    "candles = requests.get(f\"{BASE_URL}/tickers/{exchange_token}/candles\", params=params).json()\n",
    "actual_candles = requests.get(f\"{BASE_URL}/tickers/{exchange_token}/candles\", params={\"start_date\": quarter_start, \"end_date\": quarter_end}).json()\n",
    "len(candles), len(actual_candles)"
   ]
  },
  {
   "cell_type": "code",
   "execution_count": 24,
   "metadata": {},
   "outputs": [
    {
     "data": {
      "text/html": [
       "<div>\n",
       "<style scoped>\n",
       "    .dataframe tbody tr th:only-of-type {\n",
       "        vertical-align: middle;\n",
       "    }\n",
       "\n",
       "    .dataframe tbody tr th {\n",
       "        vertical-align: top;\n",
       "    }\n",
       "\n",
       "    .dataframe thead th {\n",
       "        text-align: right;\n",
       "    }\n",
       "</style>\n",
       "<table border=\"1\" class=\"dataframe\">\n",
       "  <thead>\n",
       "    <tr style=\"text-align: right;\">\n",
       "      <th></th>\n",
       "      <th>open</th>\n",
       "      <th>high</th>\n",
       "      <th>low</th>\n",
       "      <th>close</th>\n",
       "      <th>volume</th>\n",
       "      <th>open_interest</th>\n",
       "    </tr>\n",
       "  </thead>\n",
       "  <tbody>\n",
       "    <tr>\n",
       "      <th>2022-01-03</th>\n",
       "      <td>386.10</td>\n",
       "      <td>464.68</td>\n",
       "      <td>386.10</td>\n",
       "      <td>446.81</td>\n",
       "      <td>467591</td>\n",
       "      <td>0</td>\n",
       "    </tr>\n",
       "    <tr>\n",
       "      <th>2022-01-04</th>\n",
       "      <td>468.13</td>\n",
       "      <td>468.13</td>\n",
       "      <td>420.00</td>\n",
       "      <td>448.53</td>\n",
       "      <td>201553</td>\n",
       "      <td>0</td>\n",
       "    </tr>\n",
       "    <tr>\n",
       "      <th>2022-01-05</th>\n",
       "      <td>475.40</td>\n",
       "      <td>475.40</td>\n",
       "      <td>434.00</td>\n",
       "      <td>447.16</td>\n",
       "      <td>157286</td>\n",
       "      <td>0</td>\n",
       "    </tr>\n",
       "    <tr>\n",
       "      <th>2022-01-06</th>\n",
       "      <td>485.00</td>\n",
       "      <td>485.00</td>\n",
       "      <td>421.56</td>\n",
       "      <td>446.91</td>\n",
       "      <td>74103</td>\n",
       "      <td>0</td>\n",
       "    </tr>\n",
       "    <tr>\n",
       "      <th>2022-01-07</th>\n",
       "      <td>505.00</td>\n",
       "      <td>505.00</td>\n",
       "      <td>426.00</td>\n",
       "      <td>450.07</td>\n",
       "      <td>59548</td>\n",
       "      <td>0</td>\n",
       "    </tr>\n",
       "  </tbody>\n",
       "</table>\n",
       "</div>"
      ],
      "text/plain": [
       "              open    high     low   close  volume  open_interest\n",
       "2022-01-03  386.10  464.68  386.10  446.81  467591              0\n",
       "2022-01-04  468.13  468.13  420.00  448.53  201553              0\n",
       "2022-01-05  475.40  475.40  434.00  447.16  157286              0\n",
       "2022-01-06  485.00  485.00  421.56  446.91   74103              0\n",
       "2022-01-07  505.00  505.00  426.00  450.07   59548              0"
      ]
     },
     "execution_count": 24,
     "metadata": {},
     "output_type": "execute_result"
    }
   ],
   "source": [
    "df = pd.DataFrame.from_dict(candles, orient=\"index\")\n",
    "df.index = pd.to_datetime(df.index)\n",
    "df_actual = pd.DataFrame.from_dict(actual_candles, orient=\"index\")\n",
    "df_actual.index = pd.to_datetime(df_actual.index)\n",
    "\n",
    "df_close = df[\"close\"].to_frame()\n",
    "df_close.head()\n",
    "\n",
    "df.head()"
   ]
  },
  {
   "cell_type": "code",
   "execution_count": 26,
   "metadata": {},
   "outputs": [
    {
     "data": {
      "text/plain": [
       "((0, 1, 0), (0, 0, 0, 4))"
      ]
     },
     "execution_count": 26,
     "metadata": {},
     "output_type": "execute_result"
    }
   ],
   "source": [
    "m = 4\n",
    "auto_model = auto_arima(df_close, seasonal=True, m=m)\n",
    "best_order = auto_model.get_params()[\"order\"]\n",
    "best_seasonal_order = auto_model.get_params()[\"seasonal_order\"]\n",
    "best_order, best_seasonal_order"
   ]
  },
  {
   "cell_type": "code",
   "execution_count": 27,
   "metadata": {},
   "outputs": [
    {
     "name": "stderr",
     "output_type": "stream",
     "text": [
      "/Users/aaryanpagar/Library/Python/3.11/lib/python/site-packages/statsmodels/tsa/base/tsa_model.py:473: ValueWarning: A date index has been provided, but it has no associated frequency information and so will be ignored when e.g. forecasting.\n",
      "  self._init_dates(dates, freq)\n",
      "/Users/aaryanpagar/Library/Python/3.11/lib/python/site-packages/statsmodels/tsa/base/tsa_model.py:473: ValueWarning: A date index has been provided, but it has no associated frequency information and so will be ignored when e.g. forecasting.\n",
      "  self._init_dates(dates, freq)\n",
      "/Users/aaryanpagar/Library/Python/3.11/lib/python/site-packages/statsmodels/tsa/base/tsa_model.py:473: ValueWarning: A date index has been provided, but it has no associated frequency information and so will be ignored when e.g. forecasting.\n",
      "  self._init_dates(dates, freq)\n",
      "/Users/aaryanpagar/Library/Python/3.11/lib/python/site-packages/statsmodels/tsa/statespace/sarimax.py:966: UserWarning: Non-stationary starting autoregressive parameters found. Using zeros as starting parameters.\n",
      "  warn('Non-stationary starting autoregressive parameters'\n",
      "/Users/aaryanpagar/Library/Python/3.11/lib/python/site-packages/statsmodels/tsa/statespace/sarimax.py:978: UserWarning: Non-invertible starting MA parameters found. Using zeros as starting parameters.\n",
      "  warn('Non-invertible starting MA parameters found.'\n",
      "/Users/aaryanpagar/Library/Python/3.11/lib/python/site-packages/statsmodels/base/model.py:607: ConvergenceWarning: Maximum Likelihood optimization failed to converge. Check mle_retvals\n",
      "  warnings.warn(\"Maximum Likelihood optimization failed to \"\n",
      "/Users/aaryanpagar/Library/Python/3.11/lib/python/site-packages/statsmodels/tsa/base/tsa_model.py:836: ValueWarning: No supported index is available. Prediction results will be given with an integer index beginning at `start`.\n",
      "  return get_prediction_index(\n",
      "/Users/aaryanpagar/Library/Python/3.11/lib/python/site-packages/statsmodels/tsa/base/tsa_model.py:836: FutureWarning: No supported index is available. In the next version, calling this method in a model without a supported index will result in an exception.\n",
      "  return get_prediction_index(\n",
      "/Users/aaryanpagar/Library/Python/3.11/lib/python/site-packages/statsmodels/tsa/statespace/representation.py:374: FutureWarning: Unknown keyword arguments: dict_keys(['alpha']).Passing unknown keyword arguments will raise a TypeError beginning in version 0.15.\n",
      "  warnings.warn(msg, FutureWarning)\n"
     ]
    }
   ],
   "source": [
    "model = ARIMA(df_close[\"close\"], order=(8, 1, 7))\n",
    "model_fit = model.fit()\n",
    "forecast = model_fit.forecast(len(df_actual), alpha=0.05)\n"
   ]
  },
  {
   "cell_type": "code",
   "execution_count": 28,
   "metadata": {},
   "outputs": [
    {
     "data": {
      "image/png": "[encoded data removed]",
      "text/plain": [
       "<Figure size 1000x600 with 1 Axes>"
      ]
     },
     "metadata": {},
     "output_type": "display_data"
    }
   ],
   "source": [
    "plt.figure(figsize=(10, 6))\n",
    "plt.plot(df_close.index, df_close[\"close\"], label=\"Train\")\n",
    "plt.plot(df_actual.index, df_actual[\"close\"], label=\"Actual\")\n",
    "plt.plot(df_actual.index, forecast, label=\"Prediction\")\n",
    "plt.legend()\n",
    "plt.show()"
   ]
  },
  {
   "cell_type": "code",
   "execution_count": 29,
   "metadata": {},
   "outputs": [
    {
     "name": "stderr",
     "output_type": "stream",
     "text": [
      "/Users/aaryanpagar/Library/Python/3.11/lib/python/site-packages/statsmodels/tsa/base/tsa_model.py:473: ValueWarning: A date index has been provided, but it has no associated frequency information and so will be ignored when e.g. forecasting.\n",
      "  self._init_dates(dates, freq)\n",
      "/Users/aaryanpagar/Library/Python/3.11/lib/python/site-packages/statsmodels/tsa/base/tsa_model.py:473: ValueWarning: A date index has been provided, but it has no associated frequency information and so will be ignored when e.g. forecasting.\n",
      "  self._init_dates(dates, freq)\n",
      "/Users/aaryanpagar/Library/Python/3.11/lib/python/site-packages/statsmodels/tsa/base/tsa_model.py:473: ValueWarning: A date index has been provided, but it has no associated frequency information and so will be ignored when e.g. forecasting.\n",
      "  self._init_dates(dates, freq)\n",
      "/Users/aaryanpagar/Library/Python/3.11/lib/python/site-packages/statsmodels/tsa/base/tsa_model.py:836: ValueWarning: No supported index is available. Prediction results will be given with an integer index beginning at `start`.\n",
      "  return get_prediction_index(\n",
      "/Users/aaryanpagar/Library/Python/3.11/lib/python/site-packages/statsmodels/tsa/base/tsa_model.py:836: FutureWarning: No supported index is available. In the next version, calling this method in a model without a supported index will result in an exception.\n",
      "  return get_prediction_index(\n"
     ]
    },
    {
     "data": {
      "text/plain": [
       "7.015686650640929e-05"
      ]
     },
     "execution_count": 29,
     "metadata": {},
     "output_type": "execute_result"
    }
   ],
   "source": [
    "import pandas as pd\n",
    "from statsmodels.tsa.arima.model import ARIMA\n",
    "\n",
    "# Example historical price data\n",
    "prices = df_close[\"close\"]\n",
    "\n",
    "# Calculate daily returns\n",
    "returns = prices.pct_change().dropna()\n",
    "\n",
    "# Fit the ARIMA model on returns\n",
    "model = ARIMA(returns, order=(1, 0, 1))  # Example ARIMA(1,0,1), adjust based on your data\n",
    "fitted_model = model.fit()\n",
    "\n",
    "# Forecast future returns for the desired time frame (e.g., 10 days)\n",
    "forecast_steps = 10\n",
    "forecasted_returns = fitted_model.forecast(steps=forecast_steps)\n",
    "\n",
    "# Calculate the average of the forecasted returns\n",
    "expected_return = forecasted_returns.mean()\n",
    "expected_return\n"
   ]
  },
  {
   "cell_type": "code",
   "execution_count": 30,
   "metadata": {},
   "outputs": [
    {
     "data": {
      "text/plain": [
       "7.307015131603379e-05"
      ]
     },
     "execution_count": 30,
     "metadata": {},
     "output_type": "execute_result"
    }
   ],
   "source": [
    "average_return = returns.mean()\n",
    "average_return"
   ]
  },
  {
   "cell_type": "code",
   "execution_count": 126,
   "metadata": {},
   "outputs": [
    {
     "data": {
      "text/plain": [
       "predicted_mean   -0.086582\n",
       "dtype: float64"
      ]
     },
     "execution_count": 126,
     "metadata": {},
     "output_type": "execute_result"
    }
   ],
   "source": [
    "predicted_returns = pd.DataFrame(forecasted_returns).pct_change().dropna()\n",
    "predicted_average_return = predicted_returns.mean()\n",
    "predicted_average_return"
   ]
  },
  {
   "cell_type": "code",
   "execution_count": 45,
   "metadata": {},
   "outputs": [
    {
     "name": "stderr",
     "output_type": "stream",
     "text": [
      "/var/folders/lq/280gf8ld14v161g6ngpdjjnc0000gn/T/ipykernel_28340/2597368582.py:3: FutureWarning: 'Q' is deprecated and will be removed in a future version, please use 'QE' instead.\n",
      "  df[\"Quarterly Returns\"] = df[\"close\"].resample(\"Q\").ffill().pct_change().dropna()\n",
      "/Users/aaryanpagar/Library/Python/3.11/lib/python/site-packages/statsmodels/tsa/base/tsa_model.py:473: ValueWarning: A date index has been provided, but it has no associated frequency information and so will be ignored when e.g. forecasting.\n",
      "  self._init_dates(dates, freq)\n",
      "/Users/aaryanpagar/Library/Python/3.11/lib/python/site-packages/statsmodels/tsa/base/tsa_model.py:473: ValueWarning: A date index has been provided, but it has no associated frequency information and so will be ignored when e.g. forecasting.\n",
      "  self._init_dates(dates, freq)\n",
      "/Users/aaryanpagar/Library/Python/3.11/lib/python/site-packages/statsmodels/tsa/base/tsa_model.py:473: ValueWarning: A date index has been provided, but it has no associated frequency information and so will be ignored when e.g. forecasting.\n",
      "  self._init_dates(dates, freq)\n",
      "/Users/aaryanpagar/Library/Python/3.11/lib/python/site-packages/statsmodels/tsa/statespace/sarimax.py:866: UserWarning: Too few observations to estimate starting parameters for ARMA and trend. All parameters except for variances will be set to zeros.\n",
      "  warn('Too few observations to estimate starting parameters%s.'\n",
      "/Users/aaryanpagar/Library/Python/3.11/lib/python/site-packages/statsmodels/tsa/base/tsa_model.py:836: ValueWarning: No supported index is available. Prediction results will be given with an integer index beginning at `start`.\n",
      "  return get_prediction_index(\n",
      "/Users/aaryanpagar/Library/Python/3.11/lib/python/site-packages/statsmodels/tsa/base/tsa_model.py:836: FutureWarning: No supported index is available. In the next version, calling this method in a model without a supported index will result in an exception.\n",
      "  return get_prediction_index(\n"
     ]
    },
    {
     "data": {
      "text/plain": [
       "248    0.4349\n",
       "dtype: float64"
      ]
     },
     "execution_count": 45,
     "metadata": {},
     "output_type": "execute_result"
    }
   ],
   "source": [
    "from statsmodels.tsa.arima.model import ARIMA\n",
    "\n",
    "df[\"Quarterly Returns\"] = df[\"close\"].resample(\"Q\").ffill().pct_change().dropna()\n",
    "\n",
    "model = ARIMA(df[\"Quarterly Returns\"], order=(2, 2, 2))  # Adjust order based on ACF and PACF plots\n",
    "fitted_model = model.fit()\n",
    "\n",
    "forecast = fitted_model.forecast(steps=1)\n",
    "forecast"
   ]
  },
  {
   "cell_type": "code",
   "execution_count": 32,
   "metadata": {},
   "outputs": [
    {
     "name": "stderr",
     "output_type": "stream",
     "text": [
      "/var/folders/lq/280gf8ld14v161g6ngpdjjnc0000gn/T/ipykernel_28340/2152320794.py:1: FutureWarning: 'Q' is deprecated and will be removed in a future version, please use 'QE' instead.\n",
      "  x = df_actual[\"close\"].resample(\"Q\").ffill().pct_change().dropna().mean()\n"
     ]
    },
    {
     "data": {
      "text/plain": [
       "0.1594036410858326"
      ]
     },
     "execution_count": 32,
     "metadata": {},
     "output_type": "execute_result"
    }
   ],
   "source": [
    "x = df_actual[\"close\"].resample(\"Q\").ffill().pct_change().dropna().mean()\n",
    "x\n"
   ]
  },
  {
   "cell_type": "code",
   "execution_count": null,
   "metadata": {},
   "outputs": [],
   "source": []
  }
 ],
 "metadata": {
  "kernelspec": {
   "display_name": "Python 3",
   "language": "python",
   "name": "python3"
  },
  "language_info": {
   "codemirror_mode": {
    "name": "ipython",
    "version": 3
   },
   "file_extension": ".py",
   "mimetype": "text/x-python",
   "name": "python",
   "nbconvert_exporter": "python",
   "pygments_lexer": "ipython3",
   "version": "3.11.1"
  }
 },
 "nbformat": 4,
 "nbformat_minor": 2
}
