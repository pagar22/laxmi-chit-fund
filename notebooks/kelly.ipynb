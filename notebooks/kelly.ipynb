{
 "cells": [
  {
   "cell_type": "code",
   "execution_count": 22,
   "metadata": {},
   "outputs": [],
   "source": [
    "import requests\n",
    "import pandas as pd\n",
    "import seaborn as sns\n",
    "import matplotlib.pyplot as plt\n",
    "from datetime import datetime\n",
    "from dateutil.relativedelta import relativedelta\n",
    "local_base_url = 'http://localhost:2000'"
   ]
  },
  {
   "cell_type": "code",
   "execution_count": 2,
   "metadata": {},
   "outputs": [],
   "source": [
    "import os\n",
    "import sys\n",
    "\n",
    "backend_path = os.path.abspath(os.path.join(os.getcwd(), '../backend'))\n",
    "sys.path.append(backend_path)\n",
    "\n",
    "from app.internal.firebase import db"
   ]
  },
  {
   "cell_type": "code",
   "execution_count": 3,
   "metadata": {},
   "outputs": [
    {
     "name": "stderr",
     "output_type": "stream",
     "text": [
      "/Library/Frameworks/Python.framework/Versions/3.11/lib/python3.11/site-packages/google/cloud/firestore_v1/base_collection.py:290: UserWarning: Detected filter using positional arguments. Prefer using the 'filter' keyword argument instead.\n",
      "  return query.where(field_path, op_string, value)\n",
      "/Users/aaryanpagar/Library/Python/3.11/lib/python/site-packages/google/api_core/retry/retry_unary.py:146: UserWarning: Using the synchronous google.api_core.retry.Retry with asynchronous calls may lead to unexpected results. Please use google.api_core.retry_async.AsyncRetry instead.\n",
      "  warnings.warn(_ASYNC_RETRY_WARNING)\n"
     ]
    }
   ],
   "source": [
    "exchange_token = \"100\"\n",
    "smallcase_name = \"Amara Raja Energy & Mobility Ltd\"\n",
    "\n",
    "start_date = \"2023-12-15\"\n",
    "end_date = \"2024-03-14\"\n",
    "\n",
    "q = await db.collection(\"tickers\").where(\"smallcase_name\", \"==\", smallcase_name).get()"
   ]
  },
  {
   "cell_type": "code",
   "execution_count": 4,
   "metadata": {},
   "outputs": [
    {
     "name": "stdout",
     "output_type": "stream",
     "text": [
      "200\n"
     ]
    }
   ],
   "source": [
    "if q:\n",
    "    equity = q[0].to_dict()\n",
    "    resp = requests.get(f\"{local_base_url}/tickers/{equity['exchange_token']}/candles?start_date={start_date}&end_date={end_date}\")\n",
    "    print(resp.status_code)"
   ]
  },
  {
   "cell_type": "code",
   "execution_count": 5,
   "metadata": {},
   "outputs": [],
   "source": [
    "candles: dict = resp.json()"
   ]
  },
  {
   "cell_type": "code",
   "execution_count": 6,
   "metadata": {},
   "outputs": [
    {
     "data": {
      "text/html": [
       "<div>\n",
       "<style scoped>\n",
       "    .dataframe tbody tr th:only-of-type {\n",
       "        vertical-align: middle;\n",
       "    }\n",
       "\n",
       "    .dataframe tbody tr th {\n",
       "        vertical-align: top;\n",
       "    }\n",
       "\n",
       "    .dataframe thead th {\n",
       "        text-align: right;\n",
       "    }\n",
       "</style>\n",
       "<table border=\"1\" class=\"dataframe\">\n",
       "  <thead>\n",
       "    <tr style=\"text-align: right;\">\n",
       "      <th></th>\n",
       "      <th>open</th>\n",
       "      <th>high</th>\n",
       "      <th>low</th>\n",
       "      <th>close</th>\n",
       "      <th>volume</th>\n",
       "      <th>open_interest</th>\n",
       "    </tr>\n",
       "    <tr>\n",
       "      <th>date</th>\n",
       "      <th></th>\n",
       "      <th></th>\n",
       "      <th></th>\n",
       "      <th></th>\n",
       "      <th></th>\n",
       "      <th></th>\n",
       "    </tr>\n",
       "  </thead>\n",
       "  <tbody>\n",
       "    <tr>\n",
       "      <th>2023-12-15</th>\n",
       "      <td>774.50</td>\n",
       "      <td>779.90</td>\n",
       "      <td>763.05</td>\n",
       "      <td>765.25</td>\n",
       "      <td>352696</td>\n",
       "      <td>0</td>\n",
       "    </tr>\n",
       "    <tr>\n",
       "      <th>2023-12-18</th>\n",
       "      <td>768.90</td>\n",
       "      <td>789.45</td>\n",
       "      <td>757.15</td>\n",
       "      <td>781.25</td>\n",
       "      <td>965918</td>\n",
       "      <td>0</td>\n",
       "    </tr>\n",
       "    <tr>\n",
       "      <th>2023-12-19</th>\n",
       "      <td>789.95</td>\n",
       "      <td>799.60</td>\n",
       "      <td>778.25</td>\n",
       "      <td>781.95</td>\n",
       "      <td>846627</td>\n",
       "      <td>0</td>\n",
       "    </tr>\n",
       "    <tr>\n",
       "      <th>2023-12-20</th>\n",
       "      <td>784.00</td>\n",
       "      <td>786.50</td>\n",
       "      <td>737.80</td>\n",
       "      <td>743.80</td>\n",
       "      <td>935363</td>\n",
       "      <td>0</td>\n",
       "    </tr>\n",
       "    <tr>\n",
       "      <th>2023-12-21</th>\n",
       "      <td>731.55</td>\n",
       "      <td>765.25</td>\n",
       "      <td>728.50</td>\n",
       "      <td>762.45</td>\n",
       "      <td>661832</td>\n",
       "      <td>0</td>\n",
       "    </tr>\n",
       "  </tbody>\n",
       "</table>\n",
       "</div>"
      ],
      "text/plain": [
       "              open    high     low   close  volume  open_interest\n",
       "date                                                             \n",
       "2023-12-15  774.50  779.90  763.05  765.25  352696              0\n",
       "2023-12-18  768.90  789.45  757.15  781.25  965918              0\n",
       "2023-12-19  789.95  799.60  778.25  781.95  846627              0\n",
       "2023-12-20  784.00  786.50  737.80  743.80  935363              0\n",
       "2023-12-21  731.55  765.25  728.50  762.45  661832              0"
      ]
     },
     "execution_count": 6,
     "metadata": {},
     "output_type": "execute_result"
    }
   ],
   "source": [
    "df = pd.DataFrame.from_dict(candles, orient=\"index\")\n",
    "df.index.name = \"date\"\n",
    "df.head()"
   ]
  },
  {
   "cell_type": "code",
   "execution_count": 7,
   "metadata": {},
   "outputs": [],
   "source": [
    "df.to_csv(\"candles.csv\")"
   ]
  },
  {
   "cell_type": "code",
   "execution_count": 8,
   "metadata": {},
   "outputs": [],
   "source": [
    "import math\n",
    "import numpy as np\n",
    "from datetime import datetime\n",
    "from dateutil.relativedelta import relativedelta"
   ]
  },
  {
   "cell_type": "code",
   "execution_count": 9,
   "metadata": {},
   "outputs": [
    {
     "name": "stdout",
     "output_type": "stream",
     "text": [
      "Mean: -0.0006940839300399\n",
      "Sum of squared deviations: 0.02625307663087031\n",
      "Variance: 0.0004234367198527469\n",
      "Variance: 0.00042343671985274703\n",
      "SD: 0.02057757808520592\n",
      "-0.0430332036624738 62 -0.0006940839300399\n"
     ]
    }
   ],
   "source": [
    "dates = list(candles.keys())\n",
    "n = len(dates)\n",
    "\n",
    "returns = []\n",
    "for i in range(n - 1):\n",
    "    prev_price = candles[dates[i]][\"close\"]\n",
    "    next_price = candles[dates[i + 1]][\"close\"]\n",
    "    r = math.log(prev_price / next_price)\n",
    "    returns.append(r)\n",
    "\n",
    "s = sum(returns)\n",
    "n -= 1 # Adjusting for the last data point\n",
    "mean = s / n\n",
    "print(\"Mean:\", mean)\n",
    "\n",
    "q = 0\n",
    "for r in returns:\n",
    "    q += (r - mean) ** 2\n",
    "\n",
    "print(\"Sum of squared deviations:\", q)\n",
    "print(\"Variance:\", q / n)\n",
    "\n",
    "variance = np.var(returns)\n",
    "print(\"Variance:\", variance)\n",
    "print(\"SD:\", variance ** 0.5)\n",
    "\n",
    "print(s, n, s/n)\n",
    "\n"
   ]
  },
  {
   "cell_type": "markdown",
   "metadata": {},
   "source": [
    "### Backtesting"
   ]
  },
  {
   "cell_type": "code",
   "execution_count": 10,
   "metadata": {},
   "outputs": [],
   "source": [
    "DATE_FORMAT = \"%Y-%m-%d\"\n",
    "smallcase_id = \"SCAW_0001\"\n",
    "quarter_end = \"2019-01-01\"\n",
    "params = {\"date\": quarter_end}\n",
    "\n",
    "smallcase = requests.get(f\"{local_base_url}/smallcases/{smallcase_id}\").json()\n",
    "constituents = requests.get(f\"{local_base_url}/smallcases/{smallcase_id}/constituents\", params=params).json()\n",
    "\n",
    "start_date = constituents[\"start_date\"]\n",
    "end_date = constituents[\"end_date\"]\n",
    "\n",
    "# prev_start_date = datetime.strptime(start_date, DATE_FORMAT) - relativedelta(months=3)\n",
    "# prev_start_date = prev_start_date.strftime(DATE_FORMAT)\n",
    "\n",
    "# prev_end_date = datetime.strptime(end_date, DATE_FORMAT) - relativedelta(months=3)\n",
    "# prev_end_date = prev_end_date.strftime(DATE_FORMAT)"
   ]
  },
  {
   "cell_type": "code",
   "execution_count": 11,
   "metadata": {},
   "outputs": [],
   "source": [
    "async def get_candles_from_smallcase_name(smallcase_name: str, start_date, end_date):\n",
    "    q = await db.collection(\"tickers\").where(\"smallcase_name\", \"==\", smallcase_name).get()\n",
    "    if q:\n",
    "        equity = q[0].to_dict()\n",
    "        resp = requests.get(f\"{local_base_url}/tickers/{equity['exchange_token']}/candles?start_date={start_date}&end_date={end_date}\")\n",
    "        if resp.status_code == 200:\n",
    "            return resp.json()\n",
    "        print(resp.status_code, \"Not Found\")"
   ]
  },
  {
   "cell_type": "code",
   "execution_count": 12,
   "metadata": {},
   "outputs": [],
   "source": [
    "async def get_candles(constituents, start_date, end_date):\n",
    "    candles = {}\n",
    "    for c in constituents:\n",
    "        # Maybe BE can have a call for this\n",
    "        ticker = await db.collection(\"tickers\").where(\"smallcase_name\", \"==\", c[\"smallcase_name\"]).get()\n",
    "        if ticker:\n",
    "            ticker = ticker[0].to_dict()\n",
    "            params = {\"start_date\": start_date, \"end_date\": end_date}\n",
    "            resp = requests.get(f\"{local_base_url}/tickers/{ticker['exchange_token']}/candles\", params=params)\n",
    "            candles[c[\"smallcase_name\"]] = resp.json()\n",
    "\n",
    "    return candles"
   ]
  },
  {
   "cell_type": "code",
   "execution_count": 13,
   "metadata": {},
   "outputs": [
    {
     "name": "stderr",
     "output_type": "stream",
     "text": [
      "/Library/Frameworks/Python.framework/Versions/3.11/lib/python3.11/site-packages/google/cloud/firestore_v1/base_collection.py:290: UserWarning: Detected filter using positional arguments. Prefer using the 'filter' keyword argument instead.\n",
      "  return query.where(field_path, op_string, value)\n",
      "/Users/aaryanpagar/Library/Python/3.11/lib/python/site-packages/google/api_core/retry/retry_unary.py:146: UserWarning: Using the synchronous google.api_core.retry.Retry with asynchronous calls may lead to unexpected results. Please use google.api_core.retry_async.AsyncRetry instead.\n",
      "  warnings.warn(_ASYNC_RETRY_WARNING)\n"
     ]
    },
    {
     "data": {
      "text/plain": [
       "True"
      ]
     },
     "execution_count": 13,
     "metadata": {},
     "output_type": "execute_result"
    }
   ],
   "source": [
    "c = constituents[\"constituents\"]\n",
    "candles = await get_candles(c, start_date, end_date)\n",
    "len(candles) == len(c)"
   ]
  },
  {
   "cell_type": "code",
   "execution_count": 18,
   "metadata": {},
   "outputs": [
    {
     "name": "stderr",
     "output_type": "stream",
     "text": [
      "/Library/Frameworks/Python.framework/Versions/3.11/lib/python3.11/site-packages/google/cloud/firestore_v1/base_collection.py:290: UserWarning: Detected filter using positional arguments. Prefer using the 'filter' keyword argument instead.\n",
      "  return query.where(field_path, op_string, value)\n",
      "/Users/aaryanpagar/Library/Python/3.11/lib/python/site-packages/google/api_core/retry/retry_unary.py:146: UserWarning: Using the synchronous google.api_core.retry.Retry with asynchronous calls may lead to unexpected results. Please use google.api_core.retry_async.AsyncRetry instead.\n",
      "  warnings.warn(_ASYNC_RETRY_WARNING)\n"
     ]
    },
    {
     "data": {
      "text/plain": [
       "True"
      ]
     },
     "execution_count": 18,
     "metadata": {},
     "output_type": "execute_result"
    }
   ],
   "source": [
    "candles_at_inception = {}\n",
    "inception_date = \"2018-07-18\"\n",
    "\n",
    "for constituent in c:\n",
    "    ticker = await db.collection(\"tickers\").where(\"smallcase_name\", \"==\", constituent[\"smallcase_name\"]).get()\n",
    "    if ticker:\n",
    "        ticker = ticker[0].to_dict()\n",
    "        resp = requests.get(f\"{local_base_url}/tickers/{ticker['exchange_token']}/candles/{inception_date}\")\n",
    "        candles_at_inception[constituent[\"smallcase_name\"]] = resp.json()\n",
    "\n",
    "len(candles_at_inception) == len(c)"
   ]
  },
  {
   "cell_type": "code",
   "execution_count": 19,
   "metadata": {},
   "outputs": [],
   "source": [
    "def calculate_index(constituents: list, inception_date: str, date: str) -> int:\n",
    "    index = 100\n",
    "    indexes = 0\n",
    "    for c in constituents:\n",
    "        try:\n",
    "            name = c[\"smallcase_name\"]\n",
    "            weight = c[\"original_weightage\"]\n",
    "\n",
    "            close = candles[name][date][\"close\"]\n",
    "            close_at_inception = candles_at_inception[name][\"daily\"][inception_date][\"close\"]\n",
    "\n",
    "            investable_shares = (index * weight) / close_at_inception\n",
    "            indexes += investable_shares * close\n",
    "            \n",
    "        except KeyError as e:\n",
    "            print(e)\n",
    "            print(f\"Candle not found for {name}. Skipping index on {date}.\")\n",
    "            continue\n",
    "    return indexes\n"
   ]
  },
  {
   "cell_type": "code",
   "execution_count": 20,
   "metadata": {},
   "outputs": [
    {
     "data": {
      "text/plain": [
       "103.66443091913047"
      ]
     },
     "execution_count": 20,
     "metadata": {},
     "output_type": "execute_result"
    }
   ],
   "source": [
    "indexes = calculate_index(c, inception_date, \"2019-03-27\")\n",
    "indexes"
   ]
  },
  {
   "cell_type": "markdown",
   "metadata": {},
   "source": [
    "## Expected Value"
   ]
  },
  {
   "cell_type": "code",
   "execution_count": 39,
   "metadata": {},
   "outputs": [],
   "source": [
    "from pmdarima.arima import auto_arima\n",
    "from statsmodels.tsa.arima.model import ARIMA\n",
    "import numpy as np"
   ]
  },
  {
   "cell_type": "code",
   "execution_count": 42,
   "metadata": {},
   "outputs": [
    {
     "data": {
      "text/html": [
       "<div>\n",
       "<style scoped>\n",
       "    .dataframe tbody tr th:only-of-type {\n",
       "        vertical-align: middle;\n",
       "    }\n",
       "\n",
       "    .dataframe tbody tr th {\n",
       "        vertical-align: top;\n",
       "    }\n",
       "\n",
       "    .dataframe thead th {\n",
       "        text-align: right;\n",
       "    }\n",
       "</style>\n",
       "<table border=\"1\" class=\"dataframe\">\n",
       "  <thead>\n",
       "    <tr style=\"text-align: right;\">\n",
       "      <th></th>\n",
       "      <th>close</th>\n",
       "    </tr>\n",
       "  </thead>\n",
       "  <tbody>\n",
       "    <tr>\n",
       "      <th>2019-01-01</th>\n",
       "      <td>113.98</td>\n",
       "    </tr>\n",
       "    <tr>\n",
       "      <th>2019-01-02</th>\n",
       "      <td>112.97</td>\n",
       "    </tr>\n",
       "    <tr>\n",
       "      <th>2019-01-03</th>\n",
       "      <td>111.83</td>\n",
       "    </tr>\n",
       "    <tr>\n",
       "      <th>2019-01-04</th>\n",
       "      <td>112.49</td>\n",
       "    </tr>\n",
       "    <tr>\n",
       "      <th>2019-01-07</th>\n",
       "      <td>112.56</td>\n",
       "    </tr>\n",
       "  </tbody>\n",
       "</table>\n",
       "</div>"
      ],
      "text/plain": [
       "             close\n",
       "2019-01-01  113.98\n",
       "2019-01-02  112.97\n",
       "2019-01-03  111.83\n",
       "2019-01-04  112.49\n",
       "2019-01-07  112.56"
      ]
     },
     "execution_count": 42,
     "metadata": {},
     "output_type": "execute_result"
    }
   ],
   "source": [
    "constituent = \"Nippon India ETF Nifty 50 BeES\"\n",
    "df = pd.DataFrame.from_dict(candles[constituent], orient=\"index\")\n",
    "df_close = df[\"close\"].to_frame()\n",
    "df_close.head()\n"
   ]
  },
  {
   "cell_type": "code",
   "execution_count": 46,
   "metadata": {},
   "outputs": [
    {
     "name": "stdout",
     "output_type": "stream",
     "text": [
      "Performing stepwise search to minimize aic\n",
      " ARIMA(2,1,2)(1,0,1)[4] intercept   : AIC=144.255, Time=0.39 sec\n",
      " ARIMA(0,1,0)(0,0,0)[4] intercept   : AIC=136.956, Time=0.01 sec\n",
      " ARIMA(1,1,0)(1,0,0)[4] intercept   : AIC=138.460, Time=0.01 sec\n",
      " ARIMA(0,1,1)(0,0,1)[4] intercept   : AIC=138.439, Time=0.01 sec\n",
      " ARIMA(0,1,0)(0,0,0)[4]             : AIC=136.989, Time=0.00 sec\n",
      " ARIMA(0,1,0)(1,0,0)[4] intercept   : AIC=138.869, Time=0.01 sec\n",
      " ARIMA(0,1,0)(0,0,1)[4] intercept   : AIC=138.816, Time=0.01 sec\n",
      " ARIMA(0,1,0)(1,0,1)[4] intercept   : AIC=139.734, Time=0.03 sec\n",
      " ARIMA(1,1,0)(0,0,0)[4] intercept   : AIC=136.740, Time=0.01 sec\n",
      " ARIMA(1,1,0)(0,0,1)[4] intercept   : AIC=138.311, Time=0.02 sec\n",
      " ARIMA(1,1,0)(1,0,1)[4] intercept   : AIC=139.302, Time=0.11 sec\n",
      " ARIMA(2,1,0)(0,0,0)[4] intercept   : AIC=138.735, Time=0.02 sec\n",
      " ARIMA(1,1,1)(0,0,0)[4] intercept   : AIC=138.735, Time=0.02 sec\n",
      " ARIMA(0,1,1)(0,0,0)[4] intercept   : AIC=136.852, Time=0.01 sec\n",
      " ARIMA(2,1,1)(0,0,0)[4] intercept   : AIC=140.734, Time=0.03 sec\n",
      " ARIMA(1,1,0)(0,0,0)[4]             : AIC=136.065, Time=0.01 sec\n",
      " ARIMA(1,1,0)(1,0,0)[4]             : AIC=137.579, Time=0.01 sec\n",
      " ARIMA(1,1,0)(0,0,1)[4]             : AIC=137.371, Time=0.01 sec\n",
      " ARIMA(1,1,0)(1,0,1)[4]             : AIC=138.460, Time=0.02 sec\n",
      " ARIMA(2,1,0)(0,0,0)[4]             : AIC=137.994, Time=0.01 sec\n",
      " ARIMA(1,1,1)(0,0,0)[4]             : AIC=137.967, Time=0.01 sec\n",
      " ARIMA(0,1,1)(0,0,0)[4]             : AIC=136.344, Time=0.01 sec\n",
      " ARIMA(2,1,1)(0,0,0)[4]             : AIC=139.883, Time=0.02 sec\n",
      "\n",
      "Best model:  ARIMA(1,1,0)(0,0,0)[4]          \n",
      "Total fit time: 0.802 seconds\n"
     ]
    },
    {
     "data": {
      "text/plain": [
       "((1, 1, 0), (0, 0, 0, 4))"
      ]
     },
     "execution_count": 46,
     "metadata": {},
     "output_type": "execute_result"
    }
   ],
   "source": [
    "m = 4 # Quarterly data\n",
    "model = auto_arima(df_close, seasonal=True, trace=True, m=m)\n",
    "best_order = model.get_params()[\"order\"]\n",
    "best_seasonal_order = model.get_params()[\"seasonal_order\"]\n",
    "best_order, best_seasonal_order"
   ]
  },
  {
   "cell_type": "code",
   "execution_count": 47,
   "metadata": {},
   "outputs": [],
   "source": [
    "def get_expected_value(candles: list):\n",
    "    model = ARIMA(candles, order=best_order)\n",
    "    model_fit = model.fit()    \n",
    "    expected_value = model_fit.forecast()\n",
    "    return expected_value[0]"
   ]
  },
  {
   "cell_type": "code",
   "execution_count": 77,
   "metadata": {},
   "outputs": [],
   "source": [
    "temp = df_close[\"close\"].values\n",
    "train_split = int(0.6 * len(temp)) # 60-40 split\n",
    "train, test = temp[:train_split], temp[train_split:]\n",
    "\n",
    "\n",
    "candles = [c for c in train]\n",
    "expected_values = []\n",
    "for candle in test:\n",
    "    expected_values.append(get_expected_value(candles))\n",
    "    candles.append(candle)\n"
   ]
  },
  {
   "cell_type": "code",
   "execution_count": 78,
   "metadata": {},
   "outputs": [
    {
     "data": {
      "image/png": "[encoded data removed]",
      "text/plain": [
       "<Figure size 1000x500 with 1 Axes>"
      ]
     },
     "metadata": {},
     "output_type": "display_data"
    }
   ],
   "source": [
    "plt.figure(figsize=(10, 5))\n",
    "plt.title('ARIMA Expected vs Actual')\n",
    "plt.xlabel('Time')\n",
    "plt.ylabel('Close')\n",
    "plt.xticks(rotation=45)\n",
    "plt.plot(df_close.iloc[train_split:].index, test, label='Actual Value')\n",
    "plt.plot(df_close.iloc[train_split:].index, expected_values, label='Expected Value')\n",
    "plt.legend()\n",
    "plt.show()"
   ]
  },
  {
   "cell_type": "code",
   "execution_count": null,
   "metadata": {},
   "outputs": [],
   "source": []
  }
 ],
 "metadata": {
  "kernelspec": {
   "display_name": "Python 3",
   "language": "python",
   "name": "python3"
  },
  "language_info": {
   "codemirror_mode": {
    "name": "ipython",
    "version": 3
   },
   "file_extension": ".py",
   "mimetype": "text/x-python",
   "name": "python",
   "nbconvert_exporter": "python",
   "pygments_lexer": "ipython3",
   "version": "3.11.1"
  }
 },
 "nbformat": 4,
 "nbformat_minor": 2
}
