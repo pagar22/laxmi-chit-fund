{
 "cells": [
  {
   "cell_type": "markdown",
   "metadata": {},
   "source": [
    "### UPSTOX API"
   ]
  },
  {
   "cell_type": "code",
   "execution_count": 19,
   "metadata": {},
   "outputs": [],
   "source": [
    "import requests\n",
    "import webbrowser"
   ]
  },
  {
   "cell_type": "code",
   "execution_count": 3,
   "metadata": {},
   "outputs": [],
   "source": [
    "UPSTOX_BASE_URL = \"https://api.upstox.com/v2/\""
   ]
  },
  {
   "cell_type": "code",
   "execution_count": 17,
   "metadata": {},
   "outputs": [
    {
     "data": {
      "text/plain": [
       "<Response [400]>"
      ]
     },
     "execution_count": 17,
     "metadata": {},
     "output_type": "execute_result"
    }
   ],
   "source": [
    "class Session(requests.Session):\n",
    "\n",
    "\n",
    "    def __init__(self, base_url):\n",
    "        super().__init__()\n",
    "        self.base_url = base_url\n",
    "        self.headers.update({ \"Accept\": \"application/json\" })\n",
    "    \n",
    "    def get(self, url, **kwargs):\n",
    "        return super().get(f\"{self.base_url}/{url}\", **kwargs)\n",
    "\n",
    "client = Session(UPSTOX_BASE_URL)\n",
    "client.get(\"ping\")"
   ]
  },
  {
   "cell_type": "code",
   "execution_count": 18,
   "metadata": {},
   "outputs": [
    {
     "name": "stdout",
     "output_type": "stream",
     "text": [
      "{'status': 'success', 'data': {'candles': [['2024-01-05T00:00:00+05:30', 478.95, 480, 473.05, 475.55, 120179, 0], ['2024-01-04T00:00:00+05:30', 471, 476.75, 468.15, 471.85, 104859, 0], ['2024-01-03T00:00:00+05:30', 472.9, 477.35, 466.2, 469.25, 93426, 0], ['2024-01-02T00:00:00+05:30', 474.45, 475.5, 466, 469.2, 71316, 0], ['2024-01-01T00:00:00+05:30', 472, 477, 468.35, 474.45, 76563, 0]]}}\n"
     ]
    }
   ],
   "source": [
    "resp = client.get(\"historical-candle/NSE_EQ|INE404A01024/day/2024-01-05/2024-01-01\")\n",
    "print(resp.json())"
   ]
  },
  {
   "cell_type": "code",
   "execution_count": null,
   "metadata": {},
   "outputs": [],
   "source": []
  }
 ],
 "metadata": {
  "kernelspec": {
   "display_name": "Python 3",
   "language": "python",
   "name": "python3"
  },
  "language_info": {
   "codemirror_mode": {
    "name": "ipython",
    "version": 3
   },
   "file_extension": ".py",
   "mimetype": "text/x-python",
   "name": "python",
   "nbconvert_exporter": "python",
   "pygments_lexer": "ipython3",
   "version": "3.11.1"
  }
 },
 "nbformat": 4,
 "nbformat_minor": 2
}
