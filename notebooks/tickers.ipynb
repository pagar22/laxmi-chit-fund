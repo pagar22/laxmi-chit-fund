{
 "cells": [
  {
   "cell_type": "code",
   "execution_count": 1,
   "metadata": {},
   "outputs": [
    {
     "name": "stderr",
     "output_type": "stream",
     "text": [
      "/var/folders/lq/280gf8ld14v161g6ngpdjjnc0000gn/T/ipykernel_17310/1662815981.py:2: DeprecationWarning: \n",
      "Pyarrow will become a required dependency of pandas in the next major release of pandas (pandas 3.0),\n",
      "(to allow more performant data types, such as the Arrow string type, and better interoperability with other libraries)\n",
      "but was not found to be installed on your system.\n",
      "If this would cause problems for you,\n",
      "please provide us feedback at https://github.com/pandas-dev/pandas/issues/54466\n",
      "        \n",
      "  import pandas as pd\n"
     ]
    }
   ],
   "source": [
    "import numpy as np\n",
    "import pandas as pd"
   ]
  },
  {
   "cell_type": "code",
   "execution_count": 2,
   "metadata": {},
   "outputs": [],
   "source": [
    "import requests\n",
    "base_url = \"http://localhost:2000\"\n",
    "upstox_url = \"https://api.upstox.com/v2\""
   ]
  },
  {
   "cell_type": "code",
   "execution_count": 3,
   "metadata": {},
   "outputs": [
    {
     "name": "stderr",
     "output_type": "stream",
     "text": [
      "/Users/aaryanpagar/Library/Python/3.11/lib/python/site-packages/google/auth/_default.py:76: UserWarning: Your application has authenticated using end user credentials from Google Cloud SDK without a quota project. You might receive a \"quota exceeded\" or \"API not enabled\" error. See the following page for troubleshooting: https://cloud.google.com/docs/authentication/adc-troubleshooting/user-creds. \n",
      "  warnings.warn(_CLOUD_SDK_CREDENTIALS_WARNING)\n"
     ]
    }
   ],
   "source": [
    "import os\n",
    "import sys\n",
    "\n",
    "backend_path = os.path.abspath(os.path.join(os.getcwd(), '../backend'))\n",
    "sys.path.append(backend_path)\n",
    "from app.internal.firebase import db"
   ]
  },
  {
   "cell_type": "markdown",
   "metadata": {},
   "source": [
    "### NSE Tickers Wrangling"
   ]
  },
  {
   "cell_type": "code",
   "execution_count": 4,
   "metadata": {},
   "outputs": [
    {
     "data": {
      "text/html": [
       "<div>\n",
       "<style scoped>\n",
       "    .dataframe tbody tr th:only-of-type {\n",
       "        vertical-align: middle;\n",
       "    }\n",
       "\n",
       "    .dataframe tbody tr th {\n",
       "        vertical-align: top;\n",
       "    }\n",
       "\n",
       "    .dataframe thead th {\n",
       "        text-align: right;\n",
       "    }\n",
       "</style>\n",
       "<table border=\"1\" class=\"dataframe\">\n",
       "  <thead>\n",
       "    <tr style=\"text-align: right;\">\n",
       "      <th></th>\n",
       "      <th>instrument_key</th>\n",
       "      <th>exchange_token</th>\n",
       "      <th>tradingsymbol</th>\n",
       "      <th>name</th>\n",
       "      <th>last_price</th>\n",
       "      <th>expiry</th>\n",
       "      <th>strike</th>\n",
       "      <th>tick_size</th>\n",
       "      <th>lot_size</th>\n",
       "      <th>instrument_type</th>\n",
       "      <th>option_type</th>\n",
       "      <th>exchange</th>\n",
       "    </tr>\n",
       "  </thead>\n",
       "  <tbody>\n",
       "    <tr>\n",
       "      <th>0</th>\n",
       "      <td>NSE_INDEX|Nifty 50</td>\n",
       "      <td>17.0</td>\n",
       "      <td>NaN</td>\n",
       "      <td>Nifty 50</td>\n",
       "      <td>21995.85</td>\n",
       "      <td>NaN</td>\n",
       "      <td>NaN</td>\n",
       "      <td>NaN</td>\n",
       "      <td>NaN</td>\n",
       "      <td>INDEX</td>\n",
       "      <td>NaN</td>\n",
       "      <td>NSE_INDEX</td>\n",
       "    </tr>\n",
       "    <tr>\n",
       "      <th>1</th>\n",
       "      <td>NSE_INDEX|NIFTY100 EQL Wgt</td>\n",
       "      <td>NaN</td>\n",
       "      <td>NaN</td>\n",
       "      <td>NIFTY100 EQL Wgt</td>\n",
       "      <td>29240.40</td>\n",
       "      <td>NaN</td>\n",
       "      <td>NaN</td>\n",
       "      <td>NaN</td>\n",
       "      <td>NaN</td>\n",
       "      <td>INDEX</td>\n",
       "      <td>NaN</td>\n",
       "      <td>NSE_INDEX</td>\n",
       "    </tr>\n",
       "    <tr>\n",
       "      <th>2</th>\n",
       "      <td>NSE_INDEX|NIFTY50 EQL Wgt</td>\n",
       "      <td>NaN</td>\n",
       "      <td>NaN</td>\n",
       "      <td>NIFTY50 EQL Wgt</td>\n",
       "      <td>27648.65</td>\n",
       "      <td>NaN</td>\n",
       "      <td>NaN</td>\n",
       "      <td>NaN</td>\n",
       "      <td>NaN</td>\n",
       "      <td>INDEX</td>\n",
       "      <td>NaN</td>\n",
       "      <td>NSE_INDEX</td>\n",
       "    </tr>\n",
       "    <tr>\n",
       "      <th>3</th>\n",
       "      <td>NSE_INDEX|NiftyM150Momntm50</td>\n",
       "      <td>NaN</td>\n",
       "      <td>NaN</td>\n",
       "      <td>NiftyM150Momntm50</td>\n",
       "      <td>54049.45</td>\n",
       "      <td>NaN</td>\n",
       "      <td>NaN</td>\n",
       "      <td>NaN</td>\n",
       "      <td>NaN</td>\n",
       "      <td>INDEX</td>\n",
       "      <td>NaN</td>\n",
       "      <td>NSE_INDEX</td>\n",
       "    </tr>\n",
       "    <tr>\n",
       "      <th>4</th>\n",
       "      <td>NSE_INDEX|Nifty Auto</td>\n",
       "      <td>48.0</td>\n",
       "      <td>NaN</td>\n",
       "      <td>Nifty Auto</td>\n",
       "      <td>21520.75</td>\n",
       "      <td>NaN</td>\n",
       "      <td>NaN</td>\n",
       "      <td>NaN</td>\n",
       "      <td>NaN</td>\n",
       "      <td>INDEX</td>\n",
       "      <td>NaN</td>\n",
       "      <td>NSE_INDEX</td>\n",
       "    </tr>\n",
       "  </tbody>\n",
       "</table>\n",
       "</div>"
      ],
      "text/plain": [
       "                instrument_key  exchange_token tradingsymbol  \\\n",
       "0           NSE_INDEX|Nifty 50            17.0           NaN   \n",
       "1   NSE_INDEX|NIFTY100 EQL Wgt             NaN           NaN   \n",
       "2    NSE_INDEX|NIFTY50 EQL Wgt             NaN           NaN   \n",
       "3  NSE_INDEX|NiftyM150Momntm50             NaN           NaN   \n",
       "4         NSE_INDEX|Nifty Auto            48.0           NaN   \n",
       "\n",
       "                name  last_price expiry  strike  tick_size  lot_size  \\\n",
       "0           Nifty 50    21995.85    NaN     NaN        NaN       NaN   \n",
       "1   NIFTY100 EQL Wgt    29240.40    NaN     NaN        NaN       NaN   \n",
       "2    NIFTY50 EQL Wgt    27648.65    NaN     NaN        NaN       NaN   \n",
       "3  NiftyM150Momntm50    54049.45    NaN     NaN        NaN       NaN   \n",
       "4         Nifty Auto    21520.75    NaN     NaN        NaN       NaN   \n",
       "\n",
       "  instrument_type option_type   exchange  \n",
       "0           INDEX         NaN  NSE_INDEX  \n",
       "1           INDEX         NaN  NSE_INDEX  \n",
       "2           INDEX         NaN  NSE_INDEX  \n",
       "3           INDEX         NaN  NSE_INDEX  \n",
       "4           INDEX         NaN  NSE_INDEX  "
      ]
     },
     "execution_count": 4,
     "metadata": {},
     "output_type": "execute_result"
    }
   ],
   "source": [
    "instruments = pd.read_csv(\"data/upstox/NSE.csv\")\n",
    "instruments.head()"
   ]
  },
  {
   "cell_type": "code",
   "execution_count": 5,
   "metadata": {},
   "outputs": [
    {
     "data": {
      "text/html": [
       "<div>\n",
       "<style scoped>\n",
       "    .dataframe tbody tr th:only-of-type {\n",
       "        vertical-align: middle;\n",
       "    }\n",
       "\n",
       "    .dataframe tbody tr th {\n",
       "        vertical-align: top;\n",
       "    }\n",
       "\n",
       "    .dataframe thead th {\n",
       "        text-align: right;\n",
       "    }\n",
       "</style>\n",
       "<table border=\"1\" class=\"dataframe\">\n",
       "  <thead>\n",
       "    <tr style=\"text-align: right;\">\n",
       "      <th></th>\n",
       "      <th>instrument_key</th>\n",
       "      <th>exchange_token</th>\n",
       "      <th>tradingsymbol</th>\n",
       "      <th>name</th>\n",
       "      <th>last_price</th>\n",
       "      <th>expiry</th>\n",
       "      <th>strike</th>\n",
       "      <th>tick_size</th>\n",
       "      <th>lot_size</th>\n",
       "      <th>instrument_type</th>\n",
       "      <th>option_type</th>\n",
       "      <th>exchange</th>\n",
       "    </tr>\n",
       "  </thead>\n",
       "  <tbody>\n",
       "    <tr>\n",
       "      <th>77</th>\n",
       "      <td>NSE_EQ|DUMMYSAN005</td>\n",
       "      <td>14747.0</td>\n",
       "      <td>011NSETEST</td>\n",
       "      <td>011NSETEST</td>\n",
       "      <td>NaN</td>\n",
       "      <td>NaN</td>\n",
       "      <td>NaN</td>\n",
       "      <td>0.05</td>\n",
       "      <td>1.0</td>\n",
       "      <td>EQUITY</td>\n",
       "      <td>NaN</td>\n",
       "      <td>NSE_EQ</td>\n",
       "    </tr>\n",
       "    <tr>\n",
       "      <th>78</th>\n",
       "      <td>NSE_EQ|DUMMYSAN006</td>\n",
       "      <td>14751.0</td>\n",
       "      <td>021NSETEST</td>\n",
       "      <td>021NSETEST</td>\n",
       "      <td>NaN</td>\n",
       "      <td>NaN</td>\n",
       "      <td>NaN</td>\n",
       "      <td>0.05</td>\n",
       "      <td>1.0</td>\n",
       "      <td>EQUITY</td>\n",
       "      <td>NaN</td>\n",
       "      <td>NSE_EQ</td>\n",
       "    </tr>\n",
       "    <tr>\n",
       "      <th>79</th>\n",
       "      <td>NSE_EQ|DUMMYSAN007</td>\n",
       "      <td>14753.0</td>\n",
       "      <td>031NSETEST</td>\n",
       "      <td>031NSETEST</td>\n",
       "      <td>NaN</td>\n",
       "      <td>NaN</td>\n",
       "      <td>NaN</td>\n",
       "      <td>0.05</td>\n",
       "      <td>1.0</td>\n",
       "      <td>EQUITY</td>\n",
       "      <td>NaN</td>\n",
       "      <td>NSE_EQ</td>\n",
       "    </tr>\n",
       "    <tr>\n",
       "      <th>80</th>\n",
       "      <td>NSE_EQ|DUMMYSAN008</td>\n",
       "      <td>14755.0</td>\n",
       "      <td>041NSETEST</td>\n",
       "      <td>041NSETEST</td>\n",
       "      <td>NaN</td>\n",
       "      <td>NaN</td>\n",
       "      <td>NaN</td>\n",
       "      <td>0.05</td>\n",
       "      <td>1.0</td>\n",
       "      <td>EQUITY</td>\n",
       "      <td>NaN</td>\n",
       "      <td>NSE_EQ</td>\n",
       "    </tr>\n",
       "    <tr>\n",
       "      <th>81</th>\n",
       "      <td>NSE_EQ|DUMMYSAN009</td>\n",
       "      <td>14758.0</td>\n",
       "      <td>051NSETEST</td>\n",
       "      <td>051NSETEST</td>\n",
       "      <td>NaN</td>\n",
       "      <td>NaN</td>\n",
       "      <td>NaN</td>\n",
       "      <td>0.05</td>\n",
       "      <td>1.0</td>\n",
       "      <td>EQUITY</td>\n",
       "      <td>NaN</td>\n",
       "      <td>NSE_EQ</td>\n",
       "    </tr>\n",
       "  </tbody>\n",
       "</table>\n",
       "</div>"
      ],
      "text/plain": [
       "        instrument_key  exchange_token tradingsymbol        name  last_price  \\\n",
       "77  NSE_EQ|DUMMYSAN005         14747.0    011NSETEST  011NSETEST         NaN   \n",
       "78  NSE_EQ|DUMMYSAN006         14751.0    021NSETEST  021NSETEST         NaN   \n",
       "79  NSE_EQ|DUMMYSAN007         14753.0    031NSETEST  031NSETEST         NaN   \n",
       "80  NSE_EQ|DUMMYSAN008         14755.0    041NSETEST  041NSETEST         NaN   \n",
       "81  NSE_EQ|DUMMYSAN009         14758.0    051NSETEST  051NSETEST         NaN   \n",
       "\n",
       "   expiry  strike  tick_size  lot_size instrument_type option_type exchange  \n",
       "77    NaN     NaN       0.05       1.0          EQUITY         NaN   NSE_EQ  \n",
       "78    NaN     NaN       0.05       1.0          EQUITY         NaN   NSE_EQ  \n",
       "79    NaN     NaN       0.05       1.0          EQUITY         NaN   NSE_EQ  \n",
       "80    NaN     NaN       0.05       1.0          EQUITY         NaN   NSE_EQ  \n",
       "81    NaN     NaN       0.05       1.0          EQUITY         NaN   NSE_EQ  "
      ]
     },
     "execution_count": 5,
     "metadata": {},
     "output_type": "execute_result"
    }
   ],
   "source": [
    "equities = instruments.query('instrument_type == \"EQUITY\" and exchange == \"NSE_EQ\"')\n",
    "equities.head()"
   ]
  },
  {
   "cell_type": "code",
   "execution_count": 6,
   "metadata": {},
   "outputs": [
    {
     "data": {
      "text/html": [
       "<div>\n",
       "<style scoped>\n",
       "    .dataframe tbody tr th:only-of-type {\n",
       "        vertical-align: middle;\n",
       "    }\n",
       "\n",
       "    .dataframe tbody tr th {\n",
       "        vertical-align: top;\n",
       "    }\n",
       "\n",
       "    .dataframe thead th {\n",
       "        text-align: right;\n",
       "    }\n",
       "</style>\n",
       "<table border=\"1\" class=\"dataframe\">\n",
       "  <thead>\n",
       "    <tr style=\"text-align: right;\">\n",
       "      <th></th>\n",
       "      <th>instrument_key</th>\n",
       "      <th>exchange_token</th>\n",
       "      <th>tradingsymbol</th>\n",
       "      <th>name</th>\n",
       "      <th>last_price</th>\n",
       "      <th>expiry</th>\n",
       "      <th>strike</th>\n",
       "      <th>tick_size</th>\n",
       "      <th>lot_size</th>\n",
       "      <th>instrument_type</th>\n",
       "      <th>option_type</th>\n",
       "      <th>exchange</th>\n",
       "    </tr>\n",
       "  </thead>\n",
       "  <tbody>\n",
       "    <tr>\n",
       "      <th>0</th>\n",
       "      <td>NSE_INDEX|Nifty 50</td>\n",
       "      <td>17.0</td>\n",
       "      <td>NaN</td>\n",
       "      <td>Nifty 50</td>\n",
       "      <td>21995.85</td>\n",
       "      <td>NaN</td>\n",
       "      <td>NaN</td>\n",
       "      <td>NaN</td>\n",
       "      <td>NaN</td>\n",
       "      <td>INDEX</td>\n",
       "      <td>NaN</td>\n",
       "      <td>NSE_INDEX</td>\n",
       "    </tr>\n",
       "    <tr>\n",
       "      <th>1</th>\n",
       "      <td>NSE_INDEX|NIFTY100 EQL Wgt</td>\n",
       "      <td>NaN</td>\n",
       "      <td>NaN</td>\n",
       "      <td>NIFTY100 EQL Wgt</td>\n",
       "      <td>29240.40</td>\n",
       "      <td>NaN</td>\n",
       "      <td>NaN</td>\n",
       "      <td>NaN</td>\n",
       "      <td>NaN</td>\n",
       "      <td>INDEX</td>\n",
       "      <td>NaN</td>\n",
       "      <td>NSE_INDEX</td>\n",
       "    </tr>\n",
       "    <tr>\n",
       "      <th>2</th>\n",
       "      <td>NSE_INDEX|NIFTY50 EQL Wgt</td>\n",
       "      <td>NaN</td>\n",
       "      <td>NaN</td>\n",
       "      <td>NIFTY50 EQL Wgt</td>\n",
       "      <td>27648.65</td>\n",
       "      <td>NaN</td>\n",
       "      <td>NaN</td>\n",
       "      <td>NaN</td>\n",
       "      <td>NaN</td>\n",
       "      <td>INDEX</td>\n",
       "      <td>NaN</td>\n",
       "      <td>NSE_INDEX</td>\n",
       "    </tr>\n",
       "    <tr>\n",
       "      <th>3</th>\n",
       "      <td>NSE_INDEX|NiftyM150Momntm50</td>\n",
       "      <td>NaN</td>\n",
       "      <td>NaN</td>\n",
       "      <td>NiftyM150Momntm50</td>\n",
       "      <td>54049.45</td>\n",
       "      <td>NaN</td>\n",
       "      <td>NaN</td>\n",
       "      <td>NaN</td>\n",
       "      <td>NaN</td>\n",
       "      <td>INDEX</td>\n",
       "      <td>NaN</td>\n",
       "      <td>NSE_INDEX</td>\n",
       "    </tr>\n",
       "    <tr>\n",
       "      <th>4</th>\n",
       "      <td>NSE_INDEX|Nifty Auto</td>\n",
       "      <td>48.0</td>\n",
       "      <td>NaN</td>\n",
       "      <td>Nifty Auto</td>\n",
       "      <td>21520.75</td>\n",
       "      <td>NaN</td>\n",
       "      <td>NaN</td>\n",
       "      <td>NaN</td>\n",
       "      <td>NaN</td>\n",
       "      <td>INDEX</td>\n",
       "      <td>NaN</td>\n",
       "      <td>NSE_INDEX</td>\n",
       "    </tr>\n",
       "  </tbody>\n",
       "</table>\n",
       "</div>"
      ],
      "text/plain": [
       "                instrument_key  exchange_token tradingsymbol  \\\n",
       "0           NSE_INDEX|Nifty 50            17.0           NaN   \n",
       "1   NSE_INDEX|NIFTY100 EQL Wgt             NaN           NaN   \n",
       "2    NSE_INDEX|NIFTY50 EQL Wgt             NaN           NaN   \n",
       "3  NSE_INDEX|NiftyM150Momntm50             NaN           NaN   \n",
       "4         NSE_INDEX|Nifty Auto            48.0           NaN   \n",
       "\n",
       "                name  last_price expiry  strike  tick_size  lot_size  \\\n",
       "0           Nifty 50    21995.85    NaN     NaN        NaN       NaN   \n",
       "1   NIFTY100 EQL Wgt    29240.40    NaN     NaN        NaN       NaN   \n",
       "2    NIFTY50 EQL Wgt    27648.65    NaN     NaN        NaN       NaN   \n",
       "3  NiftyM150Momntm50    54049.45    NaN     NaN        NaN       NaN   \n",
       "4         Nifty Auto    21520.75    NaN     NaN        NaN       NaN   \n",
       "\n",
       "  instrument_type option_type   exchange  \n",
       "0           INDEX         NaN  NSE_INDEX  \n",
       "1           INDEX         NaN  NSE_INDEX  \n",
       "2           INDEX         NaN  NSE_INDEX  \n",
       "3           INDEX         NaN  NSE_INDEX  \n",
       "4           INDEX         NaN  NSE_INDEX  "
      ]
     },
     "execution_count": 6,
     "metadata": {},
     "output_type": "execute_result"
    }
   ],
   "source": [
    "indexes = instruments.query('instrument_type == \"INDEX\" and exchange == \"NSE_INDEX\"')\n",
    "indexes.head()"
   ]
  },
  {
   "cell_type": "markdown",
   "metadata": {},
   "source": [
    "GOAL ~ 2400 NSE listed companies\n",
    "Remove:\n",
    "- Government issued instruments\n",
    "- Anything with %\n",
    "- NSETEST"
   ]
  },
  {
   "cell_type": "code",
   "execution_count": 7,
   "metadata": {},
   "outputs": [
    {
     "data": {
      "text/plain": [
       "(2894, 12)"
      ]
     },
     "execution_count": 7,
     "metadata": {},
     "output_type": "execute_result"
    }
   ],
   "source": [
    "randoms = [\"%\", \"NSETEST\"]\n",
    "goi_issues = [\"GOI STRIPS\", \"GOI TBILL\", \"GOI LOAN\"]\n",
    "\n",
    "def remove_names(name):\n",
    "    return all(i not in name for i in randoms + goi_issues)\n",
    "\n",
    "equities = equities[equities[\"name\"].apply(lambda x: remove_names(x))]\n",
    "equities[\"exchange\"] = equities[\"exchange\"].str.replace(\"NSE_EQ\", \"NSE\")\n",
    "\n",
    "equities.shape\n"
   ]
  },
  {
   "cell_type": "markdown",
   "metadata": {},
   "source": [
    "Remove Indexes with no exchange token"
   ]
  },
  {
   "cell_type": "code",
   "execution_count": 8,
   "metadata": {},
   "outputs": [
    {
     "name": "stderr",
     "output_type": "stream",
     "text": [
      "/var/folders/lq/280gf8ld14v161g6ngpdjjnc0000gn/T/ipykernel_17310/3341430381.py:1: SettingWithCopyWarning: \n",
      "A value is trying to be set on a copy of a slice from a DataFrame\n",
      "\n",
      "See the caveats in the documentation: https://pandas.pydata.org/pandas-docs/stable/user_guide/indexing.html#returning-a-view-versus-a-copy\n",
      "  indexes.replace(np.nan, None, inplace=True)\n",
      "/var/folders/lq/280gf8ld14v161g6ngpdjjnc0000gn/T/ipykernel_17310/3341430381.py:2: SettingWithCopyWarning: \n",
      "A value is trying to be set on a copy of a slice from a DataFrame\n",
      "\n",
      "See the caveats in the documentation: https://pandas.pydata.org/pandas-docs/stable/user_guide/indexing.html#returning-a-view-versus-a-copy\n",
      "  indexes.dropna(subset=[\"exchange_token\"], inplace=True)\n",
      "/var/folders/lq/280gf8ld14v161g6ngpdjjnc0000gn/T/ipykernel_17310/3341430381.py:3: SettingWithCopyWarning: \n",
      "A value is trying to be set on a copy of a slice from a DataFrame.\n",
      "Try using .loc[row_indexer,col_indexer] = value instead\n",
      "\n",
      "See the caveats in the documentation: https://pandas.pydata.org/pandas-docs/stable/user_guide/indexing.html#returning-a-view-versus-a-copy\n",
      "  indexes[\"exchange\"] = indexes[\"exchange\"].str.replace(\"NSE_INDEX\", \"NSE\")\n"
     ]
    },
    {
     "data": {
      "text/plain": [
       "(43, 12)"
      ]
     },
     "execution_count": 8,
     "metadata": {},
     "output_type": "execute_result"
    }
   ],
   "source": [
    "indexes.replace(np.nan, None, inplace=True)\n",
    "indexes.dropna(subset=[\"exchange_token\"], inplace=True)\n",
    "indexes[\"exchange\"] = indexes[\"exchange\"].str.replace(\"NSE_INDEX\", \"NSE\")\n",
    "\n",
    "indexes.shape"
   ]
  },
  {
   "cell_type": "markdown",
   "metadata": {},
   "source": [
    "### POST Equities to BE"
   ]
  },
  {
   "cell_type": "code",
   "execution_count": 9,
   "metadata": {},
   "outputs": [],
   "source": [
    "rename_cols = {\n",
    "    \"tradingsymbol\": \"ticker\",\n",
    "    \"instrument_key\": \"upstox_instrument_key\"\n",
    "}\n",
    "cols = [\"exchange\", \"exchange_token\", \"name\", \"ticker\", \"instrument_type\", \"upstox_instrument_key\", \"lot_size\"]\n"
   ]
  },
  {
   "cell_type": "code",
   "execution_count": 10,
   "metadata": {},
   "outputs": [],
   "source": [
    "def post_tickers(tickers):\n",
    "    s, f = 0, 0\n",
    "    failed = []\n",
    "    for p in tickers:\n",
    "        resp = requests.post(base_url + \"/tickers/\", json=p)\n",
    "        if resp.status_code == 201:\n",
    "            s += 1\n",
    "        else:\n",
    "            f += 1\n",
    "            failed.append(p)\n",
    "            print(resp.json())\n",
    "    return s, f, failed"
   ]
  },
  {
   "cell_type": "code",
   "execution_count": 11,
   "metadata": {},
   "outputs": [
    {
     "name": "stderr",
     "output_type": "stream",
     "text": [
      "/Library/Frameworks/Python.framework/Versions/3.11/lib/python3.11/site-packages/google/cloud/firestore_v1/base_collection.py:290: UserWarning: Detected filter using positional arguments. Prefer using the 'filter' keyword argument instead.\n",
      "  return query.where(field_path, op_string, value)\n",
      "/Users/aaryanpagar/Library/Python/3.11/lib/python/site-packages/google/api_core/retry/retry_unary.py:146: UserWarning: Using the synchronous google.api_core.retry.Retry with asynchronous calls may lead to unexpected results. Please use google.api_core.retry_async.AsyncRetry instead.\n",
      "  warnings.warn(_ASYNC_RETRY_WARNING)\n"
     ]
    },
    {
     "data": {
      "text/plain": [
       "347"
      ]
     },
     "execution_count": 11,
     "metadata": {},
     "output_type": "execute_result"
    }
   ],
   "source": [
    "q =  db.collection(\"tickers\").where(\"smallcase_name\", \"!=\", \"\")\n",
    "smallcase_relevant = []\n",
    "async for doc in q.stream():\n",
    "    smallcase_relevant.append(doc.to_dict())\n",
    "\n",
    "len(smallcase_relevant)"
   ]
  },
  {
   "cell_type": "code",
   "execution_count": 12,
   "metadata": {},
   "outputs": [],
   "source": [
    "# payload = equities[cols].to_dict(orient=\"records\")\n",
    "\n",
    "# s, f, failed = post_tickers(payload)\n",
    "\n",
    "# print(f\"Success: {s}, Failure: {f}\")\n",
    "# print(f\"Failed {failed}\")\n"
   ]
  },
  {
   "cell_type": "markdown",
   "metadata": {},
   "source": [
    "04.05 - 43 Indexes + 6563 equities posted\n",
    "\n",
    "05.05 - Deleted and posted only relevant equities 2894 (indexes have overlapping exchange tokens, do NOT post yet)"
   ]
  },
  {
   "cell_type": "code",
   "execution_count": 14,
   "metadata": {},
   "outputs": [
    {
     "data": {
      "text/plain": [
       "{'created_at': '2024-05-05T12:19:19.602296Z',\n",
       " 'exchange': 'NSE',\n",
       " 'lot_size': 1,\n",
       " 'smallcase_name': '360 One Wam Ltd',\n",
       " 'upstox_instrument_key': 'NSE_EQ|INE466L01038',\n",
       " 'exchange_token': 13061,\n",
       " 'updated_at': '2024-05-05T12:19:19.602299Z',\n",
       " 'ticker': '360ONE',\n",
       " 'instrument_type': 'EQUITY',\n",
       " 'name': '360 ONE WAM LIMITED'}"
      ]
     },
     "execution_count": 14,
     "metadata": {},
     "output_type": "execute_result"
    }
   ],
   "source": [
    "smallcase_relevant[0]"
   ]
  },
  {
   "cell_type": "markdown",
   "metadata": {},
   "source": [
    "### Fetch candle stick data and POST to Equities"
   ]
  },
  {
   "cell_type": "code",
   "execution_count": 16,
   "metadata": {},
   "outputs": [
    {
     "name": "stdout",
     "output_type": "stream",
     "text": [
      "BE POST failed 422 {'detail': [{'type': 'missing', 'loc': ['query', 'date'], 'msg': 'Field required', 'input': None, 'url': 'https://errors.pydantic.dev/2.7/v/missing'}]}\n",
      "Success: 0.0, Failure: 1, Passive: 0\n"
     ]
    }
   ],
   "source": [
    "import calendar\n",
    "from datetime import datetime\n",
    "\n",
    "equities.rename(columns=rename_cols, inplace=True)\n",
    "# payload = equities[cols].to_dict(orient=\"records\")\n",
    "payload = [smallcase_relevant[0]]\n",
    "\n",
    "# years = [\"2023\", \"2022\", \"2021\", \"2020\", \"2019\", \"2018\", \"2017\", \"2016\"]\n",
    "# months = [\"01\", \"02\", \"03\", \"04\", \"05\", \"06\", \"07\", \"08\", \"09\", \"10\", \"11\", \"12\"]\n",
    "years = [\"2024\"]\n",
    "# months = [\"01\", \"02\", \"03\", \"04\"]\n",
    "months = [\"01\"]\n",
    "\n",
    "def get_last_day_of_month(year: int, month: int) -> int:\n",
    "    return calendar.monthrange(year, month)[1]\n",
    "\n",
    "def format_date_path(date: datetime) -> str:\n",
    "    return date.strftime(\"%Y-%m-%d\")\n",
    "\n",
    "\n",
    "s, f, p = 0, 0, 0\n",
    "failed = []\n",
    "passive = []\n",
    "for i, equity in enumerate(payload):\n",
    "    exchange_token = int(equity[\"exchange_token\"])\n",
    "    instrument_key = equity[\"upstox_instrument_key\"]\n",
    "\n",
    "    for year in years:\n",
    "        for month in months:\n",
    "            f = True\n",
    "            last_day = get_last_day_of_month(int(year), int(month))\n",
    "            from_date = f\"{year}-{month}-01\"\n",
    "            to_date = f\"{year}-{month}-{last_day}\"\n",
    "\n",
    "            try:\n",
    "                resp = requests.get(upstox_url + f\"/historical-candle/{instrument_key}/day/{to_date}/{from_date}\")\n",
    "                if resp.status_code == 200:\n",
    "                    candles = resp.json()[\"data\"][\"candles\"]\n",
    "                    if len(candles) > 0:\n",
    "                        request = { \"month\": month, \"year\": year }\n",
    "\n",
    "                        # Daily candles\n",
    "                        daily = {}\n",
    "                        running_high, running_low = 0, 0\n",
    "                        for candle in candles:\n",
    "                            timestamp = format_date_path(datetime.fromisoformat(candle[0]))\n",
    "                            high = candle[2]\n",
    "                            low = candle[3]\n",
    "                            \n",
    "                            daily[timestamp] = {\n",
    "                                \"open\": candle[1],\n",
    "                                \"high\": candle[2],\n",
    "                                \"low\": candle[3],\n",
    "                                \"close\": candle[4],\n",
    "                                \"volume\": candle[5],\n",
    "                                \"open_interest\": candle[6]\n",
    "                            }\n",
    "                        request[\"daily\"] = daily\n",
    "\n",
    "                        # Monthly candle\n",
    "                        monthly_high = max(entry[\"high\"] for entry in daily.values())\n",
    "                        monthly_low = min(entry[\"low\"] for entry in daily.values())\n",
    "                        monthly_volume = sum(entry[\"volume\"] for entry in daily.values())\n",
    "                        monthly_open = candles[-1][1]\n",
    "                        monthly_close = candles[0][4]\n",
    "                        request[\"monthly\"] = {\n",
    "                            \"open\": monthly_open,\n",
    "                            \"high\": monthly_high,\n",
    "                            \"low\": monthly_low,\n",
    "                            \"close\": monthly_close,\n",
    "                            \"volume\": monthly_volume\n",
    "                        }\n",
    "\n",
    "                        internal_resp = requests.post(base_url + f\"/tickers/{exchange_token}/candles?date={from_date}\", json=request)\n",
    "                        if internal_resp.status_code == 201:\n",
    "                            s += 1\n",
    "                        else:\n",
    "                            failed.append(equity)\n",
    "                            print(\"BE POST failed\", internal_resp.status_code, internal_resp.json())\n",
    "                    else:\n",
    "                        f = False\n",
    "                        passive.append(equity)\n",
    "                        print(\"No candles\", equity.get(\"ticker\"), year, month)\n",
    "                        break\n",
    "                else:\n",
    "                    failed.append(equity)\n",
    "                    print(\"Upstox GET failed\", resp.status_code, resp.json())\n",
    "\n",
    "            except Exception as e:\n",
    "                failed.append(equity)\n",
    "                print(\"Exception\", e)\n",
    "        if not f:\n",
    "            break\n",
    "\n",
    "months_per_equity = len(months) * len(years)\n",
    "print(f\"Success: {s / months_per_equity}, Failure: {len(failed)}, Passive: {len(passive)}\")\n"
   ]
  },
  {
   "cell_type": "code",
   "execution_count": 45,
   "metadata": {},
   "outputs": [
    {
     "data": {
      "text/plain": [
       "(346, 1388, 347.0)"
      ]
     },
     "execution_count": 45,
     "metadata": {},
     "output_type": "execute_result"
    }
   ],
   "source": [
    "# add 200 to this to get index of last successful equity\n",
    "i, s, (s/months_per_equity)"
   ]
  },
  {
   "cell_type": "code",
   "execution_count": 47,
   "metadata": {},
   "outputs": [],
   "source": [
    "# # 1st iteration | 25m55s | s = 1869 | f = 0 | p = 1822 | x = 37\n",
    "# # 2nd iteration | 191m 22.6 s | i = 200, 200 successful, stopped at 13285 -> Mahindra and Mahindra Finserv\n",
    "# # 3rd iteration | 114m 10.4s | i = 146, s = 13260 (/96) | f = 0 | p = 18 | DONEEE 🥳\n",
    "# # 4th iteration | 11m 3s | i = 346 | s = 1388 | s/month_per_equity = 347 | f = 0 | p = 0 | 2024 DONEEE 🥳\n",
    "\n",
    "# last_stock_id = 5549\n",
    "# x1 = next((i for (i, d) in enumerate(payload) if int(d[\"exchange_token\"]) == last_stock_id), None) # no of stocks posted\n",
    "# s , len(failed), len(passive), x1\n"
   ]
  },
  {
   "cell_type": "markdown",
   "metadata": {},
   "source": [
    "No candles 360ONE 2019 01\n",
    "\n",
    "No candles AUBANK 2017 01\n",
    "\n",
    "No candles AAVAS 2018 01\n",
    "\n",
    "No candles ACI 2022 01\n",
    "\n",
    "No candles CAPACITE 2017 01\n",
    "\n",
    "No candles CHOLAHLDNG 2017 01\n",
    "\n",
    "No candles COCHINSHIP 2017 01\n",
    "\n",
    "No candles CRAFTSMAN 2021 01\n",
    "\n",
    "No candles CREDITACC 2018 01\n",
    "\n",
    "No candles CROMPTON 2016 01\n",
    "\n",
    "No candles DALBHARAT 2018 01\n",
    "\n",
    "No candles DIVGIITTS 2023 01\n",
    "\n",
    "No candles EMBASSY 2022 01\n",
    "\n",
    "No candles ENDURANCE 2016 01\n",
    "\n",
    "No candles ERIS 2017 01\n",
    "\n",
    "No candles FIVESTAR 2022 01\n",
    "\n",
    "No candles GATEWAY 2022 01\n",
    "\n",
    "No candles GODREJAGRO 2017 01\n",
    "\n",
    "No candles HGINFRA 2018 01\n",
    "\n",
    "No candles HOMEFIRST 2021 01\n",
    "\n",
    "No candles HDIL 2021 01\n",
    "\n",
    "No candles ISEC 2018 01\n",
    "\n",
    "No candles IEX 2017 01\n",
    "\n",
    "No candles KPITTECH 2019 01\n",
    "\n",
    "No candles KFINTECH 2022 01\n",
    "\n",
    "No candles KIMS 2021 01\n",
    "\n",
    "No candles LTIM 2016 01\n",
    "\n",
    "No candles LAURUSLABS 2016 01\n",
    "\n",
    "No candles MGL 2016 01\n",
    "\n",
    "Exception ('Connection aborted.', ConnectionResetError(54, 'Connection reset by peer'))\n",
    "\n",
    "No candles MINDSPACE 2021 01\n",
    "\n",
    "No candles NXST 2023 01\n",
    "\n",
    "No candles ORIENTELEC 2018 01\n",
    "\n",
    "No candles PARAGMILK 2016 01\n",
    "\n",
    "No candles POLYCAB 2019 01\n",
    "\n",
    "No candles PRINCEPIPE 2019 01\n",
    "\n",
    "No candles RITES 2018 01\n",
    "\n",
    "No candles RAILTEL 2021 01\n",
    "\n",
    "No candles SBILIFE 2017 01\n",
    "\n",
    "No candles SIS 2017 01\n",
    "\n",
    "No candles SANDHAR 2018 01\n",
    "\n",
    "No candles SONACOMS 2021 01\n",
    "\n",
    "No candles STARCEMENT 2017 01\n",
    "\n",
    "No candles TIINDIA 2017 01\n",
    "\n",
    "No candles UNITECH 2021 01\n",
    "\n",
    "No candles VBL 2016 01\n",
    "\n",
    "No candles WESTLIFE 2019 01\n",
    "\n",
    "No candles LIQUIDCASE 2023 01\n",
    "\n",
    "Success: 138.125, Failure: 0, Passive: 18"
   ]
  },
  {
   "cell_type": "markdown",
   "metadata": {},
   "source": [
    "We have understood, it is unfeasible to scrape all the data. \n",
    "\n",
    "Every stock took 45 seconds in the 1st iteration.\n",
    "45 * 3000 = 135,000 = ~33 hours\n",
    "\n",
    "Even after refactoring to optimse this by a factor of 2 to 22 seconds, it will take ~15 hours\n",
    "\n",
    "Even if it is optimised to an unrealistic 10s, it will take ~8 hours\n",
    "\n",
    "Instead, we deploy this code as a CF. Find only the equities we need from the Smallcases and invoke the CF to fetch data for that specific stock. This should reduce the equity universe by at least 80%.\n",
    "\n",
    "22 * 0.2 * 3000 = 13,200 = ~3 hours which is much more manageable"
   ]
  },
  {
   "cell_type": "markdown",
   "metadata": {},
   "source": [
    "### Delete Tickers\n",
    "\n",
    "Delete tickers with no smallcase_name to keep only relevant equities and keep the db clean"
   ]
  },
  {
   "cell_type": "code",
   "execution_count": 18,
   "metadata": {},
   "outputs": [
    {
     "data": {
      "text/plain": [
       "(2544, 347)"
      ]
     },
     "execution_count": 18,
     "metadata": {},
     "output_type": "execute_result"
    }
   ],
   "source": [
    "# q = db.collection(\"tickers\")\n",
    "\n",
    "# deleted = []\n",
    "# not_deleted = []\n",
    "# async for doc in q.stream():\n",
    "#     equity = doc.to_dict()\n",
    "#     if not equity.get(\"smallcase_name\"):\n",
    "#         await doc.reference.delete()\n",
    "#         deleted.append(equity[\"ticker\"])\n",
    "#     else:\n",
    "#         not_deleted.append(equity[\"ticker\"])\n",
    "\n",
    "# len(deleted), len(not_deleted)"
   ]
  },
  {
   "cell_type": "markdown",
   "metadata": {},
   "source": [
    "Originally posted equities = 2894\n",
    "\n",
    "Relevant for Smallcases = 347\n",
    "\n",
    "2894 - 347 = 2547 (Deleted 2-3 while testing) LETSGO 🥳"
   ]
  },
  {
   "cell_type": "markdown",
   "metadata": {},
   "source": [
    "## External API"
   ]
  },
  {
   "cell_type": "code",
   "execution_count": 124,
   "metadata": {},
   "outputs": [
    {
     "name": "stdout",
     "output_type": "stream",
     "text": [
      "{\"status\":\"success\",\"data\":{\"candles\":[[\"2023-02-01T00:00:00+05:30\",81.4,82.45,66.65,67.3,1564023,0],[\"2023-01-01T00:00:00+05:30\",91.05,95.3,77,80.5,2362341,0]]}}\n"
     ]
    }
   ],
   "source": [
    "import requests\n",
    "\n",
    "url = \"https://api.upstox.com/v2/historical-candle/NSE_EQ|INE144J01027/month/2023-02-01/2023-01-01\"\n",
    "\n",
    "payload={}\n",
    "headers = {\n",
    "  'Accept': 'application/json'\n",
    "}\n",
    "\n",
    "response = requests.request(\"GET\", url, headers=headers, data=payload)\n",
    "\n",
    "print(response.text)"
   ]
  },
  {
   "cell_type": "code",
   "execution_count": 7,
   "metadata": {},
   "outputs": [
    {
     "name": "stdout",
     "output_type": "stream",
     "text": [
      "{\"status\":\"success\",\"data\":{\"candles\":[[\"2024-05-10T00:00:00+05:30\",102.13,102.13,102.11,102.12,7833192,0],[\"2024-05-09T00:00:00+05:30\",102.08,102.08,99,102.07,4728840,0],[\"2024-05-08T00:00:00+05:30\",105.1,105.1,102.03,102.05,4532466,0],[\"2024-05-07T00:00:00+05:30\",105.05,105.05,102.02,102.03,3811894,0],[\"2024-05-06T00:00:00+05:30\",102.02,102.02,102,102.01,2527361,0],[\"2024-05-03T00:00:00+05:30\",102.01,102.01,101.99,102,4006096,0],[\"2024-05-02T00:00:00+05:30\",101.96,101.96,98.85,101.95,3897714,0],[\"2024-04-30T00:00:00+05:30\",101.58,103.41,98.85,101.93,3091777,0],[\"2024-04-29T00:00:00+05:30\",101.91,101.91,101.89,101.89,2873411,0],[\"2024-04-26T00:00:00+05:30\",101.89,101.89,98.75,101.88,2508108,0],[\"2024-04-25T00:00:00+05:30\",101.83,101.83,101.81,101.82,3442963,0],[\"2024-04-24T00:00:00+05:30\",102.95,102.95,98.75,101.81,1247486,0],[\"2024-04-23T00:00:00+05:30\",101.8,101.8,101.78,101.79,1947511,0],[\"2024-04-22T00:00:00+05:30\",101.78,101.78,101.76,101.77,1833835,0],[\"2024-04-19T00:00:00+05:30\",104.75,104.75,101.74,101.75,2909696,0],[\"2024-04-18T00:00:00+05:30\",101.71,101.71,101.69,101.7,2508293,0],[\"2024-04-16T00:00:00+05:30\",103.17,103.17,98.6,101.69,2525476,0],[\"2024-04-15T00:00:00+05:30\",101.5,104.64,98.6,101.65,4890897,0],[\"2024-04-12T00:00:00+05:30\",101.65,101.65,98.55,101.64,2529275,0],[\"2024-04-10T00:00:00+05:30\",104.6,104.6,101.57,101.58,2915160,0],[\"2024-04-09T00:00:00+05:30\",101.56,101.56,101.54,101.55,2578227,0],[\"2024-04-08T00:00:00+05:30\",104.55,104.55,101.54,101.55,7746508,0],[\"2024-04-05T00:00:00+05:30\",104.5,104.5,101.51,101.51,7386185,0],[\"2024-04-04T00:00:00+05:30\",101.47,101.47,101.45,101.46,4923944,0],[\"2024-04-03T00:00:00+05:30\",101.46,101.46,101.44,101.45,4109934,0],[\"2024-04-02T00:00:00+05:30\",101.44,101.44,98.35,101.43,10792265,0],[\"2024-04-01T00:00:00+05:30\",101.42,101.42,101.4,101.4,13980166,0],[\"2024-03-28T00:00:00+05:30\",101.42,101.42,101.4,101.41,2290521,0],[\"2024-03-27T00:00:00+05:30\",104.35,104.35,101.31,101.32,4660894,0],[\"2024-03-26T00:00:00+05:30\",101.31,101.31,101.29,101.3,3244457,0],[\"2024-03-22T00:00:00+05:30\",101.29,101.29,101.27,101.28,4038444,0],[\"2024-03-21T00:00:00+05:30\",104.25,104.25,101.2,101.21,3083132,0],[\"2024-03-20T00:00:00+05:30\",103,103,101.15,101.19,2429315,0],[\"2024-03-19T00:00:00+05:30\",104.2,104.2,101.17,101.18,3697837,0],[\"2024-03-18T00:00:00+05:30\",101.17,101.17,101.15,101.16,10515589,0],[\"2024-03-15T00:00:00+05:30\",101.15,101.15,101.13,101.14,9530143,0],[\"2024-03-14T00:00:00+05:30\",101.1,104,101.08,101.09,2916350,0],[\"2024-03-13T00:00:00+05:30\",101.07,101.08,101.06,101.07,5951445,0],[\"2024-03-12T00:00:00+05:30\",101.05,101.07,101.05,101.06,1683912,0],[\"2024-03-11T00:00:00+05:30\",104.05,104.05,101.03,101.04,1527003,0],[\"2024-03-07T00:00:00+05:30\",101.01,101.03,101.01,101.02,1230789,0],[\"2024-03-06T00:00:00+05:30\",100.94,100.96,100.94,100.95,1311421,0],[\"2024-03-05T00:00:00+05:30\",100.94,100.94,100.92,100.93,920322,0],[\"2024-03-04T00:00:00+05:30\",103.95,103.95,100.91,100.92,771673,0],[\"2024-03-02T00:00:00+05:30\",100.91,100.91,100.89,100.9,370050,0],[\"2024-03-01T00:00:00+05:30\",100.89,100.91,100.89,100.9,1417197,0],[\"2024-02-29T00:00:00+05:30\",105.38,105.38,100.84,100.85,1861452,0],[\"2024-02-28T00:00:00+05:30\",100.84,100.84,100.82,100.83,823751,0],[\"2024-02-27T00:00:00+05:30\",100.81,100.82,100.81,100.81,1533096,0],[\"2024-02-26T00:00:00+05:30\",100.81,100.81,100.79,100.8,421975,0],[\"2024-02-23T00:00:00+05:30\",100.79,100.79,100.77,100.78,412209,0],[\"2024-02-22T00:00:00+05:30\",103.75,103.75,100.72,100.73,581286,0],[\"2024-02-21T00:00:00+05:30\",100.7,100.72,100.7,100.71,598745,0],[\"2024-02-20T00:00:00+05:30\",100.7,100.7,100.68,100.69,612991,0],[\"2024-02-19T00:00:00+05:30\",100.69,100.69,100.67,100.68,809841,0],[\"2024-02-16T00:00:00+05:30\",100.69,100.69,100.67,100.68,1252012,0],[\"2024-02-15T00:00:00+05:30\",100.62,100.62,100.6,100.61,662043,0],[\"2024-02-14T00:00:00+05:30\",100.58,100.6,100.58,100.59,853384,0],[\"2024-02-13T00:00:00+05:30\",100.58,100.58,100.56,100.56,1249546,0],[\"2024-02-12T00:00:00+05:30\",100.54,100.56,100.54,100.55,1984180,0],[\"2024-02-09T00:00:00+05:30\",100.54,100.54,100.52,100.53,916225,0],[\"2024-02-08T00:00:00+05:30\",100.49,100.49,100.46,100.48,456654,0],[\"2024-02-07T00:00:00+05:30\",100.47,100.47,100.45,100.46,695188,0],[\"2024-02-06T00:00:00+05:30\",100.44,100.46,100.44,100.45,640853,0],[\"2024-02-05T00:00:00+05:30\",100.44,100.44,100.42,100.43,707318,0],[\"2024-02-02T00:00:00+05:30\",100.43,100.43,100.41,100.42,548175,0],[\"2024-02-01T00:00:00+05:30\",100.37,100.37,100.35,100.36,281392,0],[\"2024-01-31T00:00:00+05:30\",100.36,100.36,100.34,100.35,999645,0],[\"2024-01-30T00:00:00+05:30\",100.34,102.4,100.32,100.33,904335,0],[\"2024-01-29T00:00:00+05:30\",103.3,103.3,100.3,100.31,3822030,0],[\"2024-01-25T00:00:00+05:30\",103.25,103.25,100.29,100.29,1583500,0],[\"2024-01-24T00:00:00+05:30\",100.21,100.23,100.21,100.22,437765,0]]}}\n"
     ]
    }
   ],
   "source": [
    "import requests\n",
    "\n",
    "url = \"https://api.upstox.com/v2/historical-candle/NSE_EQ|INF0R8F01034/day/2024-12-31/2024-01-01\"\n",
    "\n",
    "payload={}\n",
    "headers = {\n",
    "  'Accept': 'application/json'\n",
    "}\n",
    "\n",
    "response = requests.request(\"GET\", url, headers=headers, data=payload)\n",
    "\n",
    "print(response.text)"
   ]
  },
  {
   "cell_type": "code",
   "execution_count": null,
   "metadata": {},
   "outputs": [],
   "source": []
  }
 ],
 "metadata": {
  "kernelspec": {
   "display_name": "Python 3",
   "language": "python",
   "name": "python3"
  },
  "language_info": {
   "codemirror_mode": {
    "name": "ipython",
    "version": 3
   },
   "file_extension": ".py",
   "mimetype": "text/x-python",
   "name": "python",
   "nbconvert_exporter": "python",
   "pygments_lexer": "ipython3",
   "version": "3.11.1"
  }
 },
 "nbformat": 4,
 "nbformat_minor": 2
}
