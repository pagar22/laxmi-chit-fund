{
 "cells": [
  {
   "cell_type": "markdown",
   "metadata": {},
   "source": [
    "### Read Smallcases"
   ]
  },
  {
   "cell_type": "code",
   "execution_count": 22,
   "metadata": {},
   "outputs": [],
   "source": [
    "import numpy as np\n",
    "import pandas as pd"
   ]
  },
  {
   "cell_type": "code",
   "execution_count": 25,
   "metadata": {},
   "outputs": [
    {
     "data": {
      "text/html": [
       "<div>\n",
       "<style scoped>\n",
       "    .dataframe tbody tr th:only-of-type {\n",
       "        vertical-align: middle;\n",
       "    }\n",
       "\n",
       "    .dataframe tbody tr th {\n",
       "        vertical-align: top;\n",
       "    }\n",
       "\n",
       "    .dataframe thead th {\n",
       "        text-align: right;\n",
       "    }\n",
       "</style>\n",
       "<table border=\"1\" class=\"dataframe\">\n",
       "  <thead>\n",
       "    <tr style=\"text-align: right;\">\n",
       "      <th></th>\n",
       "      <th>Date Range</th>\n",
       "      <th>Constituents</th>\n",
       "      <th>Weightage</th>\n",
       "    </tr>\n",
       "  </thead>\n",
       "  <tbody>\n",
       "    <tr>\n",
       "      <th>0</th>\n",
       "      <td>2018-07-16 to 2018-07-16</td>\n",
       "      <td>Nippon India ETF Nifty 50 BeES</td>\n",
       "      <td>0.19</td>\n",
       "    </tr>\n",
       "    <tr>\n",
       "      <th>1</th>\n",
       "      <td>NaN</td>\n",
       "      <td>Nippon India ETF Nifty Next 50 Junior BeES</td>\n",
       "      <td>0.14</td>\n",
       "    </tr>\n",
       "    <tr>\n",
       "      <th>2</th>\n",
       "      <td>NaN</td>\n",
       "      <td>Nippon India ETF Gold BeES</td>\n",
       "      <td>0.41</td>\n",
       "    </tr>\n",
       "    <tr>\n",
       "      <th>3</th>\n",
       "      <td>NaN</td>\n",
       "      <td>Nippon India ETF Nifty 1D Rate Liquid BeES</td>\n",
       "      <td>0.25</td>\n",
       "    </tr>\n",
       "    <tr>\n",
       "      <th>4</th>\n",
       "      <td>2018-07-17 to 2018-09-27</td>\n",
       "      <td>Nippon India ETF Nifty 50 BeES</td>\n",
       "      <td>0.24</td>\n",
       "    </tr>\n",
       "  </tbody>\n",
       "</table>\n",
       "</div>"
      ],
      "text/plain": [
       "                 Date Range                                Constituents  \\\n",
       "0  2018-07-16 to 2018-07-16              Nippon India ETF Nifty 50 BeES   \n",
       "1                       NaN  Nippon India ETF Nifty Next 50 Junior BeES   \n",
       "2                       NaN                  Nippon India ETF Gold BeES   \n",
       "3                       NaN  Nippon India ETF Nifty 1D Rate Liquid BeES   \n",
       "4  2018-07-17 to 2018-09-27              Nippon India ETF Nifty 50 BeES   \n",
       "\n",
       "   Weightage  \n",
       "0       0.19  \n",
       "1       0.14  \n",
       "2       0.41  \n",
       "3       0.25  \n",
       "4       0.24  "
      ]
     },
     "execution_count": 25,
     "metadata": {},
     "output_type": "execute_result"
    }
   ],
   "source": [
    "ids = [\n",
    "    {\"id\": \"SCAW_0001\", \"name\": \"All Weather Investing\"},\n",
    "    {\"id\": \"SCMO_0015\", \"name\": \"Safe Haven\"},\n",
    "    {\"id\": \"SCMO_0026\", \"name\": \"Growth & Income\"},\n",
    "    {\"id\": \"SCMO_0016\", \"name\": \"The Naked Trader\"},\n",
    "    {\"id\": \"SCMO_0024\", \"name\": \"The PE List\"},\n",
    "    {\"id\": \"SCMO_0013\", \"name\": \"Dividend Stars\"},\n",
    "    {\"id\": \"SCMO_0014\", \"name\": \"Dividend Aristocrats\"},\n",
    "    {\"id\": \"SCNM_0025\", \"name\": \"Electric Mobility\"},\n",
    "    {\"id\": \"SCNM_0012\", \"name\": \"Rising Rural Demand\"},\n",
    "    {\"id\": \"SCTR_0014\", \"name\": \"House of Tata\"},\n",
    "    {\"id\": \"SCTR_0017\", \"name\": \"House of Murugappa\"},\n",
    "    {\"id\": \"SCTR_0010\", \"name\": \"Realty Tracker\"},\n",
    "]\n",
    "id = ids[0][\"id\"]\n",
    "smallcase = pd.ExcelFile(f\"data/smallcases/{id}_Timeline.xlsx\")\n",
    "\n",
    "constituents = pd.read_excel(smallcase, sheet_name=\"Historical Constituents\")\n",
    "constituents.head()"
   ]
  },
  {
   "cell_type": "code",
   "execution_count": 26,
   "metadata": {},
   "outputs": [
    {
     "data": {
      "text/html": [
       "<div>\n",
       "<style scoped>\n",
       "    .dataframe tbody tr th:only-of-type {\n",
       "        vertical-align: middle;\n",
       "    }\n",
       "\n",
       "    .dataframe tbody tr th {\n",
       "        vertical-align: top;\n",
       "    }\n",
       "\n",
       "    .dataframe thead th {\n",
       "        text-align: right;\n",
       "    }\n",
       "</style>\n",
       "<table border=\"1\" class=\"dataframe\">\n",
       "  <thead>\n",
       "    <tr style=\"text-align: right;\">\n",
       "      <th></th>\n",
       "      <th>Date</th>\n",
       "      <th>All Weather Investing</th>\n",
       "      <th>NIFTY 100</th>\n",
       "      <th>Rebalance Occured</th>\n",
       "    </tr>\n",
       "  </thead>\n",
       "  <tbody>\n",
       "    <tr>\n",
       "      <th>0</th>\n",
       "      <td>2018-07-17</td>\n",
       "      <td>100.00</td>\n",
       "      <td>100.00</td>\n",
       "      <td>True</td>\n",
       "    </tr>\n",
       "    <tr>\n",
       "      <th>1</th>\n",
       "      <td>2018-07-18</td>\n",
       "      <td>99.33</td>\n",
       "      <td>99.63</td>\n",
       "      <td>NaN</td>\n",
       "    </tr>\n",
       "    <tr>\n",
       "      <th>2</th>\n",
       "      <td>2018-07-19</td>\n",
       "      <td>99.29</td>\n",
       "      <td>99.37</td>\n",
       "      <td>NaN</td>\n",
       "    </tr>\n",
       "    <tr>\n",
       "      <th>3</th>\n",
       "      <td>2018-07-20</td>\n",
       "      <td>99.52</td>\n",
       "      <td>99.87</td>\n",
       "      <td>NaN</td>\n",
       "    </tr>\n",
       "    <tr>\n",
       "      <th>4</th>\n",
       "      <td>2018-07-23</td>\n",
       "      <td>100.22</td>\n",
       "      <td>100.68</td>\n",
       "      <td>NaN</td>\n",
       "    </tr>\n",
       "  </tbody>\n",
       "</table>\n",
       "</div>"
      ],
      "text/plain": [
       "         Date  All Weather Investing NIFTY 100 Rebalance Occured\n",
       "0  2018-07-17                 100.00    100.00              True\n",
       "1  2018-07-18                  99.33     99.63               NaN\n",
       "2  2018-07-19                  99.29     99.37               NaN\n",
       "3  2018-07-20                  99.52     99.87               NaN\n",
       "4  2018-07-23                 100.22    100.68               NaN"
      ]
     },
     "execution_count": 26,
     "metadata": {},
     "output_type": "execute_result"
    }
   ],
   "source": [
    "indexes = pd.read_excel(smallcase, sheet_name=\"Historical Index Values\")\n",
    "indexes.head()"
   ]
  },
  {
   "cell_type": "markdown",
   "metadata": {},
   "source": [
    "### Map and POST Smallcase Name to Upstox Instrument"
   ]
  },
  {
   "cell_type": "code",
   "execution_count": 27,
   "metadata": {},
   "outputs": [],
   "source": [
    "# Connect to db\n",
    "import os\n",
    "import sys\n",
    "\n",
    "backend_path = os.path.abspath(os.path.join(os.getcwd(), '../backend'))\n",
    "sys.path.append(backend_path)\n",
    "from app.internal.firebase import db"
   ]
  },
  {
   "cell_type": "code",
   "execution_count": 28,
   "metadata": {},
   "outputs": [
    {
     "data": {
      "text/plain": [
       "5"
      ]
     },
     "execution_count": 28,
     "metadata": {},
     "output_type": "execute_result"
    }
   ],
   "source": [
    "postable_constituents = constituents[\"Constituents\"].unique()\n",
    "len(postable_constituents)"
   ]
  },
  {
   "cell_type": "code",
   "execution_count": 29,
   "metadata": {},
   "outputs": [
    {
     "name": "stderr",
     "output_type": "stream",
     "text": [
      "/Library/Frameworks/Python.framework/Versions/3.11/lib/python3.11/site-packages/google/cloud/firestore_v1/base_collection.py:302: UserWarning: Detected filter using positional arguments. Prefer using the 'filter' keyword argument instead.\n",
      "  return query.where(field_path, op_string, value)\n",
      "/var/folders/4x/3kzzlsjs1q36v35r81960pt40000gn/T/ipykernel_36407/2676511566.py:5: UserWarning: Detected filter using positional arguments. Prefer using the 'filter' keyword argument instead.\n",
      "  return await db.collection(\"tickers\").where(\"name\", \">=\", name).where(\"name\", \"<=\", name + '\\uf8ff').get()\n"
     ]
    }
   ],
   "source": [
    "successful_constitents = []\n",
    "failed_constitents = []\n",
    "\n",
    "async def query_ticker_name(name: str):\n",
    "    return await db.collection(\"tickers\").where(\"name\", \">=\", name).where(\"name\", \"<=\", name + '\\uf8ff').get()\n",
    "\n",
    "for c in postable_constituents:\n",
    "    q = c.upper()\n",
    "    docs = await query_ticker_name(q)\n",
    "    if len(docs) == 0:\n",
    "        failed_constitents.append(c)\n",
    "    else:\n",
    "        for e in docs:\n",
    "            await db.collection(\"tickers\").document(e.id).update({\n",
    "                \"smallcase_name\": c\n",
    "            })\n",
    "            successful_constitents.append((c, e.id))"
   ]
  },
  {
   "cell_type": "code",
   "execution_count": 30,
   "metadata": {},
   "outputs": [
    {
     "data": {
      "text/plain": [
       "(0, 5)"
      ]
     },
     "execution_count": 30,
     "metadata": {},
     "output_type": "execute_result"
    }
   ],
   "source": [
    "len(successful_constitents), len(failed_constitents)"
   ]
  },
  {
   "cell_type": "code",
   "execution_count": 31,
   "metadata": {},
   "outputs": [
    {
     "name": "stderr",
     "output_type": "stream",
     "text": [
      "/var/folders/4x/3kzzlsjs1q36v35r81960pt40000gn/T/ipykernel_36407/2676511566.py:5: UserWarning: Detected filter using positional arguments. Prefer using the 'filter' keyword argument instead.\n",
      "  return await db.collection(\"tickers\").where(\"name\", \">=\", name).where(\"name\", \"<=\", name + '\\uf8ff').get()\n"
     ]
    }
   ],
   "source": [
    "# # All return upper\n",
    "\n",
    "def replace_ltd(s):\n",
    "    return s.upper().replace(\"LTD\", \"LIMITED\")\n",
    "\n",
    "# def replace_technologies(s):\n",
    "#     return s.upper().replace(\"TECHNOLOGIES\", \"TECHNO.\")\n",
    "\n",
    "# def replace_company(s):\n",
    "#     return s.upper().replace(\"COMPANY\", \"CO\")\n",
    "\n",
    "# def replace_corporation(s):\n",
    "#     return s.upper().replace(\"CORPORATION\", \"CORP\")\n",
    "\n",
    "# Ltd -> Limited\n",
    "for f in failed_constitents:\n",
    "    q = replace_ltd(f)\n",
    "    docs = await query_ticker_name(q)\n",
    "    if len(docs) != 0:\n",
    "        for e in docs:\n",
    "            await db.collection(\"tickers\").document(e.id).update({\n",
    "                \"smallcase_name\": f\n",
    "            })\n",
    "            successful_constitents.append((f, e.id))\n",
    "            failed_constitents.remove(f)"
   ]
  },
  {
   "cell_type": "code",
   "execution_count": 32,
   "metadata": {},
   "outputs": [
    {
     "data": {
      "text/plain": [
       "(0, 5)"
      ]
     },
     "execution_count": 32,
     "metadata": {},
     "output_type": "execute_result"
    }
   ],
   "source": [
    "len(successful_constitents), len(failed_constitents)"
   ]
  },
  {
   "cell_type": "code",
   "execution_count": 33,
   "metadata": {},
   "outputs": [
    {
     "data": {
      "text/html": [
       "<div>\n",
       "<style scoped>\n",
       "    .dataframe tbody tr th:only-of-type {\n",
       "        vertical-align: middle;\n",
       "    }\n",
       "\n",
       "    .dataframe tbody tr th {\n",
       "        vertical-align: top;\n",
       "    }\n",
       "\n",
       "    .dataframe thead th {\n",
       "        text-align: right;\n",
       "    }\n",
       "</style>\n",
       "<table border=\"1\" class=\"dataframe\">\n",
       "  <thead>\n",
       "    <tr style=\"text-align: right;\">\n",
       "      <th></th>\n",
       "      <th>instrument_key</th>\n",
       "      <th>exchange_token</th>\n",
       "      <th>tradingsymbol</th>\n",
       "      <th>name</th>\n",
       "      <th>last_price</th>\n",
       "      <th>expiry</th>\n",
       "      <th>strike</th>\n",
       "      <th>tick_size</th>\n",
       "      <th>lot_size</th>\n",
       "      <th>instrument_type</th>\n",
       "      <th>option_type</th>\n",
       "      <th>exchange</th>\n",
       "    </tr>\n",
       "  </thead>\n",
       "  <tbody>\n",
       "    <tr>\n",
       "      <th>77</th>\n",
       "      <td>NSE_EQ|DUMMYSAN005</td>\n",
       "      <td>14747.0</td>\n",
       "      <td>011NSETEST</td>\n",
       "      <td>011NSETEST</td>\n",
       "      <td>NaN</td>\n",
       "      <td>NaN</td>\n",
       "      <td>NaN</td>\n",
       "      <td>0.05</td>\n",
       "      <td>1.0</td>\n",
       "      <td>EQUITY</td>\n",
       "      <td>NaN</td>\n",
       "      <td>NSE_EQ</td>\n",
       "    </tr>\n",
       "    <tr>\n",
       "      <th>78</th>\n",
       "      <td>NSE_EQ|DUMMYSAN006</td>\n",
       "      <td>14751.0</td>\n",
       "      <td>021NSETEST</td>\n",
       "      <td>021NSETEST</td>\n",
       "      <td>NaN</td>\n",
       "      <td>NaN</td>\n",
       "      <td>NaN</td>\n",
       "      <td>0.05</td>\n",
       "      <td>1.0</td>\n",
       "      <td>EQUITY</td>\n",
       "      <td>NaN</td>\n",
       "      <td>NSE_EQ</td>\n",
       "    </tr>\n",
       "    <tr>\n",
       "      <th>79</th>\n",
       "      <td>NSE_EQ|DUMMYSAN007</td>\n",
       "      <td>14753.0</td>\n",
       "      <td>031NSETEST</td>\n",
       "      <td>031NSETEST</td>\n",
       "      <td>NaN</td>\n",
       "      <td>NaN</td>\n",
       "      <td>NaN</td>\n",
       "      <td>0.05</td>\n",
       "      <td>1.0</td>\n",
       "      <td>EQUITY</td>\n",
       "      <td>NaN</td>\n",
       "      <td>NSE_EQ</td>\n",
       "    </tr>\n",
       "    <tr>\n",
       "      <th>80</th>\n",
       "      <td>NSE_EQ|DUMMYSAN008</td>\n",
       "      <td>14755.0</td>\n",
       "      <td>041NSETEST</td>\n",
       "      <td>041NSETEST</td>\n",
       "      <td>NaN</td>\n",
       "      <td>NaN</td>\n",
       "      <td>NaN</td>\n",
       "      <td>0.05</td>\n",
       "      <td>1.0</td>\n",
       "      <td>EQUITY</td>\n",
       "      <td>NaN</td>\n",
       "      <td>NSE_EQ</td>\n",
       "    </tr>\n",
       "    <tr>\n",
       "      <th>81</th>\n",
       "      <td>NSE_EQ|DUMMYSAN009</td>\n",
       "      <td>14758.0</td>\n",
       "      <td>051NSETEST</td>\n",
       "      <td>051NSETEST</td>\n",
       "      <td>NaN</td>\n",
       "      <td>NaN</td>\n",
       "      <td>NaN</td>\n",
       "      <td>0.05</td>\n",
       "      <td>1.0</td>\n",
       "      <td>EQUITY</td>\n",
       "      <td>NaN</td>\n",
       "      <td>NSE_EQ</td>\n",
       "    </tr>\n",
       "  </tbody>\n",
       "</table>\n",
       "</div>"
      ],
      "text/plain": [
       "        instrument_key  exchange_token tradingsymbol        name  last_price  \\\n",
       "77  NSE_EQ|DUMMYSAN005         14747.0    011NSETEST  011NSETEST         NaN   \n",
       "78  NSE_EQ|DUMMYSAN006         14751.0    021NSETEST  021NSETEST         NaN   \n",
       "79  NSE_EQ|DUMMYSAN007         14753.0    031NSETEST  031NSETEST         NaN   \n",
       "80  NSE_EQ|DUMMYSAN008         14755.0    041NSETEST  041NSETEST         NaN   \n",
       "81  NSE_EQ|DUMMYSAN009         14758.0    051NSETEST  051NSETEST         NaN   \n",
       "\n",
       "   expiry  strike  tick_size  lot_size instrument_type option_type exchange  \n",
       "77    NaN     NaN       0.05       1.0          EQUITY         NaN   NSE_EQ  \n",
       "78    NaN     NaN       0.05       1.0          EQUITY         NaN   NSE_EQ  \n",
       "79    NaN     NaN       0.05       1.0          EQUITY         NaN   NSE_EQ  \n",
       "80    NaN     NaN       0.05       1.0          EQUITY         NaN   NSE_EQ  \n",
       "81    NaN     NaN       0.05       1.0          EQUITY         NaN   NSE_EQ  "
      ]
     },
     "execution_count": 33,
     "metadata": {},
     "output_type": "execute_result"
    }
   ],
   "source": [
    "nse = pd.read_csv(\"data/upstox/NSE.csv\")\n",
    "equities = nse.query('instrument_type == \"EQUITY\" and exchange == \"NSE_EQ\"')\n",
    "equities.head()"
   ]
  },
  {
   "cell_type": "code",
   "execution_count": 34,
   "metadata": {},
   "outputs": [
    {
     "data": {
      "text/html": [
       "<div>\n",
       "<style scoped>\n",
       "    .dataframe tbody tr th:only-of-type {\n",
       "        vertical-align: middle;\n",
       "    }\n",
       "\n",
       "    .dataframe tbody tr th {\n",
       "        vertical-align: top;\n",
       "    }\n",
       "\n",
       "    .dataframe thead th {\n",
       "        text-align: right;\n",
       "    }\n",
       "</style>\n",
       "<table border=\"1\" class=\"dataframe\">\n",
       "  <thead>\n",
       "    <tr style=\"text-align: right;\">\n",
       "      <th></th>\n",
       "      <th>name</th>\n",
       "      <th>exchange_token</th>\n",
       "      <th>similarity</th>\n",
       "      <th>smallcase_name</th>\n",
       "    </tr>\n",
       "  </thead>\n",
       "  <tbody>\n",
       "    <tr>\n",
       "      <th>0</th>\n",
       "      <td>NIP IND ETF NIFTY BEES</td>\n",
       "      <td>10576.0</td>\n",
       "      <td>0.846154</td>\n",
       "      <td>Nippon India ETF Nifty 50 BeES</td>\n",
       "    </tr>\n",
       "    <tr>\n",
       "      <th>1</th>\n",
       "      <td>NIP IND ETF JUNIOR BEES</td>\n",
       "      <td>10939.0</td>\n",
       "      <td>0.707692</td>\n",
       "      <td>Nippon India ETF Nifty Next 50 Junior BeES</td>\n",
       "    </tr>\n",
       "    <tr>\n",
       "      <th>2</th>\n",
       "      <td>NIP IND ETF GOLD BEES</td>\n",
       "      <td>14428.0</td>\n",
       "      <td>0.893617</td>\n",
       "      <td>Nippon India ETF Gold BeES</td>\n",
       "    </tr>\n",
       "    <tr>\n",
       "      <th>3</th>\n",
       "      <td>NIP IND ETF LIQUID BEES</td>\n",
       "      <td>11006.0</td>\n",
       "      <td>0.707692</td>\n",
       "      <td>Nippon India ETF Nifty 1D Rate Liquid BeES</td>\n",
       "    </tr>\n",
       "    <tr>\n",
       "      <th>4</th>\n",
       "      <td>ZERODHAAMC - LIQUIDCASE</td>\n",
       "      <td>21750.0</td>\n",
       "      <td>0.581818</td>\n",
       "      <td>Zerodha Nifty 1D Rate Liquid ETF</td>\n",
       "    </tr>\n",
       "  </tbody>\n",
       "</table>\n",
       "</div>"
      ],
      "text/plain": [
       "                      name  exchange_token  similarity  \\\n",
       "0   NIP IND ETF NIFTY BEES         10576.0    0.846154   \n",
       "1  NIP IND ETF JUNIOR BEES         10939.0    0.707692   \n",
       "2    NIP IND ETF GOLD BEES         14428.0    0.893617   \n",
       "3  NIP IND ETF LIQUID BEES         11006.0    0.707692   \n",
       "4  ZERODHAAMC - LIQUIDCASE         21750.0    0.581818   \n",
       "\n",
       "                               smallcase_name  \n",
       "0              Nippon India ETF Nifty 50 BeES  \n",
       "1  Nippon India ETF Nifty Next 50 Junior BeES  \n",
       "2                  Nippon India ETF Gold BeES  \n",
       "3  Nippon India ETF Nifty 1D Rate Liquid BeES  \n",
       "4            Zerodha Nifty 1D Rate Liquid ETF  "
      ]
     },
     "execution_count": 34,
     "metadata": {},
     "output_type": "execute_result"
    }
   ],
   "source": [
    "import difflib\n",
    "df = equities.filter(['name', \"exchange_token\"])\n",
    "tickers = pd.DataFrame() \n",
    "r = {}\n",
    "for f in failed_constitents:\n",
    "    df['similarity'] = df[\"name\"].apply(lambda x: difflib.SequenceMatcher(None, x.lower(), f.lower()).ratio())\n",
    "        \n",
    "    top_match = df.sort_values(by='similarity', ascending=False).head(1)\n",
    "    top_match['smallcase_name'] = f\n",
    "        \n",
    "    tickers = pd.concat([tickers, top_match], ignore_index=True)\n",
    "\n",
    "tickers"
   ]
  },
  {
   "cell_type": "code",
   "execution_count": 35,
   "metadata": {},
   "outputs": [],
   "source": [
    "payload = tickers[['exchange_token', 'smallcase_name']].to_dict(orient='records')\n",
    "for p in payload:\n",
    "    id = str(int(p['exchange_token']))\n",
    "    await db.document(f\"tickers/{id}\").update({\"smallcase_name\": p[\"smallcase_name\"]})\n",
    "    successful_constitents.append((p[\"smallcase_name\"], id))"
   ]
  },
  {
   "cell_type": "code",
   "execution_count": 36,
   "metadata": {},
   "outputs": [
    {
     "data": {
      "text/plain": [
       "(5, True)"
      ]
     },
     "execution_count": 36,
     "metadata": {},
     "output_type": "execute_result"
    }
   ],
   "source": [
    "len(successful_constitents), len(successful_constitents) == len(postable_constituents)"
   ]
  },
  {
   "cell_type": "code",
   "execution_count": null,
   "metadata": {},
   "outputs": [],
   "source": []
  }
 ],
 "metadata": {
  "kernelspec": {
   "display_name": "Python 3",
   "language": "python",
   "name": "python3"
  },
  "language_info": {
   "codemirror_mode": {
    "name": "ipython",
    "version": 3
   },
   "file_extension": ".py",
   "mimetype": "text/x-python",
   "name": "python",
   "nbconvert_exporter": "python",
   "pygments_lexer": "ipython3",
   "version": "3.11.9"
  }
 },
 "nbformat": 4,
 "nbformat_minor": 2
}
