{
 "cells": [
  {
   "cell_type": "markdown",
   "metadata": {},
   "source": [
    "### Read Smallcases"
   ]
  },
  {
   "cell_type": "code",
   "execution_count": 1,
   "metadata": {},
   "outputs": [],
   "source": [
    "import re\n",
    "import numpy as np\n",
    "import pandas as pd\n",
    "import requests"
   ]
  },
  {
   "cell_type": "code",
   "execution_count": 2,
   "metadata": {},
   "outputs": [],
   "source": [
    "# Connect to services\n",
    "import os\n",
    "import sys\n",
    "\n",
    "backend_path = os.path.abspath(os.path.join(os.getcwd(), '../backend'))\n",
    "sys.path.append(backend_path)\n",
    "\n",
    "from app.internal.firebase import db, bucket"
   ]
  },
  {
   "cell_type": "code",
   "execution_count": 3,
   "metadata": {},
   "outputs": [
    {
     "data": {
      "text/html": [
       "<div>\n",
       "<style scoped>\n",
       "    .dataframe tbody tr th:only-of-type {\n",
       "        vertical-align: middle;\n",
       "    }\n",
       "\n",
       "    .dataframe tbody tr th {\n",
       "        vertical-align: top;\n",
       "    }\n",
       "\n",
       "    .dataframe thead th {\n",
       "        text-align: right;\n",
       "    }\n",
       "</style>\n",
       "<table border=\"1\" class=\"dataframe\">\n",
       "  <thead>\n",
       "    <tr style=\"text-align: right;\">\n",
       "      <th></th>\n",
       "      <th>Date Range</th>\n",
       "      <th>Constituents</th>\n",
       "      <th>Weightage</th>\n",
       "    </tr>\n",
       "  </thead>\n",
       "  <tbody>\n",
       "    <tr>\n",
       "      <th>0</th>\n",
       "      <td>2018-07-16 to 2018-07-16</td>\n",
       "      <td>Nippon India ETF Nifty 50 BeES</td>\n",
       "      <td>0.19</td>\n",
       "    </tr>\n",
       "    <tr>\n",
       "      <th>1</th>\n",
       "      <td>NaN</td>\n",
       "      <td>Nippon India ETF Nifty Next 50 Junior BeES</td>\n",
       "      <td>0.14</td>\n",
       "    </tr>\n",
       "    <tr>\n",
       "      <th>2</th>\n",
       "      <td>NaN</td>\n",
       "      <td>Nippon India ETF Gold BeES</td>\n",
       "      <td>0.41</td>\n",
       "    </tr>\n",
       "    <tr>\n",
       "      <th>3</th>\n",
       "      <td>NaN</td>\n",
       "      <td>Nippon India ETF Nifty 1D Rate Liquid BeES</td>\n",
       "      <td>0.25</td>\n",
       "    </tr>\n",
       "    <tr>\n",
       "      <th>4</th>\n",
       "      <td>2018-07-17 to 2018-09-27</td>\n",
       "      <td>Nippon India ETF Nifty 50 BeES</td>\n",
       "      <td>0.24</td>\n",
       "    </tr>\n",
       "  </tbody>\n",
       "</table>\n",
       "</div>"
      ],
      "text/plain": [
       "                 Date Range                                Constituents  \\\n",
       "0  2018-07-16 to 2018-07-16              Nippon India ETF Nifty 50 BeES   \n",
       "1                       NaN  Nippon India ETF Nifty Next 50 Junior BeES   \n",
       "2                       NaN                  Nippon India ETF Gold BeES   \n",
       "3                       NaN  Nippon India ETF Nifty 1D Rate Liquid BeES   \n",
       "4  2018-07-17 to 2018-09-27              Nippon India ETF Nifty 50 BeES   \n",
       "\n",
       "   Weightage  \n",
       "0       0.19  \n",
       "1       0.14  \n",
       "2       0.41  \n",
       "3       0.25  \n",
       "4       0.24  "
      ]
     },
     "execution_count": 3,
     "metadata": {},
     "output_type": "execute_result"
    }
   ],
   "source": [
    "ids = [\n",
    "    {\"id\": \"SCAW_0001\", \"name\": \"All Weather Investing\"},\n",
    "    {\"id\": \"SCMO_0015\", \"name\": \"Safe Haven\"},\n",
    "    {\"id\": \"SCMO_0026\", \"name\": \"Growth & Income\"},\n",
    "    {\"id\": \"SCMO_0016\", \"name\": \"The Naked Trader\"},\n",
    "    {\"id\": \"SCMO_0024\", \"name\": \"The PE List\"},\n",
    "    {\"id\": \"SCMO_0013\", \"name\": \"Dividend Stars\"},\n",
    "    {\"id\": \"SCMO_0014\", \"name\": \"Dividend Aristocrats\"},\n",
    "    {\"id\": \"SCNM_0025\", \"name\": \"Electric Mobility\"},\n",
    "    {\"id\": \"SCNM_0012\", \"name\": \"Rising Rural Demand\"},\n",
    "    {\"id\": \"SCTR_0014\", \"name\": \"House of Tata\"},\n",
    "    {\"id\": \"SCTR_0017\", \"name\": \"House of Murugappa\"},\n",
    "    {\"id\": \"SCTR_0010\", \"name\": \"Realty Tracker\"},\n",
    "]\n",
    "smallcase_id = ids[0][\"id\"]\n",
    "smallcase_sheet_path = f\"data/smallcases/{smallcase_id}_Timeline.xlsx\"\n",
    "smallcase_sheet = pd.ExcelFile(smallcase_sheet_path)\n",
    "\n",
    "constituents = pd.read_excel(smallcase_sheet, sheet_name=\"Historical Constituents\")\n",
    "constituents.head()"
   ]
  },
  {
   "cell_type": "code",
   "execution_count": 4,
   "metadata": {},
   "outputs": [
    {
     "data": {
      "text/html": [
       "<div>\n",
       "<style scoped>\n",
       "    .dataframe tbody tr th:only-of-type {\n",
       "        vertical-align: middle;\n",
       "    }\n",
       "\n",
       "    .dataframe tbody tr th {\n",
       "        vertical-align: top;\n",
       "    }\n",
       "\n",
       "    .dataframe thead th {\n",
       "        text-align: right;\n",
       "    }\n",
       "</style>\n",
       "<table border=\"1\" class=\"dataframe\">\n",
       "  <thead>\n",
       "    <tr style=\"text-align: right;\">\n",
       "      <th></th>\n",
       "      <th>Date</th>\n",
       "      <th>All Weather Investing</th>\n",
       "      <th>NIFTY 100</th>\n",
       "      <th>Rebalance Occured</th>\n",
       "    </tr>\n",
       "  </thead>\n",
       "  <tbody>\n",
       "    <tr>\n",
       "      <th>0</th>\n",
       "      <td>2018-07-17</td>\n",
       "      <td>100.00</td>\n",
       "      <td>100.00</td>\n",
       "      <td>True</td>\n",
       "    </tr>\n",
       "    <tr>\n",
       "      <th>1</th>\n",
       "      <td>2018-07-18</td>\n",
       "      <td>99.33</td>\n",
       "      <td>99.63</td>\n",
       "      <td>NaN</td>\n",
       "    </tr>\n",
       "    <tr>\n",
       "      <th>2</th>\n",
       "      <td>2018-07-19</td>\n",
       "      <td>99.29</td>\n",
       "      <td>99.37</td>\n",
       "      <td>NaN</td>\n",
       "    </tr>\n",
       "    <tr>\n",
       "      <th>3</th>\n",
       "      <td>2018-07-20</td>\n",
       "      <td>99.52</td>\n",
       "      <td>99.87</td>\n",
       "      <td>NaN</td>\n",
       "    </tr>\n",
       "    <tr>\n",
       "      <th>4</th>\n",
       "      <td>2018-07-23</td>\n",
       "      <td>100.22</td>\n",
       "      <td>100.68</td>\n",
       "      <td>NaN</td>\n",
       "    </tr>\n",
       "  </tbody>\n",
       "</table>\n",
       "</div>"
      ],
      "text/plain": [
       "         Date  All Weather Investing NIFTY 100 Rebalance Occured\n",
       "0  2018-07-17                 100.00    100.00              True\n",
       "1  2018-07-18                  99.33     99.63               NaN\n",
       "2  2018-07-19                  99.29     99.37               NaN\n",
       "3  2018-07-20                  99.52     99.87               NaN\n",
       "4  2018-07-23                 100.22    100.68               NaN"
      ]
     },
     "execution_count": 4,
     "metadata": {},
     "output_type": "execute_result"
    }
   ],
   "source": [
    "indexes = pd.read_excel(smallcase_sheet, sheet_name=\"Historical Index Values\")\n",
    "indexes.head()"
   ]
  },
  {
   "cell_type": "markdown",
   "metadata": {},
   "source": [
    "### Fetch and POST Smallcase and Stats"
   ]
  },
  {
   "cell_type": "code",
   "execution_count": 5,
   "metadata": {},
   "outputs": [
    {
     "data": {
      "text/plain": [
       "200"
      ]
     },
     "execution_count": 5,
     "metadata": {},
     "output_type": "execute_result"
    }
   ],
   "source": [
    "smallcase_base_url = \"https://api.smallcase.com\"\n",
    "resp = requests.get(f\"{smallcase_base_url}/smallcases/smallcase?scid={smallcase_id}\")\n",
    "\n",
    "resp.status_code"
   ]
  },
  {
   "cell_type": "code",
   "execution_count": 6,
   "metadata": {},
   "outputs": [
    {
     "data": {
      "text/plain": [
       "201"
      ]
     },
     "execution_count": 6,
     "metadata": {},
     "output_type": "execute_result"
    }
   ],
   "source": [
    "local_base_url = \"http://localhost:7999\"\n",
    "smallcase = resp.json()[\"data\"]\n",
    "stats = smallcase[\"stats\"]\n",
    "\n",
    "def remove_p_tag(text: str):\n",
    "    return re.sub(r\"</?(p|ul|li)>\", \"\", text)\n",
    "\n",
    "methodologies = []\n",
    "for m in smallcase[\"methodology\"]:\n",
    "    methodologies.append({\n",
    "        \"key\": m[\"key\"],\n",
    "        \"details\": remove_p_tag(m[\"content\"]),\n",
    "    })\n",
    "\n",
    "investment_strategies = []\n",
    "for i in smallcase[\"info\"][\"investmentStrategy\"]:\n",
    "    investment_strategies.append(i[\"key\"])\n",
    "\n",
    "payload = {\n",
    "    \"id\": smallcase_id,\n",
    "    \"name\": smallcase[\"info\"][\"name\"],\n",
    "    \"slug\": smallcase[\"info\"][\"slug\"],\n",
    "    \"description\": smallcase[\"info\"][\"shortDescription\"],\n",
    "    \"volatility\": stats[\"ratios\"][\"riskLabel\"],\n",
    "    \"popularity_rank\": smallcase[\"flags\"][\"popular\"][\"rank\"],\n",
    "    \"contains_etf\": smallcase[\"flags\"][\"containsEtf\"],\n",
    "    \"contains_stock\": smallcase[\"flags\"][\"containsStock\"],\n",
    "    \"constituent_count\": smallcase[\"constituentsCount\"],\n",
    "    \"growth_since_launch\": {\n",
    "        \"cagr\": stats[\"ratios\"][\"cagr\"],\n",
    "        \"returns\": stats[\"returns\"][\"sinceInception\"],\n",
    "        \"duration\": stats[\"ratios\"][\"cagrDuration\"],\n",
    "    },\n",
    "    \"benchmark\": {\n",
    "        \"id\": smallcase[\"benchmark\"][\"id\"],\n",
    "        \"index\": smallcase[\"benchmark\"][\"index\"],\n",
    "        \"details\": smallcase[\"benchmark\"][\"msg\"],\n",
    "    },\n",
    "    \"methodologies\": methodologies,\n",
    "    \"launch_date\": smallcase[\"info\"][\"uploaded\"],\n",
    "    \"inception_date\": smallcase[\"info\"][\"created\"],\n",
    "    \"last_rebalance_date\": smallcase[\"info\"][\"lastRebalanced\"],\n",
    "    \"next_rebalance_date\": smallcase[\"info\"][\"nextUpdate\"],\n",
    "    \"investment_strategies\": investment_strategies,\n",
    "    \"rebalance_frequency\": smallcase[\"info\"][\"rebalanceSchedule\"],\n",
    "}\n",
    "\n",
    "local_resp = requests.post(f\"{local_base_url}/smallcases/\", json=payload)\n",
    "local_resp.status_code\n"
   ]
  },
  {
   "cell_type": "code",
   "execution_count": 8,
   "metadata": {},
   "outputs": [
    {
     "data": {
      "text/plain": [
       "201"
      ]
     },
     "execution_count": 8,
     "metadata": {},
     "output_type": "execute_result"
    }
   ],
   "source": [
    "# Date of scraping\n",
    "year = \"2022\"\n",
    "month = \"05\"\n",
    "\n",
    "payload = {\n",
    "    \"year\": year,\n",
    "    \"month\": month,\n",
    "    \"min_sip_amount\": stats[\"minSipAmount\"],\n",
    "    \"investor_count\": stats[\"investorCount\"],\n",
    "    \"subscriber_count\": stats[\"subscriberCount\"],\n",
    "    \n",
    "    \"cagr\": {\n",
    "        \"one_year\": stats[\"ratios\"][\"cagr1y\"],\n",
    "        \"three_year\": stats[\"ratios\"][\"cagr3y\"],\n",
    "        \"five_year\": stats[\"ratios\"][\"cagr5y\"],\n",
    "    },\n",
    "    \"returns\": {\n",
    "        \"monthly\": stats[\"returns\"][\"monthly\"],\n",
    "        \"quarterly\": stats[\"returns\"][\"quarterly\"],\n",
    "        \"half_year\": stats[\"returns\"][\"halfyearly\"],\n",
    "        \"one_year\": stats[\"returns\"][\"yearly\"],\n",
    "        \"three_year\": stats[\"returns\"][\"threeYear\"],\n",
    "        \"five_year\": stats[\"returns\"][\"fiveYear\"],\n",
    "    },\n",
    "    \"ratios\": {\n",
    "        \"dividend_yield\": stats[\"ratios\"][\"divYield\"],\n",
    "        \"dividend_yield_differential\": stats[\"ratios\"][\"divYieldDifferential\"],\n",
    "\n",
    "        \"risk\": stats[\"ratios\"][\"risk\"],\n",
    "        \"pe\": stats[\"ratios\"][\"pe\"],\n",
    "        \"pb\": stats[\"ratios\"][\"pb\"],\n",
    "        \"beta\": stats[\"ratios\"][\"beta\"],\n",
    "        \"sharpe\": stats[\"ratios\"][\"sharpeRatio\"],\n",
    "    },\n",
    "    \"weightage\": {\n",
    "        \"large_cap\": stats[\"ratios\"][\"largeCapPercentage\"],\n",
    "        \"mid_cap\": stats[\"ratios\"][\"midCapPercentage\"],\n",
    "        \"small_cap\": stats[\"ratios\"][\"smallCapPercentage\"],\n",
    "        \"market_category\": stats[\"ratios\"][\"marketCapCategory\"]\n",
    "    }\n",
    "}\n",
    "\n",
    "local_resp = requests.post(f\"{local_base_url}/smallcases/{smallcase_id}/statistics/\", json=payload)\n",
    "local_resp.status_code"
   ]
  },
  {
   "cell_type": "markdown",
   "metadata": {},
   "source": [
    "### Upload XLSX to bucket"
   ]
  },
  {
   "cell_type": "code",
   "execution_count": null,
   "metadata": {},
   "outputs": [],
   "source": [
    "blob = bucket.blob(f\"smallcases/{smallcase_id}\")\n",
    "blob.upload_from_filename(smallcase_sheet_path)\n"
   ]
  },
  {
   "cell_type": "markdown",
   "metadata": {},
   "source": [
    "### Map and POST Smallcase Name to Upstox Instruments"
   ]
  },
  {
   "cell_type": "code",
   "execution_count": null,
   "metadata": {},
   "outputs": [],
   "source": []
  },
  {
   "cell_type": "code",
   "execution_count": null,
   "metadata": {},
   "outputs": [],
   "source": [
    "postable_constituents = constituents[\"Constituents\"].unique()\n",
    "len(postable_constituents)"
   ]
  },
  {
   "cell_type": "code",
   "execution_count": null,
   "metadata": {},
   "outputs": [],
   "source": [
    "successful_constitents = []\n",
    "failed_constitents = []\n",
    "\n",
    "async def query_ticker_name(name: str):\n",
    "    return await db.collection(\"tickers\").where(\"name\", \">=\", name).where(\"name\", \"<=\", name + '\\uf8ff').get()\n",
    "\n",
    "for c in postable_constituents:\n",
    "    q = c.upper()\n",
    "    docs = await query_ticker_name(q)\n",
    "    if len(docs) == 0:\n",
    "        failed_constitents.append(c)\n",
    "    else:\n",
    "        for e in docs:\n",
    "            await db.collection(\"tickers\").document(e.id).update({\n",
    "                \"smallcase_name\": c\n",
    "            })\n",
    "            successful_constitents.append((c, e.id))"
   ]
  },
  {
   "cell_type": "code",
   "execution_count": null,
   "metadata": {},
   "outputs": [],
   "source": [
    "len(successful_constitents), len(failed_constitents)"
   ]
  },
  {
   "cell_type": "code",
   "execution_count": null,
   "metadata": {},
   "outputs": [],
   "source": [
    "# # All return upper\n",
    "\n",
    "def replace_ltd(s):\n",
    "    return s.upper().replace(\"LTD\", \"LIMITED\")\n",
    "\n",
    "# def replace_technologies(s):\n",
    "#     return s.upper().replace(\"TECHNOLOGIES\", \"TECHNO.\")\n",
    "\n",
    "# def replace_company(s):\n",
    "#     return s.upper().replace(\"COMPANY\", \"CO\")\n",
    "\n",
    "# def replace_corporation(s):\n",
    "#     return s.upper().replace(\"CORPORATION\", \"CORP\")\n",
    "\n",
    "# Ltd -> Limited\n",
    "for f in failed_constitents:\n",
    "    q = replace_ltd(f)\n",
    "    docs = await query_ticker_name(q)\n",
    "    if len(docs) != 0:\n",
    "        for e in docs:\n",
    "            await db.collection(\"tickers\").document(e.id).update({\n",
    "                \"smallcase_name\": f\n",
    "            })\n",
    "            successful_constitents.append((f, e.id))\n",
    "            failed_constitents.remove(f)"
   ]
  },
  {
   "cell_type": "code",
   "execution_count": null,
   "metadata": {},
   "outputs": [],
   "source": [
    "len(successful_constitents), len(failed_constitents)"
   ]
  },
  {
   "cell_type": "code",
   "execution_count": null,
   "metadata": {},
   "outputs": [],
   "source": [
    "nse = pd.read_csv(\"data/upstox/NSE.csv\")\n",
    "equities = nse.query('instrument_type == \"EQUITY\" and exchange == \"NSE_EQ\"')\n",
    "equities.head()"
   ]
  },
  {
   "cell_type": "code",
   "execution_count": null,
   "metadata": {},
   "outputs": [],
   "source": [
    "import difflib\n",
    "df = equities.filter(['name', \"exchange_token\"])\n",
    "tickers = pd.DataFrame() \n",
    "r = {}\n",
    "for f in failed_constitents:\n",
    "    df['similarity'] = df[\"name\"].apply(lambda x: difflib.SequenceMatcher(None, x.lower(), f.lower()).ratio())\n",
    "        \n",
    "    top_match = df.sort_values(by='similarity', ascending=False).head(1)\n",
    "    top_match['smallcase_name'] = f\n",
    "        \n",
    "    tickers = pd.concat([tickers, top_match], ignore_index=True)\n",
    "\n",
    "tickers"
   ]
  },
  {
   "cell_type": "code",
   "execution_count": null,
   "metadata": {},
   "outputs": [],
   "source": [
    "payload = tickers[['exchange_token', 'smallcase_name']].to_dict(orient='records')\n",
    "for p in payload:\n",
    "    id = str(int(p['exchange_token']))\n",
    "    await db.document(f\"tickers/{id}\").update({\"smallcase_name\": p[\"smallcase_name\"]})\n",
    "    successful_constitents.append((p[\"smallcase_name\"], id))"
   ]
  },
  {
   "cell_type": "code",
   "execution_count": null,
   "metadata": {},
   "outputs": [],
   "source": [
    "len(successful_constitents), len(successful_constitents) == len(postable_constituents)"
   ]
  }
 ],
 "metadata": {
  "kernelspec": {
   "display_name": "Python 3",
   "language": "python",
   "name": "python3"
  },
  "language_info": {
   "codemirror_mode": {
    "name": "ipython",
    "version": 3
   },
   "file_extension": ".py",
   "mimetype": "text/x-python",
   "name": "python",
   "nbconvert_exporter": "python",
   "pygments_lexer": "ipython3",
   "version": "3.11.9"
  }
 },
 "nbformat": 4,
 "nbformat_minor": 2
}
