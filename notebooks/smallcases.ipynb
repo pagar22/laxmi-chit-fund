{
 "cells": [
  {
   "cell_type": "markdown",
   "metadata": {},
   "source": [
    "## Read Smallcases"
   ]
  },
  {
   "cell_type": "code",
   "execution_count": 1,
   "metadata": {},
   "outputs": [],
   "source": [
    "import numpy as np\n",
    "import pandas as pd"
   ]
  },
  {
   "cell_type": "code",
   "execution_count": 36,
   "metadata": {},
   "outputs": [
    {
     "data": {
      "text/html": [
       "<div>\n",
       "<style scoped>\n",
       "    .dataframe tbody tr th:only-of-type {\n",
       "        vertical-align: middle;\n",
       "    }\n",
       "\n",
       "    .dataframe tbody tr th {\n",
       "        vertical-align: top;\n",
       "    }\n",
       "\n",
       "    .dataframe thead th {\n",
       "        text-align: right;\n",
       "    }\n",
       "</style>\n",
       "<table border=\"1\" class=\"dataframe\">\n",
       "  <thead>\n",
       "    <tr style=\"text-align: right;\">\n",
       "      <th></th>\n",
       "      <th>Date Range</th>\n",
       "      <th>Constituents</th>\n",
       "      <th>Weightage</th>\n",
       "    </tr>\n",
       "  </thead>\n",
       "  <tbody>\n",
       "    <tr>\n",
       "      <th>0</th>\n",
       "      <td>2017-11-15 to 2017-11-30</td>\n",
       "      <td>JBM Auto Ltd</td>\n",
       "      <td>0.08</td>\n",
       "    </tr>\n",
       "    <tr>\n",
       "      <th>1</th>\n",
       "      <td>NaN</td>\n",
       "      <td>Igarashi Motors India Ltd</td>\n",
       "      <td>0.08</td>\n",
       "    </tr>\n",
       "    <tr>\n",
       "      <th>2</th>\n",
       "      <td>NaN</td>\n",
       "      <td>Mahindra and Mahindra Ltd</td>\n",
       "      <td>0.08</td>\n",
       "    </tr>\n",
       "    <tr>\n",
       "      <th>3</th>\n",
       "      <td>NaN</td>\n",
       "      <td>Tata Motors Ltd</td>\n",
       "      <td>0.08</td>\n",
       "    </tr>\n",
       "    <tr>\n",
       "      <th>4</th>\n",
       "      <td>NaN</td>\n",
       "      <td>Hero MotoCorp Ltd</td>\n",
       "      <td>0.08</td>\n",
       "    </tr>\n",
       "  </tbody>\n",
       "</table>\n",
       "</div>"
      ],
      "text/plain": [
       "                 Date Range               Constituents  Weightage\n",
       "0  2017-11-15 to 2017-11-30               JBM Auto Ltd       0.08\n",
       "1                       NaN  Igarashi Motors India Ltd       0.08\n",
       "2                       NaN  Mahindra and Mahindra Ltd       0.08\n",
       "3                       NaN            Tata Motors Ltd       0.08\n",
       "4                       NaN          Hero MotoCorp Ltd       0.08"
      ]
     },
     "execution_count": 36,
     "metadata": {},
     "output_type": "execute_result"
    }
   ],
   "source": [
    "id = \"0025\"\n",
    "smallcase = pd.ExcelFile(f\"data/smallcases/SCNM_{id}_Timeline.xlsx\")\n",
    "\n",
    "constituents = pd.read_excel(smallcase, sheet_name=\"Historical Constituents\")\n",
    "constituents.head()"
   ]
  },
  {
   "cell_type": "code",
   "execution_count": 37,
   "metadata": {},
   "outputs": [
    {
     "data": {
      "text/html": [
       "<div>\n",
       "<style scoped>\n",
       "    .dataframe tbody tr th:only-of-type {\n",
       "        vertical-align: middle;\n",
       "    }\n",
       "\n",
       "    .dataframe tbody tr th {\n",
       "        vertical-align: top;\n",
       "    }\n",
       "\n",
       "    .dataframe thead th {\n",
       "        text-align: right;\n",
       "    }\n",
       "</style>\n",
       "<table border=\"1\" class=\"dataframe\">\n",
       "  <thead>\n",
       "    <tr style=\"text-align: right;\">\n",
       "      <th></th>\n",
       "      <th>Date</th>\n",
       "      <th>Electric Mobility</th>\n",
       "      <th>NIFTY Large &amp; Midcap</th>\n",
       "      <th>Rebalance Occured</th>\n",
       "    </tr>\n",
       "  </thead>\n",
       "  <tbody>\n",
       "    <tr>\n",
       "      <th>0</th>\n",
       "      <td>2017-11-15</td>\n",
       "      <td>100.00</td>\n",
       "      <td>100.00</td>\n",
       "      <td>NaN</td>\n",
       "    </tr>\n",
       "    <tr>\n",
       "      <th>1</th>\n",
       "      <td>2017-11-16</td>\n",
       "      <td>101.03</td>\n",
       "      <td>101.08</td>\n",
       "      <td>NaN</td>\n",
       "    </tr>\n",
       "    <tr>\n",
       "      <th>2</th>\n",
       "      <td>2017-11-17</td>\n",
       "      <td>101.62</td>\n",
       "      <td>101.91</td>\n",
       "      <td>NaN</td>\n",
       "    </tr>\n",
       "    <tr>\n",
       "      <th>3</th>\n",
       "      <td>2017-11-20</td>\n",
       "      <td>102.26</td>\n",
       "      <td>102.32</td>\n",
       "      <td>NaN</td>\n",
       "    </tr>\n",
       "    <tr>\n",
       "      <th>4</th>\n",
       "      <td>2017-11-21</td>\n",
       "      <td>102.52</td>\n",
       "      <td>102.55</td>\n",
       "      <td>NaN</td>\n",
       "    </tr>\n",
       "  </tbody>\n",
       "</table>\n",
       "</div>"
      ],
      "text/plain": [
       "         Date  Electric Mobility NIFTY Large & Midcap Rebalance Occured\n",
       "0  2017-11-15             100.00               100.00               NaN\n",
       "1  2017-11-16             101.03               101.08               NaN\n",
       "2  2017-11-17             101.62               101.91               NaN\n",
       "3  2017-11-20             102.26               102.32               NaN\n",
       "4  2017-11-21             102.52               102.55               NaN"
      ]
     },
     "execution_count": 37,
     "metadata": {},
     "output_type": "execute_result"
    }
   ],
   "source": [
    "indexes = pd.read_excel(smallcase, sheet_name=\"Historical Index Values\")\n",
    "indexes.head()"
   ]
  },
  {
   "cell_type": "markdown",
   "metadata": {},
   "source": [
    "### Map and POST Smallcase Name to Upstox Instrument"
   ]
  },
  {
   "cell_type": "code",
   "execution_count": 23,
   "metadata": {},
   "outputs": [],
   "source": [
    "# Connect to db\n",
    "import os\n",
    "import sys\n",
    "\n",
    "backend_path = os.path.abspath(os.path.join(os.getcwd(), '../backend'))\n",
    "sys.path.append(backend_path)\n",
    "from app.internal.firebase import db"
   ]
  },
  {
   "cell_type": "code",
   "execution_count": 42,
   "metadata": {},
   "outputs": [
    {
     "data": {
      "text/plain": [
       "30"
      ]
     },
     "execution_count": 42,
     "metadata": {},
     "output_type": "execute_result"
    }
   ],
   "source": [
    "postable_constituents = constituents[\"Constituents\"].unique()\n",
    "len(postable_constituents)"
   ]
  },
  {
   "cell_type": "code",
   "execution_count": 95,
   "metadata": {},
   "outputs": [],
   "source": [
    "async def query_ticker_name(name: str):\n",
    "    return await db.collection(\"tickers\").where(\"name\", \">=\", name).where(\"name\", \"<=\", name + '\\uf8ff').get()"
   ]
  },
  {
   "cell_type": "code",
   "execution_count": 96,
   "metadata": {},
   "outputs": [
    {
     "name": "stderr",
     "output_type": "stream",
     "text": [
      "/Library/Frameworks/Python.framework/Versions/3.11/lib/python3.11/site-packages/google/cloud/firestore_v1/base_collection.py:302: UserWarning: Detected filter using positional arguments. Prefer using the 'filter' keyword argument instead.\n",
      "  return query.where(field_path, op_string, value)\n",
      "/var/folders/4x/3kzzlsjs1q36v35r81960pt40000gn/T/ipykernel_64588/2276505340.py:2: UserWarning: Detected filter using positional arguments. Prefer using the 'filter' keyword argument instead.\n",
      "  return await db.collection(\"tickers\").where(\"name\", \">=\", name).where(\"name\", \"<=\", name + '\\uf8ff').get()\n"
     ]
    }
   ],
   "source": [
    "successful_constitents = []\n",
    "failed_constitents = []\n",
    "\n",
    "\n",
    "for c in postable_constituents:\n",
    "    q = c.upper()\n",
    "    docs = await query_ticker_name(q)\n",
    "    if len(docs) == 0:\n",
    "        failed_constitents.append(c)\n",
    "    else:\n",
    "        for e in docs:\n",
    "            await db.collection(\"tickers\").document(e.id).update({\n",
    "                \"smallcase_name\": c\n",
    "            })\n",
    "            successful_constitents.append((c, e.id))"
   ]
  },
  {
   "cell_type": "code",
   "execution_count": 97,
   "metadata": {},
   "outputs": [
    {
     "data": {
      "text/plain": [
       "10"
      ]
     },
     "execution_count": 97,
     "metadata": {},
     "output_type": "execute_result"
    }
   ],
   "source": [
    "len(successful_constitents)\n"
   ]
  },
  {
   "cell_type": "markdown",
   "metadata": {},
   "source": [
    "10 successful, 20 failed, wrangle and try again"
   ]
  },
  {
   "cell_type": "code",
   "execution_count": 108,
   "metadata": {},
   "outputs": [],
   "source": [
    "# All return upper\n",
    "\n",
    "def replace_ltd(s):\n",
    "    return s.upper().replace(\"LTD\", \"LIMITED\")\n",
    "\n",
    "def replace_technologies(s):\n",
    "    return s.upper().replace(\"TECHNOLOGIES\", \"TECHNO.\")\n",
    "\n",
    "def replace_company(s):\n",
    "    return s.upper().replace(\"COMPANY\", \"CO\")\n",
    "\n",
    "def replace_corporation(s):\n",
    "    return s.upper().replace(\"CORPORATION\", \"CORP\")"
   ]
  },
  {
   "cell_type": "code",
   "execution_count": 130,
   "metadata": {},
   "outputs": [
    {
     "name": "stderr",
     "output_type": "stream",
     "text": [
      "/Library/Frameworks/Python.framework/Versions/3.11/lib/python3.11/site-packages/google/cloud/firestore_v1/base_collection.py:302: UserWarning: Detected filter using positional arguments. Prefer using the 'filter' keyword argument instead.\n",
      "  return query.where(field_path, op_string, value)\n",
      "/var/folders/4x/3kzzlsjs1q36v35r81960pt40000gn/T/ipykernel_64588/2276505340.py:2: UserWarning: Detected filter using positional arguments. Prefer using the 'filter' keyword argument instead.\n",
      "  return await db.collection(\"tickers\").where(\"name\", \">=\", name).where(\"name\", \"<=\", name + '\\uf8ff').get()\n"
     ]
    }
   ],
   "source": [
    "# Ltd -> Limited\n",
    "for f in failed_constitents:\n",
    "    q = replace_ltd(f)\n",
    "    docs = await query_ticker_name(q)\n",
    "    if len(docs) != 0:\n",
    "        for e in docs:\n",
    "            await db.collection(\"tickers\").document(e.id).update({\n",
    "                \"smallcase_name\": f\n",
    "            })\n",
    "            successful_constitents.append((f, e.id))\n",
    "            failed_constitents.remove(f)"
   ]
  },
  {
   "cell_type": "code",
   "execution_count": 131,
   "metadata": {},
   "outputs": [
    {
     "data": {
      "text/plain": [
       "(19, 11)"
      ]
     },
     "execution_count": 131,
     "metadata": {},
     "output_type": "execute_result"
    }
   ],
   "source": [
    "len(successful_constitents), len(failed_constitents)"
   ]
  },
  {
   "cell_type": "code",
   "execution_count": 116,
   "metadata": {},
   "outputs": [
    {
     "data": {
      "text/html": [
       "<div>\n",
       "<style scoped>\n",
       "    .dataframe tbody tr th:only-of-type {\n",
       "        vertical-align: middle;\n",
       "    }\n",
       "\n",
       "    .dataframe tbody tr th {\n",
       "        vertical-align: top;\n",
       "    }\n",
       "\n",
       "    .dataframe thead th {\n",
       "        text-align: right;\n",
       "    }\n",
       "</style>\n",
       "<table border=\"1\" class=\"dataframe\">\n",
       "  <thead>\n",
       "    <tr style=\"text-align: right;\">\n",
       "      <th></th>\n",
       "      <th>instrument_key</th>\n",
       "      <th>exchange_token</th>\n",
       "      <th>tradingsymbol</th>\n",
       "      <th>name</th>\n",
       "      <th>last_price</th>\n",
       "      <th>expiry</th>\n",
       "      <th>strike</th>\n",
       "      <th>tick_size</th>\n",
       "      <th>lot_size</th>\n",
       "      <th>instrument_type</th>\n",
       "      <th>option_type</th>\n",
       "      <th>exchange</th>\n",
       "    </tr>\n",
       "  </thead>\n",
       "  <tbody>\n",
       "    <tr>\n",
       "      <th>77</th>\n",
       "      <td>NSE_EQ|DUMMYSAN005</td>\n",
       "      <td>14747.0</td>\n",
       "      <td>011NSETEST</td>\n",
       "      <td>011NSETEST</td>\n",
       "      <td>NaN</td>\n",
       "      <td>NaN</td>\n",
       "      <td>NaN</td>\n",
       "      <td>0.05</td>\n",
       "      <td>1.0</td>\n",
       "      <td>EQUITY</td>\n",
       "      <td>NaN</td>\n",
       "      <td>NSE_EQ</td>\n",
       "    </tr>\n",
       "    <tr>\n",
       "      <th>78</th>\n",
       "      <td>NSE_EQ|DUMMYSAN006</td>\n",
       "      <td>14751.0</td>\n",
       "      <td>021NSETEST</td>\n",
       "      <td>021NSETEST</td>\n",
       "      <td>NaN</td>\n",
       "      <td>NaN</td>\n",
       "      <td>NaN</td>\n",
       "      <td>0.05</td>\n",
       "      <td>1.0</td>\n",
       "      <td>EQUITY</td>\n",
       "      <td>NaN</td>\n",
       "      <td>NSE_EQ</td>\n",
       "    </tr>\n",
       "    <tr>\n",
       "      <th>79</th>\n",
       "      <td>NSE_EQ|DUMMYSAN007</td>\n",
       "      <td>14753.0</td>\n",
       "      <td>031NSETEST</td>\n",
       "      <td>031NSETEST</td>\n",
       "      <td>NaN</td>\n",
       "      <td>NaN</td>\n",
       "      <td>NaN</td>\n",
       "      <td>0.05</td>\n",
       "      <td>1.0</td>\n",
       "      <td>EQUITY</td>\n",
       "      <td>NaN</td>\n",
       "      <td>NSE_EQ</td>\n",
       "    </tr>\n",
       "    <tr>\n",
       "      <th>80</th>\n",
       "      <td>NSE_EQ|DUMMYSAN008</td>\n",
       "      <td>14755.0</td>\n",
       "      <td>041NSETEST</td>\n",
       "      <td>041NSETEST</td>\n",
       "      <td>NaN</td>\n",
       "      <td>NaN</td>\n",
       "      <td>NaN</td>\n",
       "      <td>0.05</td>\n",
       "      <td>1.0</td>\n",
       "      <td>EQUITY</td>\n",
       "      <td>NaN</td>\n",
       "      <td>NSE_EQ</td>\n",
       "    </tr>\n",
       "    <tr>\n",
       "      <th>81</th>\n",
       "      <td>NSE_EQ|DUMMYSAN009</td>\n",
       "      <td>14758.0</td>\n",
       "      <td>051NSETEST</td>\n",
       "      <td>051NSETEST</td>\n",
       "      <td>NaN</td>\n",
       "      <td>NaN</td>\n",
       "      <td>NaN</td>\n",
       "      <td>0.05</td>\n",
       "      <td>1.0</td>\n",
       "      <td>EQUITY</td>\n",
       "      <td>NaN</td>\n",
       "      <td>NSE_EQ</td>\n",
       "    </tr>\n",
       "  </tbody>\n",
       "</table>\n",
       "</div>"
      ],
      "text/plain": [
       "        instrument_key  exchange_token tradingsymbol        name  last_price  \\\n",
       "77  NSE_EQ|DUMMYSAN005         14747.0    011NSETEST  011NSETEST         NaN   \n",
       "78  NSE_EQ|DUMMYSAN006         14751.0    021NSETEST  021NSETEST         NaN   \n",
       "79  NSE_EQ|DUMMYSAN007         14753.0    031NSETEST  031NSETEST         NaN   \n",
       "80  NSE_EQ|DUMMYSAN008         14755.0    041NSETEST  041NSETEST         NaN   \n",
       "81  NSE_EQ|DUMMYSAN009         14758.0    051NSETEST  051NSETEST         NaN   \n",
       "\n",
       "   expiry  strike  tick_size  lot_size instrument_type option_type exchange  \n",
       "77    NaN     NaN       0.05       1.0          EQUITY         NaN   NSE_EQ  \n",
       "78    NaN     NaN       0.05       1.0          EQUITY         NaN   NSE_EQ  \n",
       "79    NaN     NaN       0.05       1.0          EQUITY         NaN   NSE_EQ  \n",
       "80    NaN     NaN       0.05       1.0          EQUITY         NaN   NSE_EQ  \n",
       "81    NaN     NaN       0.05       1.0          EQUITY         NaN   NSE_EQ  "
      ]
     },
     "execution_count": 116,
     "metadata": {},
     "output_type": "execute_result"
    }
   ],
   "source": [
    "nse = pd.read_csv(\"data/upstox/NSE.csv\")\n",
    "equities = nse.query('instrument_type == \"EQUITY\" and exchange == \"NSE_EQ\"')\n",
    "equities.head()"
   ]
  },
  {
   "cell_type": "code",
   "execution_count": 134,
   "metadata": {},
   "outputs": [
    {
     "data": {
      "text/html": [
       "<div>\n",
       "<style scoped>\n",
       "    .dataframe tbody tr th:only-of-type {\n",
       "        vertical-align: middle;\n",
       "    }\n",
       "\n",
       "    .dataframe tbody tr th {\n",
       "        vertical-align: top;\n",
       "    }\n",
       "\n",
       "    .dataframe thead th {\n",
       "        text-align: right;\n",
       "    }\n",
       "</style>\n",
       "<table border=\"1\" class=\"dataframe\">\n",
       "  <thead>\n",
       "    <tr style=\"text-align: right;\">\n",
       "      <th></th>\n",
       "      <th>name</th>\n",
       "      <th>exchange_token</th>\n",
       "      <th>similarity</th>\n",
       "      <th>smallcase_name</th>\n",
       "    </tr>\n",
       "  </thead>\n",
       "  <tbody>\n",
       "    <tr>\n",
       "      <th>0</th>\n",
       "      <td>MAHINDRA &amp; MAHINDRA LTD</td>\n",
       "      <td>2031.0</td>\n",
       "      <td>0.916667</td>\n",
       "      <td>Mahindra and Mahindra Ltd</td>\n",
       "    </tr>\n",
       "    <tr>\n",
       "      <th>1</th>\n",
       "      <td>MINDA CORPORATION LTD</td>\n",
       "      <td>25897.0</td>\n",
       "      <td>0.851064</td>\n",
       "      <td>Indian Oil Corporation Ltd</td>\n",
       "    </tr>\n",
       "    <tr>\n",
       "      <th>2</th>\n",
       "      <td>HIMADRI SPECIALITY CHEM L</td>\n",
       "      <td>14334.0</td>\n",
       "      <td>0.892857</td>\n",
       "      <td>Himadri Speciality Chemical Ltd</td>\n",
       "    </tr>\n",
       "    <tr>\n",
       "      <th>3</th>\n",
       "      <td>HINDALCO  INDUSTRIES  LTD</td>\n",
       "      <td>1363.0</td>\n",
       "      <td>0.958333</td>\n",
       "      <td>Hindalco Industries Ltd</td>\n",
       "    </tr>\n",
       "    <tr>\n",
       "      <th>4</th>\n",
       "      <td>AMARA RAJA ENERGY MOB LTD</td>\n",
       "      <td>100.0</td>\n",
       "      <td>0.877193</td>\n",
       "      <td>Amara Raja Energy &amp; Mobility Ltd</td>\n",
       "    </tr>\n",
       "    <tr>\n",
       "      <th>5</th>\n",
       "      <td>POWER GRID CORP. LTD.</td>\n",
       "      <td>14977.0</td>\n",
       "      <td>0.678571</td>\n",
       "      <td>Power Grid Corporation of India Ltd</td>\n",
       "    </tr>\n",
       "    <tr>\n",
       "      <th>6</th>\n",
       "      <td>ENDURANCE TECHNO. LTD.</td>\n",
       "      <td>18822.0</td>\n",
       "      <td>0.833333</td>\n",
       "      <td>Endurance Technologies Ltd</td>\n",
       "    </tr>\n",
       "    <tr>\n",
       "      <th>7</th>\n",
       "      <td>BHARAT ELECTRONICS LTD</td>\n",
       "      <td>383.0</td>\n",
       "      <td>0.800000</td>\n",
       "      <td>Bharat Heavy Electricals Ltd</td>\n",
       "    </tr>\n",
       "    <tr>\n",
       "      <th>8</th>\n",
       "      <td>TATA POWER CO LTD</td>\n",
       "      <td>3426.0</td>\n",
       "      <td>0.871795</td>\n",
       "      <td>Tata Power Company Ltd</td>\n",
       "    </tr>\n",
       "    <tr>\n",
       "      <th>9</th>\n",
       "      <td>SAMVRDHNA MTHRSN INTL LTD</td>\n",
       "      <td>4204.0</td>\n",
       "      <td>0.781250</td>\n",
       "      <td>Samvardhana Motherson International Ltd</td>\n",
       "    </tr>\n",
       "    <tr>\n",
       "      <th>10</th>\n",
       "      <td>SONA BLW PRECISION FRGS L</td>\n",
       "      <td>4684.0</td>\n",
       "      <td>0.892857</td>\n",
       "      <td>Sona BLW Precision Forgings Ltd</td>\n",
       "    </tr>\n",
       "  </tbody>\n",
       "</table>\n",
       "</div>"
      ],
      "text/plain": [
       "                         name  exchange_token  similarity  \\\n",
       "0     MAHINDRA & MAHINDRA LTD          2031.0    0.916667   \n",
       "1       MINDA CORPORATION LTD         25897.0    0.851064   \n",
       "2   HIMADRI SPECIALITY CHEM L         14334.0    0.892857   \n",
       "3   HINDALCO  INDUSTRIES  LTD          1363.0    0.958333   \n",
       "4   AMARA RAJA ENERGY MOB LTD           100.0    0.877193   \n",
       "5       POWER GRID CORP. LTD.         14977.0    0.678571   \n",
       "6      ENDURANCE TECHNO. LTD.         18822.0    0.833333   \n",
       "7      BHARAT ELECTRONICS LTD           383.0    0.800000   \n",
       "8           TATA POWER CO LTD          3426.0    0.871795   \n",
       "9   SAMVRDHNA MTHRSN INTL LTD          4204.0    0.781250   \n",
       "10  SONA BLW PRECISION FRGS L          4684.0    0.892857   \n",
       "\n",
       "                             smallcase_name  \n",
       "0                 Mahindra and Mahindra Ltd  \n",
       "1                Indian Oil Corporation Ltd  \n",
       "2           Himadri Speciality Chemical Ltd  \n",
       "3                   Hindalco Industries Ltd  \n",
       "4          Amara Raja Energy & Mobility Ltd  \n",
       "5       Power Grid Corporation of India Ltd  \n",
       "6                Endurance Technologies Ltd  \n",
       "7              Bharat Heavy Electricals Ltd  \n",
       "8                    Tata Power Company Ltd  \n",
       "9   Samvardhana Motherson International Ltd  \n",
       "10          Sona BLW Precision Forgings Ltd  "
      ]
     },
     "execution_count": 134,
     "metadata": {},
     "output_type": "execute_result"
    }
   ],
   "source": [
    "import difflib\n",
    "df = equities.filter(['name', \"exchange_token\"])\n",
    "tickers = pd.DataFrame() \n",
    "r = {}\n",
    "for f in failed_constitents:\n",
    "    df['similarity'] = df[\"name\"].apply(lambda x: difflib.SequenceMatcher(None, x.lower(), f.lower()).ratio())\n",
    "        \n",
    "    top_match = df.sort_values(by='similarity', ascending=False).head(1)\n",
    "    top_match['smallcase_name'] = f\n",
    "        \n",
    "    tickers = pd.concat([tickers, top_match], ignore_index=True)\n",
    "\n",
    "tickers"
   ]
  },
  {
   "cell_type": "code",
   "execution_count": 137,
   "metadata": {},
   "outputs": [],
   "source": [
    "payload = tickers[['exchange_token', 'smallcase_name']].to_dict(orient='records')\n",
    "for p in payload:\n",
    "    id = str(int(p['exchange_token']))\n",
    "    await db.document(f\"tickers/{id}\").update({\"smallcase_name\": p[\"smallcase_name\"]})\n",
    "    successful_constitents.append((p[\"smallcase_name\"], id))"
   ]
  },
  {
   "cell_type": "code",
   "execution_count": 138,
   "metadata": {},
   "outputs": [
    {
     "data": {
      "text/plain": [
       "30"
      ]
     },
     "execution_count": 138,
     "metadata": {},
     "output_type": "execute_result"
    }
   ],
   "source": [
    "len(successful_constitents)"
   ]
  },
  {
   "cell_type": "code",
   "execution_count": null,
   "metadata": {},
   "outputs": [],
   "source": []
  }
 ],
 "metadata": {
  "kernelspec": {
   "display_name": "Python 3",
   "language": "python",
   "name": "python3"
  },
  "language_info": {
   "codemirror_mode": {
    "name": "ipython",
    "version": 3
   },
   "file_extension": ".py",
   "mimetype": "text/x-python",
   "name": "python",
   "nbconvert_exporter": "python",
   "pygments_lexer": "ipython3",
   "version": "3.11.9"
  }
 },
 "nbformat": 4,
 "nbformat_minor": 2
}
