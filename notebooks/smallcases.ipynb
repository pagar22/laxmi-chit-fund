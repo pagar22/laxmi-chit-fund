{
 "cells": [
  {
   "cell_type": "markdown",
   "metadata": {},
   "source": [
    "### Read Smallcases"
   ]
  },
  {
   "cell_type": "code",
   "execution_count": 2,
   "metadata": {},
   "outputs": [
    {
     "name": "stderr",
     "output_type": "stream",
     "text": [
      "/var/folders/lq/280gf8ld14v161g6ngpdjjnc0000gn/T/ipykernel_86081/1381056079.py:3: DeprecationWarning: \n",
      "Pyarrow will become a required dependency of pandas in the next major release of pandas (pandas 3.0),\n",
      "(to allow more performant data types, such as the Arrow string type, and better interoperability with other libraries)\n",
      "but was not found to be installed on your system.\n",
      "If this would cause problems for you,\n",
      "please provide us feedback at https://github.com/pandas-dev/pandas/issues/54466\n",
      "        \n",
      "  import pandas as pd\n"
     ]
    }
   ],
   "source": [
    "import re\n",
    "import numpy as np\n",
    "import pandas as pd\n",
    "import requests\n",
    "\n",
    "local_base_url = \"http://localhost:7999\""
   ]
  },
  {
   "cell_type": "code",
   "execution_count": 3,
   "metadata": {},
   "outputs": [
    {
     "name": "stderr",
     "output_type": "stream",
     "text": [
      "/Users/aaryanpagar/Library/Python/3.11/lib/python/site-packages/google/auth/_default.py:76: UserWarning: Your application has authenticated using end user credentials from Google Cloud SDK without a quota project. You might receive a \"quota exceeded\" or \"API not enabled\" error. See the following page for troubleshooting: https://cloud.google.com/docs/authentication/adc-troubleshooting/user-creds. \n",
      "  warnings.warn(_CLOUD_SDK_CREDENTIALS_WARNING)\n"
     ]
    }
   ],
   "source": [
    "# Connect to services\n",
    "import os\n",
    "import sys\n",
    "\n",
    "backend_path = os.path.abspath(os.path.join(os.getcwd(), '../backend'))\n",
    "sys.path.append(backend_path)\n",
    "\n",
    "from app.internal.firebase import db, bucket"
   ]
  },
  {
   "cell_type": "code",
   "execution_count": 4,
   "metadata": {},
   "outputs": [
    {
     "data": {
      "text/html": [
       "<div>\n",
       "<style scoped>\n",
       "    .dataframe tbody tr th:only-of-type {\n",
       "        vertical-align: middle;\n",
       "    }\n",
       "\n",
       "    .dataframe tbody tr th {\n",
       "        vertical-align: top;\n",
       "    }\n",
       "\n",
       "    .dataframe thead th {\n",
       "        text-align: right;\n",
       "    }\n",
       "</style>\n",
       "<table border=\"1\" class=\"dataframe\">\n",
       "  <thead>\n",
       "    <tr style=\"text-align: right;\">\n",
       "      <th></th>\n",
       "      <th>Date Range</th>\n",
       "      <th>Constituents</th>\n",
       "      <th>Weightage</th>\n",
       "    </tr>\n",
       "  </thead>\n",
       "  <tbody>\n",
       "    <tr>\n",
       "      <th>0</th>\n",
       "      <td>2016-04-04 to 2016-05-31</td>\n",
       "      <td>Delta Corp Ltd</td>\n",
       "      <td>0.1</td>\n",
       "    </tr>\n",
       "    <tr>\n",
       "      <th>1</th>\n",
       "      <td>NaN</td>\n",
       "      <td>DLF Ltd</td>\n",
       "      <td>0.1</td>\n",
       "    </tr>\n",
       "    <tr>\n",
       "      <th>2</th>\n",
       "      <td>NaN</td>\n",
       "      <td>Godrej Properties Ltd</td>\n",
       "      <td>0.1</td>\n",
       "    </tr>\n",
       "    <tr>\n",
       "      <th>3</th>\n",
       "      <td>NaN</td>\n",
       "      <td>Housing Development and Infrastructure Ltd</td>\n",
       "      <td>0.1</td>\n",
       "    </tr>\n",
       "    <tr>\n",
       "      <th>4</th>\n",
       "      <td>NaN</td>\n",
       "      <td>Indiabulls Real Estate Ltd</td>\n",
       "      <td>0.1</td>\n",
       "    </tr>\n",
       "  </tbody>\n",
       "</table>\n",
       "</div>"
      ],
      "text/plain": [
       "                 Date Range                                Constituents  \\\n",
       "0  2016-04-04 to 2016-05-31                              Delta Corp Ltd   \n",
       "1                       NaN                                     DLF Ltd   \n",
       "2                       NaN                       Godrej Properties Ltd   \n",
       "3                       NaN  Housing Development and Infrastructure Ltd   \n",
       "4                       NaN                  Indiabulls Real Estate Ltd   \n",
       "\n",
       "   Weightage  \n",
       "0        0.1  \n",
       "1        0.1  \n",
       "2        0.1  \n",
       "3        0.1  \n",
       "4        0.1  "
      ]
     },
     "execution_count": 4,
     "metadata": {},
     "output_type": "execute_result"
    }
   ],
   "source": [
    "ids = [\n",
    "    {\"id\": \"SCAW_0001\", \"name\": \"All Weather Investing\"},\n",
    "    {\"id\": \"SCMO_0015\", \"name\": \"Safe Haven\"},\n",
    "    {\"id\": \"SCMO_0026\", \"name\": \"Growth & Income\"},\n",
    "    {\"id\": \"SCMO_0016\", \"name\": \"The Naked Trader\"},\n",
    "    {\"id\": \"SCMO_0024\", \"name\": \"The PE List\"},\n",
    "    {\"id\": \"SCMO_0013\", \"name\": \"Dividend Stars\"},\n",
    "    {\"id\": \"SCMO_0014\", \"name\": \"Dividend Aristocrats\"},\n",
    "    {\"id\": \"SCNM_0025\", \"name\": \"Electric Mobility\"},\n",
    "    {\"id\": \"SCNM_0012\", \"name\": \"Rising Rural Demand\"},\n",
    "    {\"id\": \"SCTR_0014\", \"name\": \"House of Tata\"},\n",
    "    {\"id\": \"SCTR_0017\", \"name\": \"House of Murugappa\"},\n",
    "    {\"id\": \"SCTR_0010\", \"name\": \"Realty Tracker\"},\n",
    "]\n",
    "smallcase_id = ids[11][\"id\"]\n",
    "smallcase_sheet_path = f\"data/smallcases/{smallcase_id}_Timeline.xlsx\"\n",
    "smallcase_sheet = pd.ExcelFile(smallcase_sheet_path)\n",
    "\n",
    "constituents = pd.read_excel(smallcase_sheet, sheet_name=\"Historical Constituents\")\n",
    "constituents.head()"
   ]
  },
  {
   "cell_type": "code",
   "execution_count": 119,
   "metadata": {},
   "outputs": [
    {
     "data": {
      "text/html": [
       "<div>\n",
       "<style scoped>\n",
       "    .dataframe tbody tr th:only-of-type {\n",
       "        vertical-align: middle;\n",
       "    }\n",
       "\n",
       "    .dataframe tbody tr th {\n",
       "        vertical-align: top;\n",
       "    }\n",
       "\n",
       "    .dataframe thead th {\n",
       "        text-align: right;\n",
       "    }\n",
       "</style>\n",
       "<table border=\"1\" class=\"dataframe\">\n",
       "  <thead>\n",
       "    <tr style=\"text-align: right;\">\n",
       "      <th></th>\n",
       "      <th>Date</th>\n",
       "      <th>Realty Tracker</th>\n",
       "      <th>NIFTY Midcap</th>\n",
       "      <th>Rebalance Occured</th>\n",
       "    </tr>\n",
       "  </thead>\n",
       "  <tbody>\n",
       "    <tr>\n",
       "      <th>0</th>\n",
       "      <td>2016-04-04</td>\n",
       "      <td>100.00</td>\n",
       "      <td>100.00</td>\n",
       "      <td>NaN</td>\n",
       "    </tr>\n",
       "    <tr>\n",
       "      <th>1</th>\n",
       "      <td>2016-04-05</td>\n",
       "      <td>97.36</td>\n",
       "      <td>98.44</td>\n",
       "      <td>NaN</td>\n",
       "    </tr>\n",
       "    <tr>\n",
       "      <th>2</th>\n",
       "      <td>2016-04-06</td>\n",
       "      <td>99.06</td>\n",
       "      <td>98.91</td>\n",
       "      <td>NaN</td>\n",
       "    </tr>\n",
       "    <tr>\n",
       "      <th>3</th>\n",
       "      <td>2016-04-07</td>\n",
       "      <td>99.35</td>\n",
       "      <td>98.38</td>\n",
       "      <td>NaN</td>\n",
       "    </tr>\n",
       "    <tr>\n",
       "      <th>4</th>\n",
       "      <td>2016-04-08</td>\n",
       "      <td>100.06</td>\n",
       "      <td>98.98</td>\n",
       "      <td>NaN</td>\n",
       "    </tr>\n",
       "  </tbody>\n",
       "</table>\n",
       "</div>"
      ],
      "text/plain": [
       "         Date  Realty Tracker NIFTY Midcap Rebalance Occured\n",
       "0  2016-04-04          100.00       100.00               NaN\n",
       "1  2016-04-05           97.36        98.44               NaN\n",
       "2  2016-04-06           99.06        98.91               NaN\n",
       "3  2016-04-07           99.35        98.38               NaN\n",
       "4  2016-04-08          100.06        98.98               NaN"
      ]
     },
     "execution_count": 119,
     "metadata": {},
     "output_type": "execute_result"
    }
   ],
   "source": [
    "indexes = pd.read_excel(smallcase_sheet, sheet_name=\"Historical Index Values\")\n",
    "indexes.head()"
   ]
  },
  {
   "cell_type": "markdown",
   "metadata": {},
   "source": [
    "### Fetch and POST Smallcase and Stats"
   ]
  },
  {
   "cell_type": "code",
   "execution_count": 285,
   "metadata": {},
   "outputs": [
    {
     "data": {
      "text/plain": [
       "200"
      ]
     },
     "execution_count": 285,
     "metadata": {},
     "output_type": "execute_result"
    }
   ],
   "source": [
    "smallcase_base_url = \"https://api.smallcase.com\"\n",
    "resp = requests.get(f\"{smallcase_base_url}/smallcases/smallcase?scid={smallcase_id}\")\n",
    "\n",
    "resp.status_code"
   ]
  },
  {
   "cell_type": "code",
   "execution_count": 286,
   "metadata": {},
   "outputs": [
    {
     "data": {
      "text/plain": [
       "True"
      ]
     },
     "execution_count": 286,
     "metadata": {},
     "output_type": "execute_result"
    }
   ],
   "source": [
    "smallcase = resp.json()[\"data\"]\n",
    "stats = smallcase[\"stats\"]\n",
    "\n",
    "def remove_p_tag(text: str):\n",
    "    return re.sub(r\"</?(p|ul|li)>\", \"\", text)\n",
    "\n",
    "methodologies = []\n",
    "for m in smallcase[\"methodology\"]:\n",
    "    methodologies.append({\n",
    "        \"key\": m[\"key\"],\n",
    "        \"details\": remove_p_tag(m[\"content\"]),\n",
    "    })\n",
    "\n",
    "investment_strategies = []\n",
    "for i in smallcase[\"info\"][\"investmentStrategy\"]:\n",
    "    investment_strategies.append(i[\"key\"])\n",
    "\n",
    "payload = {\n",
    "    \"id\": smallcase_id,\n",
    "    \"name\": smallcase[\"info\"][\"name\"],\n",
    "    \"slug\": smallcase[\"info\"][\"slug\"],\n",
    "    \"description\": smallcase[\"info\"][\"shortDescription\"],\n",
    "    \"volatility\": stats[\"ratios\"][\"riskLabel\"],\n",
    "    \"popularity_rank\": smallcase[\"flags\"][\"popular\"][\"rank\"],\n",
    "    \"contains_etf\": smallcase[\"flags\"][\"containsEtf\"],\n",
    "    \"contains_stock\": smallcase[\"flags\"][\"containsStock\"],\n",
    "    \"constituent_count\": smallcase[\"constituentsCount\"],\n",
    "    \"growth_since_launch\": {\n",
    "        \"cagr\": stats[\"ratios\"][\"cagr\"],\n",
    "        \"returns\": stats[\"returns\"][\"sinceInception\"],\n",
    "        \"duration\": stats[\"ratios\"][\"cagrDuration\"],\n",
    "    },\n",
    "    \"benchmark\": {\n",
    "        \"id\": smallcase[\"benchmark\"][\"id\"],\n",
    "        \"index\": smallcase[\"benchmark\"][\"index\"],\n",
    "        \"details\": smallcase[\"benchmark\"][\"msg\"],\n",
    "    },\n",
    "    \"methodologies\": methodologies,\n",
    "    \"launch_date\": smallcase[\"info\"][\"uploaded\"],\n",
    "    \"inception_date\": smallcase[\"info\"][\"created\"],\n",
    "    \"last_rebalance_date\": smallcase[\"info\"][\"lastRebalanced\"],\n",
    "    \"next_rebalance_date\": smallcase[\"info\"][\"nextUpdate\"],\n",
    "    \"investment_strategies\": investment_strategies,\n",
    "    \"rebalance_frequency\": smallcase[\"info\"][\"rebalanceSchedule\"],\n",
    "}\n",
    "\n",
    "local_resp = requests.post(f\"{local_base_url}/smallcases/\", json=payload)\n",
    "local_resp.status_code == 201"
   ]
  },
  {
   "cell_type": "code",
   "execution_count": 287,
   "metadata": {},
   "outputs": [
    {
     "data": {
      "text/plain": [
       "True"
      ]
     },
     "execution_count": 287,
     "metadata": {},
     "output_type": "execute_result"
    }
   ],
   "source": [
    "year = \"2024\"\n",
    "month = \"05\"\n",
    "\n",
    "payload = {\n",
    "    \"year\": year,\n",
    "    \"month\": month,\n",
    "    \"min_sip_amount\": stats[\"minSipAmount\"],\n",
    "    \"investor_count\": stats[\"investorCount\"],\n",
    "    \"subscriber_count\": stats[\"subscriberCount\"],\n",
    "    \n",
    "    \"cagr\": {\n",
    "        \"one_year\": stats[\"ratios\"][\"cagr1y\"],\n",
    "        \"three_year\": stats[\"ratios\"][\"cagr3y\"],\n",
    "        \"five_year\": stats[\"ratios\"][\"cagr5y\"],\n",
    "    },\n",
    "    \"returns\": {\n",
    "        \"monthly\": stats[\"returns\"][\"monthly\"],\n",
    "        \"quarterly\": stats[\"returns\"][\"quarterly\"],\n",
    "        \"half_year\": stats[\"returns\"][\"halfyearly\"],\n",
    "        \"one_year\": stats[\"returns\"][\"yearly\"],\n",
    "        \"three_year\": stats[\"returns\"][\"threeYear\"],\n",
    "        \"five_year\": stats[\"returns\"][\"fiveYear\"],\n",
    "    },\n",
    "    \"ratios\": {\n",
    "        \"dividend_yield\": stats[\"ratios\"][\"divYield\"],\n",
    "        \"dividend_yield_differential\": stats[\"ratios\"][\"divYieldDifferential\"],\n",
    "\n",
    "        \"risk\": stats[\"ratios\"][\"risk\"],\n",
    "        \"pe\": stats[\"ratios\"][\"pe\"],\n",
    "        \"pb\": stats[\"ratios\"][\"pb\"],\n",
    "        \"beta\": stats[\"ratios\"][\"beta\"],\n",
    "        \"sharpe\": stats[\"ratios\"][\"sharpeRatio\"],\n",
    "    },\n",
    "    \"weightage\": {\n",
    "        \"large_cap\": stats[\"ratios\"][\"largeCapPercentage\"],\n",
    "        \"mid_cap\": stats[\"ratios\"][\"midCapPercentage\"],\n",
    "        \"small_cap\": stats[\"ratios\"][\"smallCapPercentage\"],\n",
    "        \"market_category\": stats[\"ratios\"][\"marketCapCategory\"]\n",
    "    }\n",
    "}\n",
    "\n",
    "local_resp = requests.post(f\"{local_base_url}/smallcases/{smallcase_id}/statistics/\", json=payload)\n",
    "local_resp.status_code == 201"
   ]
  },
  {
   "cell_type": "markdown",
   "metadata": {},
   "source": [
    "### Upload XLSX to bucket"
   ]
  },
  {
   "cell_type": "code",
   "execution_count": 288,
   "metadata": {},
   "outputs": [],
   "source": [
    "blob = bucket.blob(f\"smallcases/{smallcase_id}/timeline.xlsx\")\n",
    "blob.upload_from_filename(smallcase_sheet_path)"
   ]
  },
  {
   "cell_type": "markdown",
   "metadata": {},
   "source": [
    "### Map and POST Smallcase Name to Upstox Instruments"
   ]
  },
  {
   "cell_type": "code",
   "execution_count": 289,
   "metadata": {},
   "outputs": [
    {
     "data": {
      "text/plain": [
       "19"
      ]
     },
     "execution_count": 289,
     "metadata": {},
     "output_type": "execute_result"
    }
   ],
   "source": [
    "postable_constituents = constituents[\"Constituents\"].unique()\n",
    "len(postable_constituents)"
   ]
  },
  {
   "cell_type": "code",
   "execution_count": 290,
   "metadata": {},
   "outputs": [
    {
     "name": "stderr",
     "output_type": "stream",
     "text": [
      "/Library/Frameworks/Python.framework/Versions/3.11/lib/python3.11/site-packages/google/cloud/firestore_v1/base_collection.py:302: UserWarning: Detected filter using positional arguments. Prefer using the 'filter' keyword argument instead.\n",
      "  return query.where(field_path, op_string, value)\n",
      "/var/folders/4x/3kzzlsjs1q36v35r81960pt40000gn/T/ipykernel_57447/2676511566.py:5: UserWarning: Detected filter using positional arguments. Prefer using the 'filter' keyword argument instead.\n",
      "  return await db.collection(\"tickers\").where(\"name\", \">=\", name).where(\"name\", \"<=\", name + '\\uf8ff').get()\n"
     ]
    }
   ],
   "source": [
    "successful_constitents = []\n",
    "failed_constitents = []\n",
    "\n",
    "async def query_ticker_name(name: str):\n",
    "    return await db.collection(\"tickers\").where(\"name\", \">=\", name).where(\"name\", \"<=\", name + '\\uf8ff').get()\n",
    "\n",
    "for c in postable_constituents:\n",
    "    q = c.upper()\n",
    "    docs = await query_ticker_name(q)\n",
    "    if len(docs) == 0:\n",
    "        failed_constitents.append(c)\n",
    "    else:\n",
    "        for e in docs:\n",
    "            await db.collection(\"tickers\").document(e.id).update({\n",
    "                \"smallcase_name\": c\n",
    "            })\n",
    "            successful_constitents.append((c, e.id))"
   ]
  },
  {
   "cell_type": "code",
   "execution_count": 291,
   "metadata": {},
   "outputs": [
    {
     "data": {
      "text/plain": [
       "(4, 15)"
      ]
     },
     "execution_count": 291,
     "metadata": {},
     "output_type": "execute_result"
    }
   ],
   "source": [
    "len(successful_constitents), len(failed_constitents)"
   ]
  },
  {
   "cell_type": "code",
   "execution_count": 292,
   "metadata": {},
   "outputs": [
    {
     "name": "stderr",
     "output_type": "stream",
     "text": [
      "/var/folders/4x/3kzzlsjs1q36v35r81960pt40000gn/T/ipykernel_57447/2676511566.py:5: UserWarning: Detected filter using positional arguments. Prefer using the 'filter' keyword argument instead.\n",
      "  return await db.collection(\"tickers\").where(\"name\", \">=\", name).where(\"name\", \"<=\", name + '\\uf8ff').get()\n"
     ]
    }
   ],
   "source": [
    "# # All return upper\n",
    "\n",
    "def replace_ltd(s):\n",
    "    return s.upper().replace(\"LTD\", \"LIMITED\")\n",
    "\n",
    "# def replace_technologies(s):\n",
    "#     return s.upper().replace(\"TECHNOLOGIES\", \"TECHNO.\")\n",
    "\n",
    "# def replace_company(s):\n",
    "#     return s.upper().replace(\"COMPANY\", \"CO\")\n",
    "\n",
    "# def replace_corporation(s):\n",
    "#     return s.upper().replace(\"CORPORATION\", \"CORP\")\n",
    "\n",
    "# Ltd -> Limited\n",
    "for f in failed_constitents:\n",
    "    q = replace_ltd(f)\n",
    "    docs = await query_ticker_name(q)\n",
    "    if len(docs) != 0:\n",
    "        for e in docs:\n",
    "            await db.collection(\"tickers\").document(e.id).update({\n",
    "                \"smallcase_name\": f\n",
    "            })\n",
    "            successful_constitents.append((f, e.id))\n",
    "            failed_constitents.remove(f)"
   ]
  },
  {
   "cell_type": "code",
   "execution_count": 293,
   "metadata": {},
   "outputs": [
    {
     "data": {
      "text/plain": [
       "(8, 11)"
      ]
     },
     "execution_count": 293,
     "metadata": {},
     "output_type": "execute_result"
    }
   ],
   "source": [
    "len(successful_constitents), len(failed_constitents)"
   ]
  },
  {
   "cell_type": "code",
   "execution_count": 294,
   "metadata": {},
   "outputs": [
    {
     "data": {
      "text/html": [
       "<div>\n",
       "<style scoped>\n",
       "    .dataframe tbody tr th:only-of-type {\n",
       "        vertical-align: middle;\n",
       "    }\n",
       "\n",
       "    .dataframe tbody tr th {\n",
       "        vertical-align: top;\n",
       "    }\n",
       "\n",
       "    .dataframe thead th {\n",
       "        text-align: right;\n",
       "    }\n",
       "</style>\n",
       "<table border=\"1\" class=\"dataframe\">\n",
       "  <thead>\n",
       "    <tr style=\"text-align: right;\">\n",
       "      <th></th>\n",
       "      <th>instrument_key</th>\n",
       "      <th>exchange_token</th>\n",
       "      <th>tradingsymbol</th>\n",
       "      <th>name</th>\n",
       "      <th>last_price</th>\n",
       "      <th>expiry</th>\n",
       "      <th>strike</th>\n",
       "      <th>tick_size</th>\n",
       "      <th>lot_size</th>\n",
       "      <th>instrument_type</th>\n",
       "      <th>option_type</th>\n",
       "      <th>exchange</th>\n",
       "    </tr>\n",
       "  </thead>\n",
       "  <tbody>\n",
       "    <tr>\n",
       "      <th>77</th>\n",
       "      <td>NSE_EQ|DUMMYSAN005</td>\n",
       "      <td>14747.0</td>\n",
       "      <td>011NSETEST</td>\n",
       "      <td>011NSETEST</td>\n",
       "      <td>NaN</td>\n",
       "      <td>NaN</td>\n",
       "      <td>NaN</td>\n",
       "      <td>0.05</td>\n",
       "      <td>1.0</td>\n",
       "      <td>EQUITY</td>\n",
       "      <td>NaN</td>\n",
       "      <td>NSE_EQ</td>\n",
       "    </tr>\n",
       "    <tr>\n",
       "      <th>78</th>\n",
       "      <td>NSE_EQ|DUMMYSAN006</td>\n",
       "      <td>14751.0</td>\n",
       "      <td>021NSETEST</td>\n",
       "      <td>021NSETEST</td>\n",
       "      <td>NaN</td>\n",
       "      <td>NaN</td>\n",
       "      <td>NaN</td>\n",
       "      <td>0.05</td>\n",
       "      <td>1.0</td>\n",
       "      <td>EQUITY</td>\n",
       "      <td>NaN</td>\n",
       "      <td>NSE_EQ</td>\n",
       "    </tr>\n",
       "    <tr>\n",
       "      <th>79</th>\n",
       "      <td>NSE_EQ|DUMMYSAN007</td>\n",
       "      <td>14753.0</td>\n",
       "      <td>031NSETEST</td>\n",
       "      <td>031NSETEST</td>\n",
       "      <td>NaN</td>\n",
       "      <td>NaN</td>\n",
       "      <td>NaN</td>\n",
       "      <td>0.05</td>\n",
       "      <td>1.0</td>\n",
       "      <td>EQUITY</td>\n",
       "      <td>NaN</td>\n",
       "      <td>NSE_EQ</td>\n",
       "    </tr>\n",
       "    <tr>\n",
       "      <th>80</th>\n",
       "      <td>NSE_EQ|DUMMYSAN008</td>\n",
       "      <td>14755.0</td>\n",
       "      <td>041NSETEST</td>\n",
       "      <td>041NSETEST</td>\n",
       "      <td>NaN</td>\n",
       "      <td>NaN</td>\n",
       "      <td>NaN</td>\n",
       "      <td>0.05</td>\n",
       "      <td>1.0</td>\n",
       "      <td>EQUITY</td>\n",
       "      <td>NaN</td>\n",
       "      <td>NSE_EQ</td>\n",
       "    </tr>\n",
       "    <tr>\n",
       "      <th>81</th>\n",
       "      <td>NSE_EQ|DUMMYSAN009</td>\n",
       "      <td>14758.0</td>\n",
       "      <td>051NSETEST</td>\n",
       "      <td>051NSETEST</td>\n",
       "      <td>NaN</td>\n",
       "      <td>NaN</td>\n",
       "      <td>NaN</td>\n",
       "      <td>0.05</td>\n",
       "      <td>1.0</td>\n",
       "      <td>EQUITY</td>\n",
       "      <td>NaN</td>\n",
       "      <td>NSE_EQ</td>\n",
       "    </tr>\n",
       "  </tbody>\n",
       "</table>\n",
       "</div>"
      ],
      "text/plain": [
       "        instrument_key  exchange_token tradingsymbol        name  last_price  \\\n",
       "77  NSE_EQ|DUMMYSAN005         14747.0    011NSETEST  011NSETEST         NaN   \n",
       "78  NSE_EQ|DUMMYSAN006         14751.0    021NSETEST  021NSETEST         NaN   \n",
       "79  NSE_EQ|DUMMYSAN007         14753.0    031NSETEST  031NSETEST         NaN   \n",
       "80  NSE_EQ|DUMMYSAN008         14755.0    041NSETEST  041NSETEST         NaN   \n",
       "81  NSE_EQ|DUMMYSAN009         14758.0    051NSETEST  051NSETEST         NaN   \n",
       "\n",
       "   expiry  strike  tick_size  lot_size instrument_type option_type exchange  \n",
       "77    NaN     NaN       0.05       1.0          EQUITY         NaN   NSE_EQ  \n",
       "78    NaN     NaN       0.05       1.0          EQUITY         NaN   NSE_EQ  \n",
       "79    NaN     NaN       0.05       1.0          EQUITY         NaN   NSE_EQ  \n",
       "80    NaN     NaN       0.05       1.0          EQUITY         NaN   NSE_EQ  \n",
       "81    NaN     NaN       0.05       1.0          EQUITY         NaN   NSE_EQ  "
      ]
     },
     "execution_count": 294,
     "metadata": {},
     "output_type": "execute_result"
    }
   ],
   "source": [
    "nse = pd.read_csv(\"data/upstox/NSE.csv\")\n",
    "equities = nse.query('instrument_type == \"EQUITY\" and exchange == \"NSE_EQ\"')\n",
    "equities.head()"
   ]
  },
  {
   "cell_type": "code",
   "execution_count": 295,
   "metadata": {},
   "outputs": [
    {
     "data": {
      "text/html": [
       "<div>\n",
       "<style scoped>\n",
       "    .dataframe tbody tr th:only-of-type {\n",
       "        vertical-align: middle;\n",
       "    }\n",
       "\n",
       "    .dataframe tbody tr th {\n",
       "        vertical-align: top;\n",
       "    }\n",
       "\n",
       "    .dataframe thead th {\n",
       "        text-align: right;\n",
       "    }\n",
       "</style>\n",
       "<table border=\"1\" class=\"dataframe\">\n",
       "  <thead>\n",
       "    <tr style=\"text-align: right;\">\n",
       "      <th></th>\n",
       "      <th>name</th>\n",
       "      <th>exchange_token</th>\n",
       "      <th>similarity</th>\n",
       "      <th>smallcase_name</th>\n",
       "    </tr>\n",
       "  </thead>\n",
       "  <tbody>\n",
       "    <tr>\n",
       "      <th>0</th>\n",
       "      <td>DLF LIMITED</td>\n",
       "      <td>14732.0</td>\n",
       "      <td>0.777778</td>\n",
       "      <td>DLF Ltd</td>\n",
       "    </tr>\n",
       "    <tr>\n",
       "      <th>1</th>\n",
       "      <td>HOUSING DEV &amp; INFRA LTD</td>\n",
       "      <td>17920.0</td>\n",
       "      <td>0.676923</td>\n",
       "      <td>Housing Development and Infrastructure Ltd</td>\n",
       "    </tr>\n",
       "    <tr>\n",
       "      <th>2</th>\n",
       "      <td>INDIABULLS REAL EST. LTD</td>\n",
       "      <td>14450.0</td>\n",
       "      <td>0.920000</td>\n",
       "      <td>Indiabulls Real Estate Ltd</td>\n",
       "    </tr>\n",
       "    <tr>\n",
       "      <th>3</th>\n",
       "      <td>THE PHOENIX MILLS LTD</td>\n",
       "      <td>14552.0</td>\n",
       "      <td>0.894737</td>\n",
       "      <td>Phoenix Mills Ltd</td>\n",
       "    </tr>\n",
       "    <tr>\n",
       "      <th>4</th>\n",
       "      <td>PRESTIGE ESTATE LTD</td>\n",
       "      <td>20302.0</td>\n",
       "      <td>0.791667</td>\n",
       "      <td>Prestige Estates Projects Ltd</td>\n",
       "    </tr>\n",
       "    <tr>\n",
       "      <th>5</th>\n",
       "      <td>UNITECH LIMITED</td>\n",
       "      <td>8893.0</td>\n",
       "      <td>0.846154</td>\n",
       "      <td>Unitech Ltd</td>\n",
       "    </tr>\n",
       "    <tr>\n",
       "      <th>6</th>\n",
       "      <td>BRIGADE ENTER. LTD</td>\n",
       "      <td>15184.0</td>\n",
       "      <td>0.829268</td>\n",
       "      <td>Brigade Enterprises Ltd</td>\n",
       "    </tr>\n",
       "    <tr>\n",
       "      <th>7</th>\n",
       "      <td>PURAVANKARA LIMITED</td>\n",
       "      <td>14926.0</td>\n",
       "      <td>0.882353</td>\n",
       "      <td>Puravankara Ltd</td>\n",
       "    </tr>\n",
       "    <tr>\n",
       "      <th>8</th>\n",
       "      <td>MAHINDRA LIFESPACE DEVLTD</td>\n",
       "      <td>8050.0</td>\n",
       "      <td>0.862069</td>\n",
       "      <td>Mahindra Lifespace Developers Ltd</td>\n",
       "    </tr>\n",
       "    <tr>\n",
       "      <th>9</th>\n",
       "      <td>KOLTE PATIL DEV. LTD.</td>\n",
       "      <td>15124.0</td>\n",
       "      <td>0.765957</td>\n",
       "      <td>Kolte-Patil Developers Ltd</td>\n",
       "    </tr>\n",
       "    <tr>\n",
       "      <th>10</th>\n",
       "      <td>MINDSPACE BUSINESS P REIT</td>\n",
       "      <td>22308.0</td>\n",
       "      <td>0.925926</td>\n",
       "      <td>Mindspace Business Parks REIT</td>\n",
       "    </tr>\n",
       "  </tbody>\n",
       "</table>\n",
       "</div>"
      ],
      "text/plain": [
       "                         name  exchange_token  similarity  \\\n",
       "0                 DLF LIMITED         14732.0    0.777778   \n",
       "1     HOUSING DEV & INFRA LTD         17920.0    0.676923   \n",
       "2    INDIABULLS REAL EST. LTD         14450.0    0.920000   \n",
       "3       THE PHOENIX MILLS LTD         14552.0    0.894737   \n",
       "4         PRESTIGE ESTATE LTD         20302.0    0.791667   \n",
       "5             UNITECH LIMITED          8893.0    0.846154   \n",
       "6          BRIGADE ENTER. LTD         15184.0    0.829268   \n",
       "7         PURAVANKARA LIMITED         14926.0    0.882353   \n",
       "8   MAHINDRA LIFESPACE DEVLTD          8050.0    0.862069   \n",
       "9       KOLTE PATIL DEV. LTD.         15124.0    0.765957   \n",
       "10  MINDSPACE BUSINESS P REIT         22308.0    0.925926   \n",
       "\n",
       "                                smallcase_name  \n",
       "0                                      DLF Ltd  \n",
       "1   Housing Development and Infrastructure Ltd  \n",
       "2                   Indiabulls Real Estate Ltd  \n",
       "3                            Phoenix Mills Ltd  \n",
       "4                Prestige Estates Projects Ltd  \n",
       "5                                  Unitech Ltd  \n",
       "6                      Brigade Enterprises Ltd  \n",
       "7                              Puravankara Ltd  \n",
       "8            Mahindra Lifespace Developers Ltd  \n",
       "9                   Kolte-Patil Developers Ltd  \n",
       "10               Mindspace Business Parks REIT  "
      ]
     },
     "execution_count": 295,
     "metadata": {},
     "output_type": "execute_result"
    }
   ],
   "source": [
    "import difflib\n",
    "df = equities.filter(['name', \"exchange_token\"])\n",
    "tickers = pd.DataFrame() \n",
    "r = {}\n",
    "for f in failed_constitents:\n",
    "    df['similarity'] = df[\"name\"].apply(lambda x: difflib.SequenceMatcher(None, x.lower(), f.lower()).ratio())\n",
    "        \n",
    "    top_match = df.sort_values(by='similarity', ascending=False).head(1)\n",
    "    top_match['smallcase_name'] = f\n",
    "        \n",
    "    tickers = pd.concat([tickers, top_match], ignore_index=True)\n",
    "\n",
    "tickers"
   ]
  },
  {
   "cell_type": "code",
   "execution_count": 296,
   "metadata": {},
   "outputs": [],
   "source": [
    "# incorrect = [0, 1, 7, 10, 24, 26]\n",
    "# corrections = {\n",
    "#     \"7\": \"11782\",\n",
    "#     \"26\": \"15034\"\n",
    "# }\n",
    "\n",
    "# cannot_correct = len(incorrect) - len(corrections)\n",
    "# for i in incorrect:\n",
    "#     n = tickers.iloc[i][\"smallcase_name\"]\n",
    "#     correct_token = corrections.get(str(i), None)\n",
    "#     if correct_token:\n",
    "#         correct = equities.query(f\"exchange_token == {correct_token}\").iloc[0]\n",
    "#         tickers.loc[i, ['exchange_token', 'name', 'similarity']] = [correct_token, correct['name'], 1.0]\n",
    "\n",
    "# for i in incorrect:\n",
    "#     correct_token = corrections.get(str(i), None)\n",
    "#     if not correct_token:\n",
    "#         tickers.drop(i, inplace=True)\n",
    "# cannot_correct, tickers.shape"
   ]
  },
  {
   "cell_type": "markdown",
   "metadata": {},
   "source": [
    "2, 15 for Safe Haven do not exist (Polaris Consulting & Monsanto were merged w other companies).\n",
    "Trade-off -> \n",
    "\n",
    "We cannot fetch market data for these stocks, so we do not add them to the equities list.\n",
    "When rebalancing for Kelly, we will ignore these stocks, maintaining their original weightage and assess the implications."
   ]
  },
  {
   "cell_type": "code",
   "execution_count": 297,
   "metadata": {},
   "outputs": [],
   "source": [
    "payload = tickers[['exchange_token', 'smallcase_name']].to_dict(orient='records')\n",
    "for p in payload:\n",
    "    id = str(int(p['exchange_token']))\n",
    "    await db.document(f\"tickers/{id}\").update({\"smallcase_name\": p[\"smallcase_name\"]})\n",
    "    successful_constitents.append((p[\"smallcase_name\"], id))"
   ]
  },
  {
   "cell_type": "code",
   "execution_count": 298,
   "metadata": {},
   "outputs": [
    {
     "data": {
      "text/plain": [
       "(19, True)"
      ]
     },
     "execution_count": 298,
     "metadata": {},
     "output_type": "execute_result"
    }
   ],
   "source": [
    "\n",
    "len(successful_constitents), len(successful_constitents) == (len(postable_constituents) - 0)"
   ]
  },
  {
   "cell_type": "markdown",
   "metadata": {},
   "source": [
    "All Weather = 5\n",
    "\n",
    "Safe Haven = 73\n",
    "\n",
    "Growth & Income = 102 (~10 corrections)\n",
    "\n",
    "The Naked Trader = 115 (~12 corrections)\n",
    "\n",
    "The PE List = 37 (7 corrections, 3 possible)\n",
    "\n",
    "Dividend Stars = 38\n",
    "\n",
    "Dividend Aristocrats = 31 (3 corrections, 2 possible)\n",
    "\n",
    "Electric Mobility = 29 (1 correction)\n",
    "\n",
    "Rising Rural Demand = 52 (6 corrections, 4 possible)\n",
    "\n",
    "The House of Tata = 11\n",
    "\n",
    "The House of Murugappa = 5\n",
    "\n",
    "Realty Tracker = 19\n",
    "\n",
    "\n",
    "**517 total, 347 unique (after querying db)**"
   ]
  },
  {
   "cell_type": "markdown",
   "metadata": {},
   "source": [
    "### POST Smallcase Constituents"
   ]
  },
  {
   "cell_type": "code",
   "execution_count": 115,
   "metadata": {},
   "outputs": [],
   "source": [
    "def get_constituent_payload(name: str, weight: float):\n",
    "    return {\n",
    "        \"smallcase_name\": name,\n",
    "        \"original_weightage\": weight\n",
    "    }"
   ]
  },
  {
   "cell_type": "code",
   "execution_count": 120,
   "metadata": {},
   "outputs": [
    {
     "name": "stderr",
     "output_type": "stream",
     "text": [
      "/var/folders/4x/3kzzlsjs1q36v35r81960pt40000gn/T/ipykernel_53960/3640253601.py:1: FutureWarning: DataFrame.fillna with 'method' is deprecated and will raise in a future version. Use obj.ffill() or obj.bfill() instead.\n",
      "  constituents_group = constituents.fillna(method='ffill').groupby(\"Date Range\").apply(lambda x:[get_constituent_payload(row[\"Constituents\"], row[\"Weightage\"]) for i, row in x.iterrows()]).reset_index(name='Constituents')\n",
      "/var/folders/4x/3kzzlsjs1q36v35r81960pt40000gn/T/ipykernel_53960/3640253601.py:1: DeprecationWarning: DataFrameGroupBy.apply operated on the grouping columns. This behavior is deprecated, and in a future version of pandas the grouping columns will be excluded from the operation. Either pass `include_groups=False` to exclude the groupings or explicitly select the grouping columns after groupby to silence this warning.\n",
      "  constituents_group = constituents.fillna(method='ffill').groupby(\"Date Range\").apply(lambda x:[get_constituent_payload(row[\"Constituents\"], row[\"Weightage\"]) for i, row in x.iterrows()]).reset_index(name='Constituents')\n"
     ]
    },
    {
     "data": {
      "text/html": [
       "<div>\n",
       "<style scoped>\n",
       "    .dataframe tbody tr th:only-of-type {\n",
       "        vertical-align: middle;\n",
       "    }\n",
       "\n",
       "    .dataframe tbody tr th {\n",
       "        vertical-align: top;\n",
       "    }\n",
       "\n",
       "    .dataframe thead th {\n",
       "        text-align: right;\n",
       "    }\n",
       "</style>\n",
       "<table border=\"1\" class=\"dataframe\">\n",
       "  <thead>\n",
       "    <tr style=\"text-align: right;\">\n",
       "      <th></th>\n",
       "      <th>Date Range</th>\n",
       "      <th>Constituents</th>\n",
       "    </tr>\n",
       "  </thead>\n",
       "  <tbody>\n",
       "    <tr>\n",
       "      <th>0</th>\n",
       "      <td>2016-04-04 to 2016-05-31</td>\n",
       "      <td>[{'smallcase_name': 'Delta Corp Ltd', 'origina...</td>\n",
       "    </tr>\n",
       "    <tr>\n",
       "      <th>1</th>\n",
       "      <td>2016-06-01 to 2016-08-31</td>\n",
       "      <td>[{'smallcase_name': 'Delta Corp Ltd', 'origina...</td>\n",
       "    </tr>\n",
       "    <tr>\n",
       "      <th>2</th>\n",
       "      <td>2016-09-01 to 2016-11-30</td>\n",
       "      <td>[{'smallcase_name': 'Delta Corp Ltd', 'origina...</td>\n",
       "    </tr>\n",
       "    <tr>\n",
       "      <th>3</th>\n",
       "      <td>2016-12-01 to 2017-02-28</td>\n",
       "      <td>[{'smallcase_name': 'DLF Ltd', 'original_weigh...</td>\n",
       "    </tr>\n",
       "    <tr>\n",
       "      <th>4</th>\n",
       "      <td>2017-03-01 to 2017-05-31</td>\n",
       "      <td>[{'smallcase_name': 'DLF Ltd', 'original_weigh...</td>\n",
       "    </tr>\n",
       "  </tbody>\n",
       "</table>\n",
       "</div>"
      ],
      "text/plain": [
       "                 Date Range                                       Constituents\n",
       "0  2016-04-04 to 2016-05-31  [{'smallcase_name': 'Delta Corp Ltd', 'origina...\n",
       "1  2016-06-01 to 2016-08-31  [{'smallcase_name': 'Delta Corp Ltd', 'origina...\n",
       "2  2016-09-01 to 2016-11-30  [{'smallcase_name': 'Delta Corp Ltd', 'origina...\n",
       "3  2016-12-01 to 2017-02-28  [{'smallcase_name': 'DLF Ltd', 'original_weigh...\n",
       "4  2017-03-01 to 2017-05-31  [{'smallcase_name': 'DLF Ltd', 'original_weigh..."
      ]
     },
     "execution_count": 120,
     "metadata": {},
     "output_type": "execute_result"
    }
   ],
   "source": [
    "constituents_group = constituents.fillna(method='ffill').groupby(\"Date Range\").apply(lambda x:[get_constituent_payload(row[\"Constituents\"], row[\"Weightage\"]) for i, row in x.iterrows()]).reset_index(name='Constituents')\n",
    "constituents_group.head()"
   ]
  },
  {
   "cell_type": "code",
   "execution_count": 121,
   "metadata": {},
   "outputs": [
    {
     "name": "stdout",
     "output_type": "stream",
     "text": [
      "Success: 33, Failed: 0\n"
     ]
    }
   ],
   "source": [
    "s, f = 0, 0\n",
    "failed = []\n",
    "for i, row in constituents_group.iterrows():\n",
    "    start_date, end_date = row[\"Date Range\"].split(\" to \")\n",
    "    payload = {\n",
    "        \"start_date\": start_date,\n",
    "        \"end_date\": end_date,\n",
    "        \"constituents\": row[\"Constituents\"]\n",
    "    }\n",
    "\n",
    "    resp = requests.post(f\"{local_base_url}/smallcases/{smallcase_id}/constituents\", json=payload)\n",
    "    if resp.status_code == 201:\n",
    "        s += 1\n",
    "    else:\n",
    "        f += 1\n",
    "        print(resp.json())\n",
    "        failed.append(row)\n",
    "\n",
    "print(f\"Success: {s}, Failed: {f}\")"
   ]
  },
  {
   "cell_type": "markdown",
   "metadata": {},
   "source": [
    "Smallcase - Unique date ranges successful, failed\n",
    "\n",
    "All Weather - 25, 0\n",
    "\n",
    "Safe Haven - 33, 0\n",
    "\n",
    "Growth & Income - 31, 0\n",
    "\n",
    "The Naked Trader - 32, 0\n",
    "\n",
    "The PE List - 9, 0\n",
    "\n",
    "Dividend Stars - 12, 0\n",
    "\n",
    "Dividend Aristorcrats - 12, 0\n",
    "\n",
    "Electric Mobility - 27, 0\n",
    "\n",
    "Rising Rural Demand - 33, 0\n",
    "\n",
    "House of Tata - 14, 0\n",
    "\n",
    "House of Murugappa - 8, 0\n",
    "\n",
    "Realty Tracker - 33, 0"
   ]
  },
  {
   "cell_type": "code",
   "execution_count": 7,
   "metadata": {},
   "outputs": [
    {
     "name": "stderr",
     "output_type": "stream",
     "text": [
      "/Users/aaryanpagar/Library/Python/3.11/lib/python/site-packages/google/api_core/retry/retry_unary.py:146: UserWarning: Using the synchronous google.api_core.retry.Retry with asynchronous calls may lead to unexpected results. Please use google.api_core.retry_async.AsyncRetry instead.\n",
      "  warnings.warn(_ASYNC_RETRY_WARNING)\n"
     ]
    }
   ],
   "source": [
    "for smallcase in ids[0:1]:\n",
    "    id = smallcase[\"id\"]\n",
    "    file_path = f\"smallcases/{id}/pfp.png\"\n",
    "    file = bucket.blob(file_path)\n",
    "    await db.document(f\"smallcases/{id}\").update({\"pfp_url\": file.public_url})"
   ]
  },
  {
   "cell_type": "code",
   "execution_count": null,
   "metadata": {},
   "outputs": [],
   "source": []
  }
 ],
 "metadata": {
  "kernelspec": {
   "display_name": "Python 3",
   "language": "python",
   "name": "python3"
  },
  "language_info": {
   "codemirror_mode": {
    "name": "ipython",
    "version": 3
   },
   "file_extension": ".py",
   "mimetype": "text/x-python",
   "name": "python",
   "nbconvert_exporter": "python",
   "pygments_lexer": "ipython3",
   "version": "3.11.1"
  }
 },
 "nbformat": 4,
 "nbformat_minor": 2
}
