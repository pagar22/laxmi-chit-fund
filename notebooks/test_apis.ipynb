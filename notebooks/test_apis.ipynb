{
 "cells": [
  {
   "cell_type": "code",
   "execution_count": 59,
   "metadata": {},
   "outputs": [],
   "source": [
    "import requests\n",
    "base_url = 'http://localhost:7999'"
   ]
  },
  {
   "cell_type": "code",
   "execution_count": 60,
   "metadata": {},
   "outputs": [
    {
     "data": {
      "text/plain": [
       "{'data': 'pong!'}"
      ]
     },
     "execution_count": 60,
     "metadata": {},
     "output_type": "execute_result"
    }
   ],
   "source": [
    "class Session(requests.Session):\n",
    "    def __init__(self, *args, **kwargs):\n",
    "        super().__init__(*args, **kwargs)\n",
    "        self.headers.update({'Content-Type': 'application/json'})\n",
    "    \n",
    "    def get(self, url, *args, **kwargs):\n",
    "        return super().get(base_url + url, *args, **kwargs)\n",
    "    \n",
    "    def post(self, url, *args, **kwargs):\n",
    "        return super().post(base_url + url, *args, **kwargs)\n",
    "    \n",
    "    def patch(self, url, *args, **kwargs):\n",
    "        return super().patch(base_url + url, *args, **kwargs)\n",
    "    \n",
    "    def delete(self, url, *args, **kwargs):\n",
    "        return super().delete(base_url + url, *args, **kwargs)\n",
    "\n",
    "client = Session()\n",
    "resp = client.get(\"/ping\")\n",
    "resp.json()"
   ]
  },
  {
   "cell_type": "code",
   "execution_count": 54,
   "metadata": {},
   "outputs": [],
   "source": [
    "# import os\n",
    "# import sys\n",
    "\n",
    "# backend_path = os.path.abspath(os.path.join(os.getcwd(), '../../backend'))\n",
    "# sys.path.append(backend_path)\n",
    "# from app.internal.firebase import db"
   ]
  },
  {
   "cell_type": "code",
   "execution_count": 53,
   "metadata": {},
   "outputs": [
    {
     "name": "stdout",
     "output_type": "stream",
     "text": [
      "NIP IND ETF JUNIOR BEES\n",
      "{'created_at': '2024-05-05T12:20:40.104545Z', 'exchange': 'NSE', 'lot_size': 1, 'upstox_instrument_key': 'NSE_EQ|INF732E01045', 'exchange_token': 10939, 'updated_at': '2024-05-05T12:20:40.104547Z', 'ticker': 'JUNIORBEES', 'instrument_type': 'EQUITY', 'name': 'NIP IND ETF JUNIOR BEES'}\n",
      "[<google.cloud.firestore_v1.base_document.DocumentSnapshot object at 0x105fdc6d0>]\n"
     ]
    },
    {
     "name": "stderr",
     "output_type": "stream",
     "text": [
      "/var/folders/lq/280gf8ld14v161g6ngpdjjnc0000gn/T/ipykernel_8262/3214706254.py:5: UserWarning: Detected filter using positional arguments. Prefer using the 'filter' keyword argument instead.\n",
      "  docs = await db.collection(\"tickers\").where(\"name\", \">=\", query).where(\"name\", \"<=\", query + '\\uf8ff').get()\n"
     ]
    }
   ],
   "source": [
    "query = \"Nip IND ETF Junior BeES\".upper()\n",
    "print(query)\n",
    "\n",
    "\n",
    "docs = await db.collection(\"tickers\").where(\"name\", \">=\", query).where(\"name\", \"<=\", query + '\\uf8ff').get()\n",
    "# doc = await db.collection(\"tickers\").where(\"ticker\", \"<=\", query).where(\"ticker\", \">=\", query + \"~\").get()\n",
    "\n",
    "if docs:\n",
    "    print(docs[0].to_dict())\n",
    "\n",
    "print(docs)"
   ]
  },
  {
   "cell_type": "code",
   "execution_count": 61,
   "metadata": {},
   "outputs": [
    {
     "name": "stdout",
     "output_type": "stream",
     "text": [
      "2024-05-05\n"
     ]
    }
   ],
   "source": [
    "from datetime import datetime\n",
    "date = datetime.now()\n",
    "print(date.strftime(\"%Y-%m-%d\"))"
   ]
  },
  {
   "cell_type": "code",
   "execution_count": 62,
   "metadata": {},
   "outputs": [],
   "source": [
    "def format_date_path(date: datetime) -> str:\n",
    "    return date.strftime(\"%Y-%m-%d\")"
   ]
  },
  {
   "cell_type": "code",
   "execution_count": 5,
   "metadata": {},
   "outputs": [
    {
     "name": "stderr",
     "output_type": "stream",
     "text": [
      "/var/folders/lq/280gf8ld14v161g6ngpdjjnc0000gn/T/ipykernel_52500/2471255407.py:31: PydanticDeprecatedSince20: Pydantic V1 style `@validator` validators are deprecated. You should migrate to Pydantic V2 style `@field_validator` validators, see the migration guide for more details. Deprecated in Pydantic V2.0 to be removed in V3.0. See Pydantic V2 Migration Guide at https://errors.pydantic.dev/2.6/migration/\n",
      "  @validator(\"daily\", pre=True, allow_reuse=True)\n"
     ]
    }
   ],
   "source": [
    "from datetime import datetime\n",
    "from typing import Dict, Optional, Annotated\n",
    "from pydantic import BaseModel, Field, validator, StringConstraints\n",
    "\n",
    "def format_date_path(date: datetime) -> str:\n",
    "    try:\n",
    "        return date.strftime(\"%Y-%m-%d\")\n",
    "    except:\n",
    "        raise ValueError(f\"Invalid date format {date}\")\n",
    "        \n",
    "def validate_date_path(date: str):\n",
    "    try:\n",
    "        datetime.strptime(date, \"%Y-%m-%d\")\n",
    "    except:\n",
    "        raise ValueError(f\"Invalid date format {date}\")\n",
    "\n",
    "class CandleBase(BaseModel):\n",
    "    open: float\n",
    "    high: float\n",
    "    low: float\n",
    "    close: float\n",
    "    volume: int\n",
    "    open_interest: Optional[int] = None\n",
    "\n",
    "class MonthlyCandleBase(BaseModel):\n",
    "    month: Annotated[str, StringConstraints(pattern=r\"^(0[1-9]|1[0-2])$\")]\n",
    "    year: Annotated[str, StringConstraints(pattern=r\"^(19\\d{2}|20\\d{2})$\")]\n",
    "    daily: Dict[str, CandleBase] = Field(default_factory=dict)\n",
    "    monthly: Optional[CandleBase] = None\n",
    "\n",
    "    @validator(\"daily\", pre=True, allow_reuse=True)\n",
    "    def validate_daily(cls, v):\n",
    "        for key in v:\n",
    "            validate_date_path(key)\n",
    "        return v"
   ]
  },
  {
   "cell_type": "code",
   "execution_count": 8,
   "metadata": {},
   "outputs": [
    {
     "ename": "ValidationError",
     "evalue": "1 validation error for MonthlyCandleBase\ndaily\n  Value error, Invalid date format 2022-01-002 [type=value_error, input_value={'2021-01-01': {'open': 1...se': 90, 'volume': 800}}, input_type=dict]\n    For further information visit https://errors.pydantic.dev/2.6/v/value_error",
     "output_type": "error",
     "traceback": [
      "\u001b[0;31m---------------------------------------------------------------------------\u001b[0m",
      "\u001b[0;31mValidationError\u001b[0m                           Traceback (most recent call last)",
      "Cell \u001b[0;32mIn[8], line 31\u001b[0m\n\u001b[1;32m      1\u001b[0m date \u001b[38;5;241m=\u001b[39m \u001b[38;5;124m\"\u001b[39m\u001b[38;5;124m2021-01-01\u001b[39m\u001b[38;5;124m\"\u001b[39m\n\u001b[1;32m      4\u001b[0m payload \u001b[38;5;241m=\u001b[39m {\n\u001b[1;32m      5\u001b[0m     \u001b[38;5;124m\"\u001b[39m\u001b[38;5;124mmonth\u001b[39m\u001b[38;5;124m\"\u001b[39m: \u001b[38;5;124m\"\u001b[39m\u001b[38;5;124m01\u001b[39m\u001b[38;5;124m\"\u001b[39m,\n\u001b[1;32m      6\u001b[0m     \u001b[38;5;124m\"\u001b[39m\u001b[38;5;124myear\u001b[39m\u001b[38;5;124m\"\u001b[39m: \u001b[38;5;124m\"\u001b[39m\u001b[38;5;124m2021\u001b[39m\u001b[38;5;124m\"\u001b[39m,\n\u001b[0;32m   (...)\u001b[0m\n\u001b[1;32m     29\u001b[0m     }\n\u001b[1;32m     30\u001b[0m }\n\u001b[0;32m---> 31\u001b[0m candle \u001b[38;5;241m=\u001b[39m \u001b[43mMonthlyCandleBase\u001b[49m\u001b[43m(\u001b[49m\u001b[38;5;241;43m*\u001b[39;49m\u001b[38;5;241;43m*\u001b[39;49m\u001b[43mpayload\u001b[49m\u001b[43m)\u001b[49m\n\u001b[1;32m     32\u001b[0m candle\n",
      "File \u001b[0;32m/Library/Frameworks/Python.framework/Versions/3.11/lib/python3.11/site-packages/pydantic/main.py:171\u001b[0m, in \u001b[0;36mBaseModel.__init__\u001b[0;34m(self, **data)\u001b[0m\n\u001b[1;32m    169\u001b[0m \u001b[38;5;66;03m# `__tracebackhide__` tells pytest and some other tools to omit this function from tracebacks\u001b[39;00m\n\u001b[1;32m    170\u001b[0m __tracebackhide__ \u001b[38;5;241m=\u001b[39m \u001b[38;5;28;01mTrue\u001b[39;00m\n\u001b[0;32m--> 171\u001b[0m \u001b[38;5;28;43mself\u001b[39;49m\u001b[38;5;241;43m.\u001b[39;49m\u001b[43m__pydantic_validator__\u001b[49m\u001b[38;5;241;43m.\u001b[39;49m\u001b[43mvalidate_python\u001b[49m\u001b[43m(\u001b[49m\u001b[43mdata\u001b[49m\u001b[43m,\u001b[49m\u001b[43m \u001b[49m\u001b[43mself_instance\u001b[49m\u001b[38;5;241;43m=\u001b[39;49m\u001b[38;5;28;43mself\u001b[39;49m\u001b[43m)\u001b[49m\n",
      "\u001b[0;31mValidationError\u001b[0m: 1 validation error for MonthlyCandleBase\ndaily\n  Value error, Invalid date format 2022-01-002 [type=value_error, input_value={'2021-01-01': {'open': 1...se': 90, 'volume': 800}}, input_type=dict]\n    For further information visit https://errors.pydantic.dev/2.6/v/value_error"
     ]
    }
   ],
   "source": [
    "date = \"2021-01-01\"\n",
    "\n",
    "\n",
    "payload = {\n",
    "    \"month\": \"01\",\n",
    "    \"year\": \"2021\",\n",
    "    \"daily\": {\n",
    "        \"2021-01-01\": {\n",
    "            \"open\": 100,\n",
    "            \"high\": 110,\n",
    "            \"low\": 90,\n",
    "            \"close\": 100,\n",
    "            \"volume\": 1000\n",
    "        },\n",
    "        \"2022-01-002\": {\n",
    "        \"open\": 100,\n",
    "        \"high\": 120,\n",
    "        \"low\": 80,\n",
    "        \"close\": 90,\n",
    "        \"volume\": 800\n",
    "        }\n",
    "    },\n",
    "    \"monthly\": {\n",
    "        \"open\": 100,\n",
    "        \"high\": 110,\n",
    "        \"low\": 90,\n",
    "        \"close\": 100,\n",
    "        \"volume\": 1000\n",
    "    }\n",
    "}\n",
    "candle = MonthlyCandleBase(**payload)\n",
    "candle"
   ]
  },
  {
   "cell_type": "code",
   "execution_count": null,
   "metadata": {},
   "outputs": [],
   "source": []
  }
 ],
 "metadata": {
  "kernelspec": {
   "display_name": "Python 3",
   "language": "python",
   "name": "python3"
  },
  "language_info": {
   "codemirror_mode": {
    "name": "ipython",
    "version": 3
   },
   "file_extension": ".py",
   "mimetype": "text/x-python",
   "name": "python",
   "nbconvert_exporter": "python",
   "pygments_lexer": "ipython3",
   "version": "3.11.1"
  }
 },
 "nbformat": 4,
 "nbformat_minor": 2
}
