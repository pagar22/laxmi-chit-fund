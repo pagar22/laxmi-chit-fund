{
 "cells": [
  {
   "cell_type": "code",
   "execution_count": 23,
   "metadata": {},
   "outputs": [],
   "source": [
    "# import os\n",
    "# print(os.path.join(os.path.dirname(os.getcwd()), 'backend'))\n",
    "\n",
    "import os\n",
    "import sys\n",
    "\n",
    "backend_path = os.path.abspath(os.path.join(os.getcwd(), '../../backend'))\n",
    "sys.path.append(backend_path)"
   ]
  },
  {
   "cell_type": "code",
   "execution_count": 24,
   "metadata": {},
   "outputs": [],
   "source": [
    "from app.internal.firebase import db"
   ]
  },
  {
   "cell_type": "code",
   "execution_count": 53,
   "metadata": {},
   "outputs": [
    {
     "name": "stdout",
     "output_type": "stream",
     "text": [
      "NIP IND ETF JUNIOR BEES\n",
      "{'created_at': '2024-05-05T12:20:40.104545Z', 'exchange': 'NSE', 'lot_size': 1, 'upstox_instrument_key': 'NSE_EQ|INF732E01045', 'exchange_token': 10939, 'updated_at': '2024-05-05T12:20:40.104547Z', 'ticker': 'JUNIORBEES', 'instrument_type': 'EQUITY', 'name': 'NIP IND ETF JUNIOR BEES'}\n",
      "[<google.cloud.firestore_v1.base_document.DocumentSnapshot object at 0x105fdc6d0>]\n"
     ]
    },
    {
     "name": "stderr",
     "output_type": "stream",
     "text": [
      "/var/folders/lq/280gf8ld14v161g6ngpdjjnc0000gn/T/ipykernel_8262/3214706254.py:5: UserWarning: Detected filter using positional arguments. Prefer using the 'filter' keyword argument instead.\n",
      "  docs = await db.collection(\"tickers\").where(\"name\", \">=\", query).where(\"name\", \"<=\", query + '\\uf8ff').get()\n"
     ]
    }
   ],
   "source": [
    "query = \"Nip IND ETF Junior BeES\".upper()\n",
    "print(query)\n",
    "\n",
    "\n",
    "docs = await db.collection(\"tickers\").where(\"name\", \">=\", query).where(\"name\", \"<=\", query + '\\uf8ff').get()\n",
    "# doc = await db.collection(\"tickers\").where(\"ticker\", \"<=\", query).where(\"ticker\", \">=\", query + \"~\").get()\n",
    "\n",
    "if docs:\n",
    "    print(docs[0].to_dict())\n",
    "\n",
    "print(docs)"
   ]
  },
  {
   "cell_type": "code",
   "execution_count": null,
   "metadata": {},
   "outputs": [],
   "source": []
  }
 ],
 "metadata": {
  "kernelspec": {
   "display_name": "Python 3",
   "language": "python",
   "name": "python3"
  },
  "language_info": {
   "codemirror_mode": {
    "name": "ipython",
    "version": 3
   },
   "file_extension": ".py",
   "mimetype": "text/x-python",
   "name": "python",
   "nbconvert_exporter": "python",
   "pygments_lexer": "ipython3",
   "version": "3.11.1"
  }
 },
 "nbformat": 4,
 "nbformat_minor": 2
}
