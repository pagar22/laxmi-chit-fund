{
 "cells": [
  {
   "cell_type": "code",
   "execution_count": 4,
   "metadata": {},
   "outputs": [],
   "source": [
    "import requests\n",
    "base_url = 'http://localhost:2000'"
   ]
  },
  {
   "cell_type": "code",
   "execution_count": 5,
   "metadata": {},
   "outputs": [
    {
     "data": {
      "text/plain": [
       "{'message': 'pong!'}"
      ]
     },
     "execution_count": 5,
     "metadata": {},
     "output_type": "execute_result"
    }
   ],
   "source": [
    "class Session(requests.Session):\n",
    "    def __init__(self, *args, **kwargs):\n",
    "        super().__init__(*args, **kwargs)\n",
    "        self.headers.update({'Content-Type': 'application/json'})\n",
    "    \n",
    "    def get(self, url, *args, **kwargs):\n",
    "        return super().get(base_url + url, *args, **kwargs)\n",
    "    \n",
    "    def post(self, url, *args, **kwargs):\n",
    "        return super().post(base_url + url, *args, **kwargs)\n",
    "    \n",
    "    def patch(self, url, *args, **kwargs):\n",
    "        return super().patch(base_url + url, *args, **kwargs)\n",
    "    \n",
    "    def delete(self, url, *args, **kwargs):\n",
    "        return super().delete(base_url + url, *args, **kwargs)\n",
    "\n",
    "client = Session()\n",
    "resp = client.get(\"/ping\")\n",
    "resp.json()"
   ]
  },
  {
   "cell_type": "code",
   "execution_count": 6,
   "metadata": {},
   "outputs": [
    {
     "name": "stderr",
     "output_type": "stream",
     "text": [
      "/Users/aaryanpagar/Library/Python/3.11/lib/python/site-packages/google/auth/_default.py:76: UserWarning: Your application has authenticated using end user credentials from Google Cloud SDK without a quota project. You might receive a \"quota exceeded\" or \"API not enabled\" error. See the following page for troubleshooting: https://cloud.google.com/docs/authentication/adc-troubleshooting/user-creds. \n",
      "  warnings.warn(_CLOUD_SDK_CREDENTIALS_WARNING)\n"
     ]
    }
   ],
   "source": [
    "import os\n",
    "import sys\n",
    "\n",
    "backend_path = os.path.abspath(os.path.join(os.getcwd(), '../backend'))\n",
    "sys.path.append(backend_path)\n",
    "from app.internal.firebase import db"
   ]
  },
  {
   "cell_type": "code",
   "execution_count": 53,
   "metadata": {},
   "outputs": [
    {
     "name": "stdout",
     "output_type": "stream",
     "text": [
      "NIP IND ETF JUNIOR BEES\n",
      "{'created_at': '2024-05-05T12:20:40.104545Z', 'exchange': 'NSE', 'lot_size': 1, 'upstox_instrument_key': 'NSE_EQ|INF732E01045', 'exchange_token': 10939, 'updated_at': '2024-05-05T12:20:40.104547Z', 'ticker': 'JUNIORBEES', 'instrument_type': 'EQUITY', 'name': 'NIP IND ETF JUNIOR BEES'}\n",
      "[<google.cloud.firestore_v1.base_document.DocumentSnapshot object at 0x105fdc6d0>]\n"
     ]
    },
    {
     "name": "stderr",
     "output_type": "stream",
     "text": [
      "/var/folders/lq/280gf8ld14v161g6ngpdjjnc0000gn/T/ipykernel_8262/3214706254.py:5: UserWarning: Detected filter using positional arguments. Prefer using the 'filter' keyword argument instead.\n",
      "  docs = await db.collection(\"tickers\").where(\"name\", \">=\", query).where(\"name\", \"<=\", query + '\\uf8ff').get()\n"
     ]
    }
   ],
   "source": [
    "query = \"Nip IND ETF Junior BeES\".upper()\n",
    "print(query)\n",
    "\n",
    "\n",
    "docs = await db.collection(\"tickers\").where(\"name\", \">=\", query).where(\"name\", \"<=\", query + '\\uf8ff').get()\n",
    "# doc = await db.collection(\"tickers\").where(\"ticker\", \"<=\", query).where(\"ticker\", \">=\", query + \"~\").get()\n",
    "\n",
    "if docs:\n",
    "    print(docs[0].to_dict())\n",
    "\n",
    "print(docs)"
   ]
  },
  {
   "cell_type": "code",
   "execution_count": 61,
   "metadata": {},
   "outputs": [
    {
     "name": "stdout",
     "output_type": "stream",
     "text": [
      "2024-05-05\n"
     ]
    }
   ],
   "source": [
    "from datetime import datetime\n",
    "date = datetime.now()\n",
    "print(date.strftime(\"%Y-%m-%d\"))"
   ]
  },
  {
   "cell_type": "code",
   "execution_count": 62,
   "metadata": {},
   "outputs": [],
   "source": [
    "def format_date_path(date: datetime) -> str:\n",
    "    return date.strftime(\"%Y-%m-%d\")"
   ]
  },
  {
   "cell_type": "code",
   "execution_count": 5,
   "metadata": {},
   "outputs": [
    {
     "name": "stderr",
     "output_type": "stream",
     "text": [
      "/var/folders/lq/280gf8ld14v161g6ngpdjjnc0000gn/T/ipykernel_52500/2471255407.py:31: PydanticDeprecatedSince20: Pydantic V1 style `@validator` validators are deprecated. You should migrate to Pydantic V2 style `@field_validator` validators, see the migration guide for more details. Deprecated in Pydantic V2.0 to be removed in V3.0. See Pydantic V2 Migration Guide at https://errors.pydantic.dev/2.6/migration/\n",
      "  @validator(\"daily\", pre=True, allow_reuse=True)\n"
     ]
    }
   ],
   "source": [
    "from datetime import datetime\n",
    "from typing import Dict, Optional, Annotated\n",
    "from pydantic import BaseModel, Field, validator, StringConstraints\n",
    "\n",
    "def format_date_path(date: datetime) -> str:\n",
    "    try:\n",
    "        return date.strftime(\"%Y-%m-%d\")\n",
    "    except:\n",
    "        raise ValueError(f\"Invalid date format {date}\")\n",
    "        \n",
    "def validate_date_path(date: str):\n",
    "    try:\n",
    "        datetime.strptime(date, \"%Y-%m-%d\")\n",
    "    except:\n",
    "        raise ValueError(f\"Invalid date format {date}\")\n",
    "\n",
    "class CandleBase(BaseModel):\n",
    "    open: float\n",
    "    high: float\n",
    "    low: float\n",
    "    close: float\n",
    "    volume: int\n",
    "    open_interest: Optional[int] = None\n",
    "\n",
    "class MonthlyCandleBase(BaseModel):\n",
    "    month: Annotated[str, StringConstraints(pattern=r\"^(0[1-9]|1[0-2])$\")]\n",
    "    year: Annotated[str, StringConstraints(pattern=r\"^(19\\d{2}|20\\d{2})$\")]\n",
    "    daily: Dict[str, CandleBase] = Field(default_factory=dict)\n",
    "    monthly: Optional[CandleBase] = None\n",
    "\n",
    "    @validator(\"daily\", pre=True, allow_reuse=True)\n",
    "    def validate_daily(cls, v):\n",
    "        for key in v:\n",
    "            validate_date_path(key)\n",
    "        return v"
   ]
  },
  {
   "cell_type": "code",
   "execution_count": 29,
   "metadata": {},
   "outputs": [
    {
     "data": {
      "text/plain": [
       "{'2016-01-01': {'open': 864.55,\n",
       "  'high': 871.0,\n",
       "  'low': 860.2,\n",
       "  'close': 867.45,\n",
       "  'volume': 175063,\n",
       "  'open_interest': 0},\n",
       " '2016-01-04': {'open': 868.05,\n",
       "  'high': 879.0,\n",
       "  'low': 865.0,\n",
       "  'close': 870.6,\n",
       "  'volume': 274274,\n",
       "  'open_interest': 0},\n",
       " '2016-01-05': {'open': 871.0,\n",
       "  'high': 878.0,\n",
       "  'low': 868.2,\n",
       "  'close': 871.0,\n",
       "  'volume': 442613,\n",
       "  'open_interest': 0},\n",
       " '2016-01-06': {'open': 871.7,\n",
       "  'high': 884.7,\n",
       "  'low': 855.1,\n",
       "  'close': 861.8,\n",
       "  'volume': 251918,\n",
       "  'open_interest': 0},\n",
       " '2016-01-07': {'open': 857.3,\n",
       "  'high': 859.5,\n",
       "  'low': 835.2,\n",
       "  'close': 838.25,\n",
       "  'volume': 180042,\n",
       "  'open_interest': 0},\n",
       " '2016-01-08': {'open': 846.0,\n",
       "  'high': 852.75,\n",
       "  'low': 825.3,\n",
       "  'close': 845.35,\n",
       "  'volume': 210505,\n",
       "  'open_interest': 0},\n",
       " '2016-01-11': {'open': 840.0,\n",
       "  'high': 845.9,\n",
       "  'low': 828.9,\n",
       "  'close': 841.25,\n",
       "  'volume': 126301,\n",
       "  'open_interest': 0},\n",
       " '2016-01-12': {'open': 841.85,\n",
       "  'high': 851.8,\n",
       "  'low': 831.85,\n",
       "  'close': 834.8,\n",
       "  'volume': 124804,\n",
       "  'open_interest': 0},\n",
       " '2016-01-13': {'open': 837.0,\n",
       "  'high': 842.7,\n",
       "  'low': 806.0,\n",
       "  'close': 835.05,\n",
       "  'volume': 216552,\n",
       "  'open_interest': 0},\n",
       " '2016-01-14': {'open': 831.0,\n",
       "  'high': 831.0,\n",
       "  'low': 808.0,\n",
       "  'close': 816.7,\n",
       "  'volume': 304223,\n",
       "  'open_interest': 0},\n",
       " '2016-01-15': {'open': 819.0,\n",
       "  'high': 823.75,\n",
       "  'low': 810.2,\n",
       "  'close': 813.65,\n",
       "  'volume': 147296,\n",
       "  'open_interest': 0},\n",
       " '2016-01-18': {'open': 805.5,\n",
       "  'high': 810.65,\n",
       "  'low': 774.15,\n",
       "  'close': 787.95,\n",
       "  'volume': 250620,\n",
       "  'open_interest': 0},\n",
       " '2016-01-19': {'open': 791.15,\n",
       "  'high': 812.1,\n",
       "  'low': 776.15,\n",
       "  'close': 808.95,\n",
       "  'volume': 190807,\n",
       "  'open_interest': 0},\n",
       " '2016-01-20': {'open': 804.85,\n",
       "  'high': 804.85,\n",
       "  'low': 776.0,\n",
       "  'close': 794.9,\n",
       "  'volume': 198332,\n",
       "  'open_interest': 0}}"
      ]
     },
     "execution_count": 29,
     "metadata": {},
     "output_type": "execute_result"
    }
   ],
   "source": [
    "ticker = \"100\"\n",
    "date_from = \"2015-01-21\"\n",
    "date_to = \"2016-01-20\"\n",
    "params = {\"start_date\": date_from, \"end_date\": date_to}\n",
    "resp = client.get(f\"/tickers/{ticker}/candles\", params=params)\n",
    "\n",
    "resp.json()"
   ]
  },
  {
   "cell_type": "code",
   "execution_count": 4,
   "metadata": {},
   "outputs": [
    {
     "data": {
      "text/plain": [
       "True"
      ]
     },
     "execution_count": 4,
     "metadata": {},
     "output_type": "execute_result"
    }
   ],
   "source": [
    "date_from = \"2024-01-01\"\n",
    "date_to = \"2024-02-02\"\n",
    "date_from <= date_to"
   ]
  },
  {
   "cell_type": "code",
   "execution_count": 11,
   "metadata": {},
   "outputs": [
    {
     "data": {
      "text/plain": [
       "{'2018-07-17': {'smallcase': 100.0,\n",
       "  'benchmark': 100.0,\n",
       "  'kelly': None,\n",
       "  'rebalance_occured': True},\n",
       " '2018-07-18': {'smallcase': 99.33,\n",
       "  'benchmark': 99.63,\n",
       "  'kelly': None,\n",
       "  'rebalance_occured': False},\n",
       " '2018-07-19': {'smallcase': 99.29,\n",
       "  'benchmark': 99.37,\n",
       "  'kelly': None,\n",
       "  'rebalance_occured': False},\n",
       " '2018-07-20': {'smallcase': 99.52,\n",
       "  'benchmark': 99.87,\n",
       "  'kelly': None,\n",
       "  'rebalance_occured': False},\n",
       " '2018-07-23': {'smallcase': 100.22,\n",
       "  'benchmark': 100.68,\n",
       "  'kelly': None,\n",
       "  'rebalance_occured': False},\n",
       " '2018-07-24': {'smallcase': 100.5,\n",
       "  'benchmark': 101.41,\n",
       "  'kelly': None,\n",
       "  'rebalance_occured': False},\n",
       " '2018-07-25': {'smallcase': 100.55,\n",
       "  'benchmark': 101.38,\n",
       "  'kelly': None,\n",
       "  'rebalance_occured': False},\n",
       " '2018-07-26': {'smallcase': 100.63,\n",
       "  'benchmark': 101.78,\n",
       "  'kelly': None,\n",
       "  'rebalance_occured': False},\n",
       " '2018-07-27': {'smallcase': 100.77,\n",
       "  'benchmark': 102.77,\n",
       "  'kelly': None,\n",
       "  'rebalance_occured': False},\n",
       " '2018-07-30': {'smallcase': 101.1,\n",
       "  'benchmark': 103.24,\n",
       "  'kelly': None,\n",
       "  'rebalance_occured': False},\n",
       " '2018-07-31': {'smallcase': 101.09,\n",
       "  'benchmark': 103.59,\n",
       "  'kelly': None,\n",
       "  'rebalance_occured': False},\n",
       " '2018-08-01': {'smallcase': 101.21,\n",
       "  'benchmark': 103.55,\n",
       "  'kelly': None,\n",
       "  'rebalance_occured': False},\n",
       " '2018-08-02': {'smallcase': 100.93,\n",
       "  'benchmark': 102.71,\n",
       "  'kelly': None,\n",
       "  'rebalance_occured': False},\n",
       " '2018-08-03': {'smallcase': 101.11,\n",
       "  'benchmark': 103.72,\n",
       "  'kelly': None,\n",
       "  'rebalance_occured': False},\n",
       " '2018-08-06': {'smallcase': 101.2,\n",
       "  'benchmark': 103.95,\n",
       "  'kelly': None,\n",
       "  'rebalance_occured': False},\n",
       " '2018-08-07': {'smallcase': 101.17,\n",
       "  'benchmark': 103.96,\n",
       "  'kelly': None,\n",
       "  'rebalance_occured': False},\n",
       " '2018-08-08': {'smallcase': 101.3,\n",
       "  'benchmark': 104.46,\n",
       "  'kelly': None,\n",
       "  'rebalance_occured': False},\n",
       " '2018-08-09': {'smallcase': 101.31,\n",
       "  'benchmark': 104.68,\n",
       "  'kelly': None,\n",
       "  'rebalance_occured': False},\n",
       " '2018-08-10': {'smallcase': 101.26,\n",
       "  'benchmark': 104.24,\n",
       "  'kelly': None,\n",
       "  'rebalance_occured': False},\n",
       " '2018-08-13': {'smallcase': 101.2,\n",
       "  'benchmark': 103.51,\n",
       "  'kelly': None,\n",
       "  'rebalance_occured': False},\n",
       " '2018-08-14': {'smallcase': 101.32,\n",
       "  'benchmark': 104.21,\n",
       "  'kelly': None,\n",
       "  'rebalance_occured': False},\n",
       " '2018-08-16': {'smallcase': 100.91,\n",
       "  'benchmark': 103.71,\n",
       "  'kelly': None,\n",
       "  'rebalance_occured': False},\n",
       " '2018-08-17': {'smallcase': 101.22,\n",
       "  'benchmark': 104.6,\n",
       "  'kelly': None,\n",
       "  'rebalance_occured': False},\n",
       " '2018-08-20': {'smallcase': 101.53,\n",
       "  'benchmark': 105.41,\n",
       "  'kelly': None,\n",
       "  'rebalance_occured': False},\n",
       " '2018-08-21': {'smallcase': 101.93,\n",
       "  'benchmark': 105.62,\n",
       "  'kelly': None,\n",
       "  'rebalance_occured': False},\n",
       " '2018-08-23': {'smallcase': 102.01,\n",
       "  'benchmark': 105.79,\n",
       "  'kelly': None,\n",
       "  'rebalance_occured': False},\n",
       " '2018-08-24': {'smallcase': 102.05,\n",
       "  'benchmark': 105.57,\n",
       "  'kelly': None,\n",
       "  'rebalance_occured': False},\n",
       " '2018-08-27': {'smallcase': 102.84,\n",
       "  'benchmark': 106.76,\n",
       "  'kelly': None,\n",
       "  'rebalance_occured': False},\n",
       " '2018-08-28': {'smallcase': 103.24,\n",
       "  'benchmark': 107.1,\n",
       "  'kelly': None,\n",
       "  'rebalance_occured': False},\n",
       " '2018-08-29': {'smallcase': 103.29,\n",
       "  'benchmark': 106.84,\n",
       "  'kelly': None,\n",
       "  'rebalance_occured': False},\n",
       " '2018-08-30': {'smallcase': 103.34,\n",
       "  'benchmark': 106.77,\n",
       "  'kelly': None,\n",
       "  'rebalance_occured': False},\n",
       " '2018-08-31': {'smallcase': 103.62,\n",
       "  'benchmark': 106.88,\n",
       "  'kelly': None,\n",
       "  'rebalance_occured': False}}"
      ]
     },
     "execution_count": 11,
     "metadata": {},
     "output_type": "execute_result"
    }
   ],
   "source": [
    "date = \"2024-07-02\"\n",
    "id = \"SCAW_0001\"\n",
    "start_date = \"2016-01-01\"\n",
    "end_date = \"2024-05-20\"\n",
    "params = {\"start_date\": start_date, \"end_date\": end_date}\n",
    "\n",
    "resp = client.get(f\"/smallcases/{id}/indexes\", params=params)\n",
    "resp.json()"
   ]
  },
  {
   "cell_type": "code",
   "execution_count": 13,
   "metadata": {},
   "outputs": [
    {
     "name": "stdout",
     "output_type": "stream",
     "text": [
      "2018-07\n"
     ]
    }
   ],
   "source": [
    "from google.cloud import firestore\n",
    "\n",
    "q = db.collection(\"smallcases/SCAW_0001/constituents\").order_by(\"__name__\").limit(1)\n",
    "\n",
    "docs = await q.get()\n",
    "\n",
    "for doc in docs:\n",
    "    print(doc.id)"
   ]
  },
  {
   "cell_type": "code",
   "execution_count": 18,
   "metadata": {},
   "outputs": [],
   "source": [
    "vol = \"High Volatility\"\n",
    "x = await db.collection(\"smallcases\").get()"
   ]
  },
  {
   "cell_type": "code",
   "execution_count": 43,
   "metadata": {},
   "outputs": [
    {
     "name": "stdout",
     "output_type": "stream",
     "text": [
      "{'name': 'All Weather Investing', 'years': 5.904109589041096, 'constituents': 4, 'strategies': ['assetAllocation', 'quantitative'], 'volatility': 'Low Volatility', 'market': {'small_cap': 0.0, 'mid_cap': 0.0, 'large_cap': 43.40350732}}\n",
      "{'name': 'Dividend Stars', 'years': 8.186301369863013, 'constituents': 11, 'strategies': ['dividend', 'fundamental'], 'volatility': 'Medium Volatility', 'market': {'small_cap': 53.99999999999999, 'market_category': 'Small cap', 'mid_cap': 9.0, 'large_cap': 37.0}}\n",
      "{'name': 'Dividend Aristocrats', 'years': 8.186301369863013, 'constituents': 14, 'strategies': ['dividend', 'fundamental'], 'volatility': 'Medium Volatility', 'market': {'small_cap': 15.364600407341115, 'market_category': 'Mid cap', 'mid_cap': 38.41150101835279, 'large_cap': 46.22389857031129}}\n",
      "{'name': 'Safe Haven', 'years': 7.879452054794521, 'constituents': 13, 'strategies': ['fundamental', 'technical'], 'volatility': 'Medium Volatility', 'market': {'small_cap': 61.538461536, 'market_category': 'Small cap', 'mid_cap': 23.076923076, 'large_cap': 15.384615384}}\n",
      "{'name': 'The Naked Trader', 'years': 7.726027397260274, 'constituents': 14, 'strategies': ['growth', 'value', 'technical'], 'volatility': 'High Volatility', 'market': {'small_cap': 92.85714285900004, 'market_category': 'Small cap', 'mid_cap': 7.1428571430000005, 'large_cap': 0.0}}\n",
      "{'name': 'The PE List', 'years': 7.457534246575342, 'constituents': 15, 'strategies': ['fundamental'], 'volatility': 'Medium Volatility', 'market': {'small_cap': 60.624599993000004, 'market_category': 'Small cap', 'mid_cap': 32.422744848, 'large_cap': 6.952655158}}\n",
      "{'name': 'Growth & Income', 'years': 7.427397260273972, 'constituents': 15, 'strategies': ['growth', 'dividend', 'quality'], 'volatility': 'High Volatility', 'market': {'small_cap': 80.000000004, 'market_category': 'Small cap', 'mid_cap': 20.000000001, 'large_cap': 0.0}}\n",
      "{'name': 'Rising Rural Demand', 'years': 8.186301369863013, 'constituents': 14, 'strategies': ['thematic', 'fundamental'], 'volatility': 'Medium Volatility', 'market': {'small_cap': 31.300192735, 'market_category': 'Large cap', 'mid_cap': 11.217427661000002, 'large_cap': 57.482379604}}\n",
      "{'name': 'Electric Mobility', 'years': 6.5698630136986305, 'constituents': 11, 'strategies': ['thematic', 'fundamental', 'esg'], 'volatility': 'Medium Volatility', 'market': {'small_cap': 31.683217236, 'market_category': 'Mid cap', 'mid_cap': 30.926486076, 'large_cap': 37.390296690999996}}\n",
      "{'name': 'Realty Tracker', 'years': 8.186301369863013, 'constituents': 9, 'strategies': ['sectorTracker', 'quantamental'], 'volatility': 'High Volatility', 'market': {'small_cap': 25.584971676000002, 'market_category': 'Mid cap', 'mid_cap': 59.91291991300001, 'large_cap': 14.50210841}}\n",
      "{'name': 'House of Tata', 'years': 3.3205479452054796, 'constituents': 9, 'strategies': [], 'volatility': 'High Volatility', 'market': {'small_cap': 8.773352174, 'market_category': 'Large cap', 'mid_cap': 20.326665351, 'large_cap': 70.899982468}}\n",
      "{'name': 'House of Murugappa', 'years': 1.906849315068493, 'constituents': 5, 'strategies': ['sectorTracker'], 'volatility': 'High Volatility', 'market': {'small_cap': 17.95650252, 'market_category': 'Mid cap', 'mid_cap': 62.158452110000006, 'large_cap': 19.88504537}}\n",
      "0.0\n"
     ]
    }
   ],
   "source": [
    "from datetime import datetime\n",
    "av = 0\n",
    "today = datetime.now()\n",
    "for doc in x:\n",
    "    smallcase = doc.to_dict()\n",
    "    ratios = await db.document(f\"smallcases/{doc.id}/statistics/2024-05\").get()\n",
    "    ratios = ratios.to_dict()\n",
    "\n",
    "    launch_date = datetime.strptime(smallcase[\"launch_date\"].split(\"T\")[0], \"%Y-%m-%d\")\n",
    "    years = (today - launch_date).days / 365\n",
    "    p = {}\n",
    "    p[\"name\"] = smallcase[\"name\"]\n",
    "    p[\"years\"] = years\n",
    "    p[\"constituents\"] = smallcase[\"constituent_count\"]\n",
    "    p[\"strategies\"] = smallcase[\"investment_strategies\"]\n",
    "    p[\"volatility\"] = smallcase[\"volatility\"]\n",
    "    p[\"market\"] = ratios[\"weightage\"]\n",
    "    print(p)\n",
    "\n",
    "\n",
    "print(av/len(x))"
   ]
  },
  {
   "cell_type": "code",
   "execution_count": 2,
   "metadata": {},
   "outputs": [
    {
     "data": {
      "text/plain": [
       "b'b8b0a3a1-7a0b-4b0e-9d8f-9f4a6b5f7d6b|b3b0a3d1-7a0c-4b0m-9d8f-8f4a6b5f7d6b'"
      ]
     },
     "execution_count": 2,
     "metadata": {},
     "output_type": "execute_result"
    }
   ],
   "source": [
    "\n",
    "uuid1 = \"b8b0a3a1-7a0b-4b0e-9d8f-9f4a6b5f7d6b\"\n",
    "uuid2 = \"b3b0a3d1-7a0c-4b0m-9d8f-8f4a6b5f7d6b\"\n",
    "data = (str(uuid1) + \"|\" + str(uuid2)).encode()\n",
    "data"
   ]
  },
  {
   "cell_type": "code",
   "execution_count": 9,
   "metadata": {},
   "outputs": [
    {
     "data": {
      "text/plain": [
       "True"
      ]
     },
     "execution_count": 9,
     "metadata": {},
     "output_type": "execute_result"
    }
   ],
   "source": [
    "import bcrypt\n",
    "def hash_password(password: str) -> str:\n",
    "    return bcrypt.hashpw(password.encode(\"utf-8\"), bcrypt.gensalt())\n",
    "\n",
    "def verify_password(password: str, hashed: str) -> bool:\n",
    "    return bcrypt.checkpw(password.encode(\"utf-8\"), hashed)\n",
    "\n",
    "p = \"password\"\n",
    "\n",
    "h = hash_password(p)\n",
    "h\n",
    "\n",
    "x = verify_password(p, h)\n",
    "x"
   ]
  },
  {
   "cell_type": "code",
   "execution_count": 1,
   "metadata": {},
   "outputs": [],
   "source": [
    "# from firebase_admin import initialize_app, auth\n",
    "\n",
    "# app = initialize_app()\n",
    "# uid = \"\"\n",
    "# auth.set_custom_user_claims(uid, {\"is_admin\": True})"
   ]
  },
  {
   "cell_type": "code",
   "execution_count": 2,
   "metadata": {},
   "outputs": [
    {
     "data": {
      "text/plain": [
       "200"
      ]
     },
     "execution_count": 2,
     "metadata": {},
     "output_type": "execute_result"
    }
   ],
   "source": [
    "import requests\n",
    "\n",
    "url = \"http://localhost:2021\"\n",
    "\n",
    "resp = requests.get(url, timeout=3)\n",
    "resp.status_code"
   ]
  },
  {
   "cell_type": "code",
   "execution_count": null,
   "metadata": {},
   "outputs": [],
   "source": []
  }
 ],
 "metadata": {
  "kernelspec": {
   "display_name": "Python 3",
   "language": "python",
   "name": "python3"
  },
  "language_info": {
   "codemirror_mode": {
    "name": "ipython",
    "version": 3
   },
   "file_extension": ".py",
   "mimetype": "text/x-python",
   "name": "python",
   "nbconvert_exporter": "python",
   "pygments_lexer": "ipython3",
   "version": "3.11.1"
  }
 },
 "nbformat": 4,
 "nbformat_minor": 2
}
